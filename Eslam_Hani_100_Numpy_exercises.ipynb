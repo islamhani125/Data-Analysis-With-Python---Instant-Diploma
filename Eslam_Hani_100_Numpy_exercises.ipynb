{
  "cells": [
    {
      "cell_type": "markdown",
      "id": "3c1222ff",
      "metadata": {
        "id": "3c1222ff"
      },
      "source": [
        "#### 1. Import the numpy package under the name `np` (★☆☆)"
      ]
    },
    {
      "cell_type": "code",
      "execution_count": 81,
      "id": "f52e6a0b",
      "metadata": {
        "id": "f52e6a0b"
      },
      "outputs": [],
      "source": [
        "import numpy as np"
      ]
    },
    {
      "cell_type": "markdown",
      "id": "9d9f4753",
      "metadata": {
        "id": "9d9f4753"
      },
      "source": [
        "#### 2. Print the numpy version and the configuration (★☆☆)"
      ]
    },
    {
      "cell_type": "code",
      "execution_count": 82,
      "id": "b7fa5fa1",
      "metadata": {
        "id": "b7fa5fa1",
        "colab": {
          "base_uri": "https://localhost:8080/",
          "height": 36
        },
        "outputId": "5c003354-2c9c-4c0a-f310-3bdd48ba5dc6"
      },
      "outputs": [
        {
          "output_type": "execute_result",
          "data": {
            "text/plain": [
              "'1.23.5'"
            ],
            "application/vnd.google.colaboratory.intrinsic+json": {
              "type": "string"
            }
          },
          "metadata": {},
          "execution_count": 82
        }
      ],
      "source": [
        "np.__version__"
      ]
    },
    {
      "cell_type": "markdown",
      "id": "3e4c23c6",
      "metadata": {
        "id": "3e4c23c6"
      },
      "source": [
        "#### 3. Create a null vector of size 10 (★☆☆)"
      ]
    },
    {
      "cell_type": "code",
      "execution_count": 83,
      "id": "083c5c46",
      "metadata": {
        "id": "083c5c46",
        "colab": {
          "base_uri": "https://localhost:8080/"
        },
        "outputId": "23600393-4813-4d9b-b45f-93d4d5994e2c"
      },
      "outputs": [
        {
          "output_type": "execute_result",
          "data": {
            "text/plain": [
              "array([3.0e-323, 2.5e-323, 0.0e+000, 1.5e-323, 3.0e-323, 2.0e-323,\n",
              "       2.0e-323, 2.0e-323, 1.5e-323, 3.0e-323])"
            ]
          },
          "metadata": {},
          "execution_count": 83
        }
      ],
      "source": [
        "np.empty(10)"
      ]
    },
    {
      "cell_type": "markdown",
      "id": "c38bbe82",
      "metadata": {
        "id": "c38bbe82"
      },
      "source": [
        "#### 4. How to find the memory size of any array (★☆☆)"
      ]
    },
    {
      "cell_type": "code",
      "execution_count": 84,
      "id": "02b04021",
      "metadata": {
        "id": "02b04021",
        "colab": {
          "base_uri": "https://localhost:8080/"
        },
        "outputId": "7899d576-b588-4762-d29d-f2e437d25180"
      },
      "outputs": [
        {
          "output_type": "execute_result",
          "data": {
            "text/plain": [
              "80"
            ]
          },
          "metadata": {},
          "execution_count": 84
        }
      ],
      "source": [
        "np.empty(10).size * np.empty(10).itemsize\n",
        "np.empty(10).nbytes"
      ]
    },
    {
      "cell_type": "markdown",
      "id": "67f893d4",
      "metadata": {
        "id": "67f893d4"
      },
      "source": [
        "#### 5. How to get the documentation of the numpy add function from the command line? (★☆☆)"
      ]
    },
    {
      "cell_type": "code",
      "execution_count": 85,
      "id": "40e6b70d",
      "metadata": {
        "id": "40e6b70d"
      },
      "outputs": [],
      "source": [
        "np.add?"
      ]
    },
    {
      "cell_type": "markdown",
      "id": "e0c739c6",
      "metadata": {
        "id": "e0c739c6"
      },
      "source": [
        "#### 6. Create a null vector of size 10 but the fifth value which is 1 (★☆☆)"
      ]
    },
    {
      "cell_type": "code",
      "execution_count": 86,
      "id": "bcceacf7",
      "metadata": {
        "id": "bcceacf7",
        "colab": {
          "base_uri": "https://localhost:8080/"
        },
        "outputId": "719e17f6-7c5e-4fc0-ef83-36e72309cfa3"
      },
      "outputs": [
        {
          "output_type": "stream",
          "name": "stdout",
          "text": [
            "[0. 0. 0. 0. 1. 0. 0. 0. 0. 0.]\n"
          ]
        }
      ],
      "source": [
        "a=np.zeros(10)\n",
        "a[4] = 1\n",
        "print(a)"
      ]
    },
    {
      "cell_type": "markdown",
      "id": "fbebedab",
      "metadata": {
        "id": "fbebedab"
      },
      "source": [
        "#### 7. Create a vector with values ranging from 10 to 49 (★☆☆)"
      ]
    },
    {
      "cell_type": "code",
      "execution_count": 87,
      "id": "3d117d54",
      "metadata": {
        "id": "3d117d54",
        "colab": {
          "base_uri": "https://localhost:8080/"
        },
        "outputId": "51a6e77a-0d86-4daf-8df3-f2ae83de8d95"
      },
      "outputs": [
        {
          "output_type": "execute_result",
          "data": {
            "text/plain": [
              "array([10, 11, 12, 13, 14, 15, 16, 17, 18, 19, 20, 21, 22, 23, 24, 25, 26,\n",
              "       27, 28, 29, 30, 31, 32, 33, 34, 35, 36, 37, 38, 39, 40, 41, 42, 43,\n",
              "       44, 45, 46, 47, 48, 49])"
            ]
          },
          "metadata": {},
          "execution_count": 87
        }
      ],
      "source": [
        "np.arange(10,50)"
      ]
    },
    {
      "cell_type": "markdown",
      "id": "ad0bff02",
      "metadata": {
        "id": "ad0bff02"
      },
      "source": [
        "#### 8. Reverse a vector (first element becomes last) (★☆☆)"
      ]
    },
    {
      "cell_type": "code",
      "execution_count": 88,
      "id": "22d23470",
      "metadata": {
        "id": "22d23470",
        "colab": {
          "base_uri": "https://localhost:8080/"
        },
        "outputId": "a79f1587-5e81-423c-d107-85dc2bca64a8"
      },
      "outputs": [
        {
          "output_type": "stream",
          "name": "stdout",
          "text": [
            "[0 1 2 3 4 5]\n",
            "[5 4 3 2 1 0]\n"
          ]
        }
      ],
      "source": [
        "arr=np.arange(6)\n",
        "print(arr)\n",
        "rev=np.flip(arr)\n",
        "print(rev)"
      ]
    },
    {
      "cell_type": "markdown",
      "id": "9f59d7e1",
      "metadata": {
        "id": "9f59d7e1"
      },
      "source": [
        "#### 9. Create a 3x3 matrix with values ranging from 0 to 8 (★☆☆)"
      ]
    },
    {
      "cell_type": "code",
      "execution_count": 89,
      "id": "7449e82d",
      "metadata": {
        "id": "7449e82d",
        "colab": {
          "base_uri": "https://localhost:8080/"
        },
        "outputId": "b5673c8a-0d11-4c33-ebbf-f5d84090e463"
      },
      "outputs": [
        {
          "output_type": "execute_result",
          "data": {
            "text/plain": [
              "array([[0, 1, 2],\n",
              "       [3, 4, 5],\n",
              "       [6, 7, 8]])"
            ]
          },
          "metadata": {},
          "execution_count": 89
        }
      ],
      "source": [
        "n = np.arange(0,9).reshape(3,3)\n",
        "n"
      ]
    },
    {
      "cell_type": "markdown",
      "id": "f374c4cf",
      "metadata": {
        "id": "f374c4cf"
      },
      "source": [
        "#### 10. Find indices of non-zero elements from [1,2,0,0,4,0] (★☆☆)"
      ]
    },
    {
      "cell_type": "code",
      "execution_count": 90,
      "id": "1a84bed8",
      "metadata": {
        "id": "1a84bed8",
        "colab": {
          "base_uri": "https://localhost:8080/"
        },
        "outputId": "c8fcf720-7e8e-4489-eb4d-5880de569ac0"
      },
      "outputs": [
        {
          "output_type": "execute_result",
          "data": {
            "text/plain": [
              "(array([0, 1, 4]),)"
            ]
          },
          "metadata": {},
          "execution_count": 90
        }
      ],
      "source": [
        "np.nonzero(np.array([1,2,0,0,4,0]))"
      ]
    },
    {
      "cell_type": "markdown",
      "id": "9c4707f5",
      "metadata": {
        "id": "9c4707f5"
      },
      "source": [
        "#### 11. Create a 3x3 identity matrix (★☆☆)"
      ]
    },
    {
      "cell_type": "code",
      "execution_count": 91,
      "id": "29dc1fd3",
      "metadata": {
        "id": "29dc1fd3",
        "colab": {
          "base_uri": "https://localhost:8080/"
        },
        "outputId": "c9b68342-585f-4338-cd3e-d7c1e6f315df"
      },
      "outputs": [
        {
          "output_type": "execute_result",
          "data": {
            "text/plain": [
              "array([[1., 0., 0.],\n",
              "       [0., 1., 0.],\n",
              "       [0., 0., 1.]])"
            ]
          },
          "metadata": {},
          "execution_count": 91
        }
      ],
      "source": [
        "np.eye(3)"
      ]
    },
    {
      "cell_type": "markdown",
      "id": "3bac294a",
      "metadata": {
        "id": "3bac294a"
      },
      "source": [
        "#### 12. Create a 3x3x3 array with random values (★☆☆)"
      ]
    },
    {
      "cell_type": "code",
      "execution_count": 92,
      "id": "eadfae67",
      "metadata": {
        "id": "eadfae67",
        "colab": {
          "base_uri": "https://localhost:8080/"
        },
        "outputId": "673b3421-c9cb-45e4-8995-34cc28de2a87"
      },
      "outputs": [
        {
          "output_type": "execute_result",
          "data": {
            "text/plain": [
              "array([[[46, 88, 81],\n",
              "        [37, 25, 77],\n",
              "        [72,  9, 20]],\n",
              "\n",
              "       [[80, 69, 79],\n",
              "        [47, 64, 82],\n",
              "        [99, 88, 49]],\n",
              "\n",
              "       [[29, 19, 19],\n",
              "        [14, 39, 32],\n",
              "        [65,  9, 57]]])"
            ]
          },
          "metadata": {},
          "execution_count": 92
        }
      ],
      "source": [
        "n = np.random.randint(0,101,27).reshape(3,3,3)\n",
        "n"
      ]
    },
    {
      "cell_type": "markdown",
      "id": "466c2989",
      "metadata": {
        "id": "466c2989"
      },
      "source": [
        "#### 13. Create a 10x10 array with random values and find the minimum and maximum values (★☆☆)"
      ]
    },
    {
      "cell_type": "code",
      "execution_count": 93,
      "id": "9a74dbfc",
      "metadata": {
        "id": "9a74dbfc",
        "colab": {
          "base_uri": "https://localhost:8080/"
        },
        "outputId": "ff78ec97-ea53-4ad1-c772-3c2c7a6b6cbf"
      },
      "outputs": [
        {
          "output_type": "stream",
          "name": "stdout",
          "text": [
            "[[ 32  31  74  23  35  75  55  28  34   0]\n",
            " [  0  36  53   5  38  17  79   4  42  58]\n",
            " [ 31   1  65  41  57  35  11  46  82  91]\n",
            " [  0  14  99  53  12  42  84  75  68   6]\n",
            " [ 68  47   3  76 100  52  78  15  20  99]\n",
            " [ 58  23  79  13  85  48  49  69  41  35]\n",
            " [ 64  95  69  94   0  50  36  34  48  93]\n",
            " [  3  98  42  77  21  73   0  10  43  58]\n",
            " [ 23  59   2  98  62  35  94  67  82  46]\n",
            " [ 99  20  81  50  27  14  41  58  65  36]]\n",
            "Minimum value:  0\n",
            "Maximum value:  100\n"
          ]
        }
      ],
      "source": [
        "n = np.random.randint(0,101,100).reshape(10,10)\n",
        "print(n)\n",
        "\n",
        "print(\"Minimum value: \",np.min(n))\n",
        "print(\"Maximum value: \",np.max(n))"
      ]
    },
    {
      "cell_type": "markdown",
      "id": "53a8edb2",
      "metadata": {
        "id": "53a8edb2"
      },
      "source": [
        "#### 14. Create a random vector of size 30 and find the mean value (★☆☆)"
      ]
    },
    {
      "cell_type": "code",
      "execution_count": 94,
      "id": "6691530b",
      "metadata": {
        "id": "6691530b",
        "colab": {
          "base_uri": "https://localhost:8080/"
        },
        "outputId": "87f7d079-9447-4c67-e685-5adb2120c6f4"
      },
      "outputs": [
        {
          "output_type": "execute_result",
          "data": {
            "text/plain": [
              "array([10, 22, 11,  8, 11,  2, 19, 16,  0, 22,  0,  6, 19, 14, 10, 19, 24,\n",
              "       28,  8, 13, 30, 24, 29,  2,  3, 30,  2, 11, 13, 16])"
            ]
          },
          "metadata": {},
          "execution_count": 94
        }
      ],
      "source": [
        "v = np.random.randint(0,31,30)\n",
        "v"
      ]
    },
    {
      "cell_type": "code",
      "source": [
        "mean_v = np.mean(v)\n",
        "mean_v"
      ],
      "metadata": {
        "colab": {
          "base_uri": "https://localhost:8080/"
        },
        "id": "y4Bw9QavNe1V",
        "outputId": "da68cb5d-252f-49e8-83f6-887a7ba09d60"
      },
      "id": "y4Bw9QavNe1V",
      "execution_count": 95,
      "outputs": [
        {
          "output_type": "execute_result",
          "data": {
            "text/plain": [
              "14.066666666666666"
            ]
          },
          "metadata": {},
          "execution_count": 95
        }
      ]
    },
    {
      "cell_type": "markdown",
      "id": "cbaad31c",
      "metadata": {
        "id": "cbaad31c"
      },
      "source": [
        "#### 15. Create a 2d array with 1 on the border and 0 inside (★☆☆)"
      ]
    },
    {
      "cell_type": "code",
      "execution_count": 96,
      "id": "ad8308e3",
      "metadata": {
        "id": "ad8308e3",
        "colab": {
          "base_uri": "https://localhost:8080/"
        },
        "outputId": "1992c929-e6c5-40e5-fe9e-99505aa67d2b"
      },
      "outputs": [
        {
          "output_type": "execute_result",
          "data": {
            "text/plain": [
              "array([[1., 1., 1., 1., 1., 1., 1., 1., 1., 1.],\n",
              "       [1., 0., 0., 0., 0., 0., 0., 0., 0., 1.],\n",
              "       [1., 0., 0., 0., 0., 0., 0., 0., 0., 1.],\n",
              "       [1., 0., 0., 0., 0., 0., 0., 0., 0., 1.],\n",
              "       [1., 0., 0., 0., 0., 0., 0., 0., 0., 1.],\n",
              "       [1., 0., 0., 0., 0., 0., 0., 0., 0., 1.],\n",
              "       [1., 0., 0., 0., 0., 0., 0., 0., 0., 1.],\n",
              "       [1., 0., 0., 0., 0., 0., 0., 0., 0., 1.],\n",
              "       [1., 0., 0., 0., 0., 0., 0., 0., 0., 1.],\n",
              "       [1., 1., 1., 1., 1., 1., 1., 1., 1., 1.]])"
            ]
          },
          "metadata": {},
          "execution_count": 96
        }
      ],
      "source": [
        "a = np.ones((10,10))\n",
        "a[1:-1,1:-1]=0\n",
        "a"
      ]
    },
    {
      "cell_type": "markdown",
      "id": "c5ecc267",
      "metadata": {
        "id": "c5ecc267"
      },
      "source": [
        "#### 16. How to add a border (filled with 0's) around an existing array? (★☆☆)"
      ]
    },
    {
      "cell_type": "code",
      "execution_count": 97,
      "id": "9d5c78c4",
      "metadata": {
        "id": "9d5c78c4",
        "colab": {
          "base_uri": "https://localhost:8080/"
        },
        "outputId": "39be53a7-270f-4b5e-f87a-5d3360039ff2"
      },
      "outputs": [
        {
          "output_type": "execute_result",
          "data": {
            "text/plain": [
              "array([[0., 0., 0., 0., 0., 0., 0., 0., 0.],\n",
              "       [0., 0., 0., 0., 0., 0., 0., 0., 0.],\n",
              "       [0., 0., 1., 1., 1., 1., 1., 0., 0.],\n",
              "       [0., 0., 1., 1., 1., 1., 1., 0., 0.],\n",
              "       [0., 0., 1., 1., 1., 1., 1., 0., 0.],\n",
              "       [0., 0., 1., 1., 1., 1., 1., 0., 0.],\n",
              "       [0., 0., 1., 1., 1., 1., 1., 0., 0.],\n",
              "       [0., 0., 0., 0., 0., 0., 0., 0., 0.],\n",
              "       [0., 0., 0., 0., 0., 0., 0., 0., 0.]])"
            ]
          },
          "metadata": {},
          "execution_count": 97
        }
      ],
      "source": [
        "a = np.ones((5,5))\n",
        "a = np.pad(a,2)\n",
        "a"
      ]
    },
    {
      "cell_type": "markdown",
      "id": "ef909b72",
      "metadata": {
        "id": "ef909b72"
      },
      "source": [
        "#### 17. What is the result of the following expression? (★☆☆)\n",
        "```python\n",
        "0 * np.nan\n",
        "np.nan == np.nan\n",
        "np.inf > np.nan\n",
        "np.nan - np.nan\n",
        "np.nan in set([np.nan])\n",
        "0.3 == 3 * 0.1\n",
        "```"
      ]
    },
    {
      "cell_type": "code",
      "execution_count": 98,
      "id": "3b4985f2",
      "metadata": {
        "id": "3b4985f2",
        "colab": {
          "base_uri": "https://localhost:8080/"
        },
        "outputId": "9bb4269f-208d-468c-945c-93973f021019"
      },
      "outputs": [
        {
          "output_type": "execute_result",
          "data": {
            "text/plain": [
              "True"
            ]
          },
          "metadata": {},
          "execution_count": 98
        }
      ],
      "source": [
        "True"
      ]
    },
    {
      "cell_type": "markdown",
      "id": "502738ac",
      "metadata": {
        "id": "502738ac"
      },
      "source": [
        "#### 18. Create a 5x5 matrix with values 1,2,3,4 just below the diagonal (★☆☆)"
      ]
    },
    {
      "cell_type": "code",
      "execution_count": 99,
      "id": "faed6e2b",
      "metadata": {
        "id": "faed6e2b",
        "colab": {
          "base_uri": "https://localhost:8080/"
        },
        "outputId": "b332990b-23fe-4565-c107-26e3d6ec6eb8"
      },
      "outputs": [
        {
          "output_type": "stream",
          "name": "stdout",
          "text": [
            "[[0. 0. 0. 0. 0.]\n",
            " [1. 0. 0. 0. 0.]\n",
            " [0. 2. 0. 0. 0.]\n",
            " [0. 0. 3. 0. 0.]\n",
            " [0. 0. 0. 4. 0.]]\n"
          ]
        }
      ],
      "source": [
        "n = np.zeros((5,5))\n",
        "np.fill_diagonal(n[1:],[1,2,3,4])\n",
        "print(n)"
      ]
    },
    {
      "cell_type": "markdown",
      "id": "a65da660",
      "metadata": {
        "id": "a65da660"
      },
      "source": [
        "#### 19. Create a 8x8 matrix and fill it with a checkerboard pattern (★☆☆)"
      ]
    },
    {
      "cell_type": "code",
      "execution_count": 100,
      "id": "ed150400",
      "metadata": {
        "id": "ed150400",
        "colab": {
          "base_uri": "https://localhost:8080/"
        },
        "outputId": "48a47031-0c1c-4652-9fca-b79a463f2c0b"
      },
      "outputs": [
        {
          "output_type": "stream",
          "name": "stdout",
          "text": [
            "[[0. 1. 0. 1. 0. 1. 0. 1.]\n",
            " [1. 0. 1. 0. 1. 0. 1. 0.]\n",
            " [0. 1. 0. 1. 0. 1. 0. 1.]\n",
            " [1. 0. 1. 0. 1. 0. 1. 0.]\n",
            " [0. 1. 0. 1. 0. 1. 0. 1.]\n",
            " [1. 0. 1. 0. 1. 0. 1. 0.]\n",
            " [0. 1. 0. 1. 0. 1. 0. 1.]\n",
            " [1. 0. 1. 0. 1. 0. 1. 0.]]\n"
          ]
        }
      ],
      "source": [
        "n = np.zeros((8,8))\n",
        "n[1::2,::2] = 1\n",
        "n[::2,1::2] = 1\n",
        "print(n)"
      ]
    },
    {
      "cell_type": "markdown",
      "id": "9f7f9c49",
      "metadata": {
        "id": "9f7f9c49"
      },
      "source": [
        "#### 20. Consider a (6,7,8) shape array, what is the index (x,y,z) of the 100th element? (★☆☆)"
      ]
    },
    {
      "cell_type": "code",
      "execution_count": 101,
      "id": "3782b5a9",
      "metadata": {
        "id": "3782b5a9",
        "colab": {
          "base_uri": "https://localhost:8080/"
        },
        "outputId": "533421ee-8058-49dd-e439-4dd2c1c90989"
      },
      "outputs": [
        {
          "output_type": "stream",
          "name": "stdout",
          "text": [
            "Index (x, y, z) of the 100th element: (1, 5, 3)\n"
          ]
        }
      ],
      "source": [
        "shape = (6, 7, 8)\n",
        "total_elements = np.prod(shape)\n",
        "index_100th_element = 99\n",
        "indices = np.unravel_index(index_100th_element, shape)\n",
        "print(\"Index (x, y, z) of the 100th element:\", indices)"
      ]
    },
    {
      "cell_type": "markdown",
      "id": "66bfda35",
      "metadata": {
        "id": "66bfda35"
      },
      "source": [
        "#### 21. Create a checkerboard 8x8 matrix using the tile function (★☆☆)"
      ]
    },
    {
      "cell_type": "code",
      "execution_count": 102,
      "id": "4c07477c",
      "metadata": {
        "id": "4c07477c",
        "colab": {
          "base_uri": "https://localhost:8080/"
        },
        "outputId": "f22d52f6-9950-47a1-b52c-b88090eaa769"
      },
      "outputs": [
        {
          "output_type": "execute_result",
          "data": {
            "text/plain": [
              "array([[0, 1, 0, 1, 0, 1, 0, 1],\n",
              "       [1, 0, 1, 0, 1, 0, 1, 0],\n",
              "       [0, 1, 0, 1, 0, 1, 0, 1],\n",
              "       [1, 0, 1, 0, 1, 0, 1, 0],\n",
              "       [0, 1, 0, 1, 0, 1, 0, 1],\n",
              "       [1, 0, 1, 0, 1, 0, 1, 0],\n",
              "       [0, 1, 0, 1, 0, 1, 0, 1],\n",
              "       [1, 0, 1, 0, 1, 0, 1, 0]])"
            ]
          },
          "metadata": {},
          "execution_count": 102
        }
      ],
      "source": [
        "n = np.array([[0, 1], [1, 0]])\n",
        "n_8x8 = np.tile(n,(4,4))\n",
        "n_8x8"
      ]
    },
    {
      "cell_type": "markdown",
      "id": "d5bcfc08",
      "metadata": {
        "id": "d5bcfc08"
      },
      "source": [
        "#### 22. Normalize a 5x5 random matrix (★☆☆)"
      ]
    },
    {
      "cell_type": "code",
      "execution_count": 103,
      "id": "cea6c993",
      "metadata": {
        "id": "cea6c993",
        "colab": {
          "base_uri": "https://localhost:8080/"
        },
        "outputId": "6a5f2c2d-adb1-4fa1-d99f-0b7243bdc2fb"
      },
      "outputs": [
        {
          "output_type": "execute_result",
          "data": {
            "text/plain": [
              "array([ 1.93132488, -2.07248737,  3.97650439,  4.79177835,  3.35755914,\n",
              "        0.64015033, -1.14150524,  3.10890345,  0.19364611,  3.44489014,\n",
              "        1.41654996,  2.95327807,  1.71273279,  2.41314634,  1.02100004,\n",
              "        4.57174099,  1.25382419,  1.80397873,  4.76630139, -1.69551812,\n",
              "       -1.54097   ,  2.93879342, -1.34624681,  4.88724237,  0.17276204])"
            ]
          },
          "metadata": {},
          "execution_count": 103
        }
      ],
      "source": [
        "n = np.random.normal(1.0,2.0,25)\n",
        "n"
      ]
    },
    {
      "cell_type": "markdown",
      "id": "f9a0911e",
      "metadata": {
        "id": "f9a0911e"
      },
      "source": [
        "#### 23. Create a custom dtype that describes a color as four unsigned bytes (RGBA) (★☆☆)"
      ]
    },
    {
      "cell_type": "code",
      "execution_count": 104,
      "id": "d165044b",
      "metadata": {
        "id": "d165044b",
        "colab": {
          "base_uri": "https://localhost:8080/"
        },
        "outputId": "376db7b6-c053-4827-e95c-d09619856c8f"
      },
      "outputs": [
        {
          "output_type": "stream",
          "name": "stdout",
          "text": [
            "RGBA Color: (255, 0, 0, 128)\n"
          ]
        }
      ],
      "source": [
        "rgba_dtype = np.dtype([('R', np.uint8), ('G', np.uint8), ('B', np.uint8), ('A', np.uint8)])\n",
        "\n",
        "color = np.array((255, 0, 0, 128), dtype=rgba_dtype)\n",
        "\n",
        "red = color['R']\n",
        "green = color['G']\n",
        "blue = color['B']\n",
        "alpha = color['A']\n",
        "\n",
        "print(f\"RGBA Color: ({red}, {green}, {blue}, {alpha})\")\n"
      ]
    },
    {
      "cell_type": "markdown",
      "id": "654805b1",
      "metadata": {
        "id": "654805b1"
      },
      "source": [
        "#### 24. Multiply a 5x3 matrix by a 3x2 matrix (real matrix product) (★☆☆)"
      ]
    },
    {
      "cell_type": "code",
      "execution_count": 105,
      "id": "6a42619f",
      "metadata": {
        "id": "6a42619f",
        "colab": {
          "base_uri": "https://localhost:8080/"
        },
        "outputId": "a9872685-a9bf-4a8c-f16c-ae022d2b39d3"
      },
      "outputs": [
        {
          "output_type": "stream",
          "name": "stdout",
          "text": [
            "[[ 22  28]\n",
            " [ 49  64]\n",
            " [ 76 100]\n",
            " [103 136]\n",
            " [130 172]]\n"
          ]
        }
      ],
      "source": [
        "matrix1 = np.array([[1,2,3],[4,5,6],[7,8,9],[10,11,12],[13,14,15]])\n",
        "matrix2 = np.array([[1,2],[3,4],[5,6]])\n",
        "\n",
        "print(np.dot(matrix1,matrix2))"
      ]
    },
    {
      "cell_type": "markdown",
      "id": "994c25df",
      "metadata": {
        "id": "994c25df"
      },
      "source": [
        "#### 25. Given a 1D array, negate all elements which are between 3 and 8, in place. (★☆☆)"
      ]
    },
    {
      "cell_type": "code",
      "execution_count": 106,
      "id": "e4b39c03",
      "metadata": {
        "id": "e4b39c03",
        "colab": {
          "base_uri": "https://localhost:8080/"
        },
        "outputId": "c4eb6161-5921-4c63-c924-db3baa2aadf5"
      },
      "outputs": [
        {
          "output_type": "stream",
          "name": "stdout",
          "text": [
            "[ 1  2  3 -4 -5 -6 -7  8]\n"
          ]
        }
      ],
      "source": [
        "arr = np.arange(1,9)\n",
        "\n",
        "arr[(arr>3)&(arr<8)] *= -1\n",
        "\n",
        "print(arr)"
      ]
    },
    {
      "cell_type": "markdown",
      "id": "b7d15d1a",
      "metadata": {
        "id": "b7d15d1a"
      },
      "source": [
        "#### 26. What is the output of the following script? (★☆☆)\n",
        "```python\n",
        "# Author: Jake VanderPlas\n",
        "\n",
        "print(sum(range(5),-1))\n",
        "from numpy import *\n",
        "print(sum(range(5),-1))\n",
        "```"
      ]
    },
    {
      "cell_type": "code",
      "execution_count": 107,
      "id": "4c95bc3f",
      "metadata": {
        "id": "4c95bc3f",
        "colab": {
          "base_uri": "https://localhost:8080/"
        },
        "outputId": "f919090d-8f8e-4a96-fb62-2caaf9543a83"
      },
      "outputs": [
        {
          "output_type": "execute_result",
          "data": {
            "text/plain": [
              "10"
            ]
          },
          "metadata": {},
          "execution_count": 107
        }
      ],
      "source": [
        "9\n",
        "10"
      ]
    },
    {
      "cell_type": "markdown",
      "id": "a34f0d08",
      "metadata": {
        "id": "a34f0d08"
      },
      "source": [
        "#### 27. Consider an integer vector Z, which of these expressions are legal? (★☆☆)\n",
        "```python\n",
        "Z**Z\n",
        "2 << Z >> 2\n",
        "Z <- Z\n",
        "1j*Z\n",
        "Z/1/1\n",
        "Z<Z>Z\n",
        "```"
      ]
    },
    {
      "cell_type": "markdown",
      "source": [
        "Z**Z\n",
        "\n",
        "2 << Z >> 2\n",
        "\n",
        "Z <- Z\n",
        "\n",
        "1j*Z\n",
        "\n",
        "Z/1/1"
      ],
      "metadata": {
        "id": "tLKM-lcvf27G"
      },
      "id": "tLKM-lcvf27G"
    },
    {
      "cell_type": "markdown",
      "id": "c34e94bf",
      "metadata": {
        "id": "c34e94bf"
      },
      "source": [
        "#### 28. What are the result of the following expressions? (★☆☆)\n",
        "```python\n",
        "np.array(0) / np.array(0)\n",
        "np.array(0) // np.array(0)\n",
        "np.array([np.nan]).astype(int).astype(float)\n",
        "```"
      ]
    },
    {
      "cell_type": "markdown",
      "source": [
        "nan\n",
        "\n",
        "0\n",
        "\n",
        "array([0.])"
      ],
      "metadata": {
        "id": "RANyfjtugC0t"
      },
      "id": "RANyfjtugC0t"
    },
    {
      "cell_type": "markdown",
      "id": "546f5e7b",
      "metadata": {
        "id": "546f5e7b"
      },
      "source": [
        "#### 29. How to round away from zero a float array ? (★☆☆)"
      ]
    },
    {
      "cell_type": "code",
      "execution_count": 108,
      "id": "f725a6d2",
      "metadata": {
        "id": "f725a6d2",
        "colab": {
          "base_uri": "https://localhost:8080/"
        },
        "outputId": "d3572a0a-b4e1-4e03-c48d-8a530f0bf414"
      },
      "outputs": [
        {
          "output_type": "stream",
          "name": "stdout",
          "text": [
            "[1. 2. 3. 4.]\n"
          ]
        }
      ],
      "source": [
        "arr = np.array([1.4,2.5,3.6,4.1])\n",
        "round = np.floor(arr)\n",
        "print(round)"
      ]
    },
    {
      "cell_type": "markdown",
      "id": "eadca856",
      "metadata": {
        "id": "eadca856"
      },
      "source": [
        "#### 30. How to find common values between two arrays? (★☆☆)"
      ]
    },
    {
      "cell_type": "code",
      "execution_count": 109,
      "id": "e0270b5b",
      "metadata": {
        "id": "e0270b5b",
        "colab": {
          "base_uri": "https://localhost:8080/"
        },
        "outputId": "ff93f483-fbad-458e-9734-5297b787f7b3"
      },
      "outputs": [
        {
          "output_type": "stream",
          "name": "stdout",
          "text": [
            "[3 4 5]\n"
          ]
        }
      ],
      "source": [
        "arr1 = np.array([3, 4, 5, 6, 7])\n",
        "arr2 = np.array([1, 2, 3, 4, 5])\n",
        "common =np.intersect1d(arr1,arr2)\n",
        "print(common)"
      ]
    },
    {
      "cell_type": "markdown",
      "id": "ca16ca22",
      "metadata": {
        "id": "ca16ca22"
      },
      "source": [
        "#### 31. How to ignore all numpy warnings (not recommended)? (★☆☆)"
      ]
    },
    {
      "cell_type": "code",
      "execution_count": 110,
      "id": "7d7208ef",
      "metadata": {
        "id": "7d7208ef"
      },
      "outputs": [],
      "source": [
        "#GOOGLED\n",
        "np.warnings.filterwarnings('ignore')"
      ]
    },
    {
      "cell_type": "markdown",
      "id": "c7871d0d",
      "metadata": {
        "id": "c7871d0d"
      },
      "source": [
        "#### 32. Is the following expressions true? (★☆☆)\n",
        "```python\n",
        "np.sqrt(-1) == np.emath.sqrt(-1)\n",
        "```"
      ]
    },
    {
      "cell_type": "code",
      "execution_count": 111,
      "id": "acc3701a",
      "metadata": {
        "id": "acc3701a",
        "colab": {
          "base_uri": "https://localhost:8080/"
        },
        "outputId": "4eace81e-661b-48bd-a48f-0d784c4c4f4c"
      },
      "outputs": [
        {
          "output_type": "execute_result",
          "data": {
            "text/plain": [
              "True"
            ]
          },
          "metadata": {},
          "execution_count": 111
        }
      ],
      "source": [
        "True"
      ]
    },
    {
      "cell_type": "markdown",
      "id": "e0433e30",
      "metadata": {
        "id": "e0433e30"
      },
      "source": [
        "#### 33. How to get the dates of yesterday, today and tomorrow? (★☆☆)"
      ]
    },
    {
      "cell_type": "code",
      "execution_count": 112,
      "id": "9c4d2152",
      "metadata": {
        "id": "9c4d2152",
        "colab": {
          "base_uri": "https://localhost:8080/"
        },
        "outputId": "5059aff3-8963-4be6-b79a-b724370b8908"
      },
      "outputs": [
        {
          "output_type": "stream",
          "name": "stdout",
          "text": [
            "Yesterday: 2023-10-01\n",
            "Today: 2023-10-02\n",
            "Tomorrow: 2023-10-03\n"
          ]
        }
      ],
      "source": [
        "#GOOGLED\n",
        "from datetime import datetime, timedelta\n",
        "\n",
        "today = datetime.now().date()\n",
        "yesterday = today - timedelta(days=1)\n",
        "tomorrow = today + timedelta(days=1)\n",
        "\n",
        "print(\"Yesterday:\", yesterday)\n",
        "print(\"Today:\", today)\n",
        "print(\"Tomorrow:\", tomorrow)"
      ]
    },
    {
      "cell_type": "markdown",
      "id": "9f52a2ef",
      "metadata": {
        "id": "9f52a2ef"
      },
      "source": [
        "#### 34. How to get all the dates corresponding to the month of July 2016? (★★☆)"
      ]
    },
    {
      "cell_type": "code",
      "execution_count": 113,
      "id": "d6c34dec",
      "metadata": {
        "id": "d6c34dec",
        "colab": {
          "base_uri": "https://localhost:8080/"
        },
        "outputId": "6d2faf5c-fda0-4cf4-c010-1a394771a993"
      },
      "outputs": [
        {
          "output_type": "stream",
          "name": "stdout",
          "text": [
            "['2016-07-01' '2016-07-02' '2016-07-03' '2016-07-04' '2016-07-05'\n",
            " '2016-07-06' '2016-07-07' '2016-07-08' '2016-07-09' '2016-07-10'\n",
            " '2016-07-11' '2016-07-12' '2016-07-13' '2016-07-14' '2016-07-15'\n",
            " '2016-07-16' '2016-07-17' '2016-07-18' '2016-07-19' '2016-07-20'\n",
            " '2016-07-21' '2016-07-22' '2016-07-23' '2016-07-24' '2016-07-25'\n",
            " '2016-07-26' '2016-07-27' '2016-07-28' '2016-07-29' '2016-07-30'\n",
            " '2016-07-31']\n"
          ]
        }
      ],
      "source": [
        "#GOOGLED\n",
        "start_date = np.datetime64('2016-07-01')\n",
        "end_date = np.datetime64('2016-08-01')\n",
        "\n",
        "dates_in_july_2016 = np.arange(start_date, end_date, dtype='datetime64[D]')\n",
        "\n",
        "print(dates_in_july_2016)"
      ]
    },
    {
      "cell_type": "markdown",
      "id": "4a64e059",
      "metadata": {
        "id": "4a64e059"
      },
      "source": [
        "#### 35. How to compute ((A+B)*(-A/2)) in place (without copy)? (★★☆)"
      ]
    },
    {
      "cell_type": "code",
      "execution_count": 114,
      "id": "49267f60",
      "metadata": {
        "id": "49267f60",
        "colab": {
          "base_uri": "https://localhost:8080/"
        },
        "outputId": "492d8251-d35c-4fda-a9b2-d9d03765982e"
      },
      "outputs": [
        {
          "output_type": "execute_result",
          "data": {
            "text/plain": [
              "array([-0.25, -0.75, -1.25])"
            ]
          },
          "metadata": {},
          "execution_count": 114
        }
      ],
      "source": [
        "A = np.array([3.0, 5.0, 7.0])\n",
        "B = np.array([1.0, 2.0, 3.0])\n",
        "\n",
        "np.negative(A, out=A)\n",
        "np.divide(A, 2, out=A)\n",
        "\n",
        "np.add(A, B, out=A)\n",
        "\n",
        "np.multiply(A, (A + B), out=A)"
      ]
    },
    {
      "cell_type": "markdown",
      "id": "8a98c2a8",
      "metadata": {
        "id": "8a98c2a8"
      },
      "source": [
        "#### 36. Extract the integer part of a random array of positive numbers using 4 different methods (★★☆)"
      ]
    },
    {
      "cell_type": "code",
      "execution_count": 115,
      "id": "368130b3",
      "metadata": {
        "id": "368130b3",
        "colab": {
          "base_uri": "https://localhost:8080/"
        },
        "outputId": "c4a42a9f-e409-4c93-aa9c-c92d38560567"
      },
      "outputs": [
        {
          "output_type": "stream",
          "name": "stdout",
          "text": [
            "[93  1 95 44 88 24 67 82  3 76 35 86 61 69 87 43 32 11 84 10 54 37 28  2\n",
            " 27 83 89 23 53 51 46 20 53 29 67 35 39  9 73 41 23  3 46 90 50  3 31  9\n",
            " 10 27 45 71 39 61 85 97 44 34 34 88 33  5 36  0 75 34 69 53 80 62  8 61\n",
            "  1 81 35 91 40 36 48 25 67 35 30 29 33 18 17 93 84  2 69 12 44 66 91 85\n",
            " 39 39 75 22]\n",
            "[93.  1. 95. 44. 88. 24. 67. 82.  3. 76. 35. 86. 61. 69. 87. 43. 32. 11.\n",
            " 84. 10. 54. 37. 28.  2. 27. 83. 89. 23. 53. 51. 46. 20. 53. 29. 67. 35.\n",
            " 39.  9. 73. 41. 23.  3. 46. 90. 50.  3. 31.  9. 10. 27. 45. 71. 39. 61.\n",
            " 85. 97. 44. 34. 34. 88. 33.  5. 36.  0. 75. 34. 69. 53. 80. 62.  8. 61.\n",
            "  1. 81. 35. 91. 40. 36. 48. 25. 67. 35. 30. 29. 33. 18. 17. 93. 84.  2.\n",
            " 69. 12. 44. 66. 91. 85. 39. 39. 75. 22.]\n",
            "[93.  1. 95. 44. 88. 24. 67. 82.  3. 76. 35. 86. 61. 69. 87. 43. 32. 11.\n",
            " 84. 10. 54. 37. 28.  2. 27. 83. 89. 23. 53. 51. 46. 20. 53. 29. 67. 35.\n",
            " 39.  9. 73. 41. 23.  3. 46. 90. 50.  3. 31.  9. 10. 27. 45. 71. 39. 61.\n",
            " 85. 97. 44. 34. 34. 88. 33.  5. 36.  0. 75. 34. 69. 53. 80. 62.  8. 61.\n",
            "  1. 81. 35. 91. 40. 36. 48. 25. 67. 35. 30. 29. 33. 18. 17. 93. 84.  2.\n",
            " 69. 12. 44. 66. 91. 85. 39. 39. 75. 22.]\n",
            "[93  1 95 44 88 24 67 82  3 76 35 86 61 69 87 43 32 11 84 10 54 37 28  2\n",
            " 27 83 89 23 53 51 46 20 53 29 67 35 39  9 73 41 23  3 46 90 50  3 31  9\n",
            " 10 27 45 71 39 61 85 97 44 34 34 88 33  5 36  0 75 34 69 53 80 62  8 61\n",
            "  1 81 35 91 40 36 48 25 67 35 30 29 33 18 17 93 84  2 69 12 44 66 91 85\n",
            " 39 39 75 22]\n",
            "[93  1 95 44 88 24 67 82  3 76 35 86 61 69 87 43 32 11 84 10 54 37 28  2\n",
            " 27 83 89 23 53 51 46 20 53 29 67 35 39  9 73 41 23  3 46 90 50  3 31  9\n",
            " 10 27 45 71 39 61 85 97 44 34 34 88 33  5 36  0 75 34 69 53 80 62  8 61\n",
            "  1 81 35 91 40 36 48 25 67 35 30 29 33 18 17 93 84  2 69 12 44 66 91 85\n",
            " 39 39 75 22]\n"
          ]
        }
      ],
      "source": [
        "rand = np.random.randint(0,101,100)\n",
        "print(rand)\n",
        "\n",
        "meth1 = np.floor(rand)\n",
        "print(meth1)\n",
        "\n",
        "meth2 = np.trunc(rand)\n",
        "print(meth2)\n",
        "\n",
        "meth3 = rand.astype(int)\n",
        "print(meth3)\n",
        "\n",
        "meth4 = np.rint(rand).astype(int)\n",
        "print(meth4)"
      ]
    },
    {
      "cell_type": "markdown",
      "id": "5a2e3d85",
      "metadata": {
        "id": "5a2e3d85"
      },
      "source": [
        "#### 37. Create a 5x5 matrix with row values ranging from 0 to 4 (★★☆)"
      ]
    },
    {
      "cell_type": "code",
      "source": [
        "np.tile?"
      ],
      "metadata": {
        "id": "kLt-pPV_K7aQ"
      },
      "id": "kLt-pPV_K7aQ",
      "execution_count": 116,
      "outputs": []
    },
    {
      "cell_type": "code",
      "execution_count": 117,
      "id": "1d974e8f",
      "metadata": {
        "id": "1d974e8f",
        "colab": {
          "base_uri": "https://localhost:8080/"
        },
        "outputId": "f3dd4c31-274e-4a9f-b763-446f35294de9"
      },
      "outputs": [
        {
          "output_type": "stream",
          "name": "stdout",
          "text": [
            "[[0 1 2 3 4]\n",
            " [0 1 2 3 4]\n",
            " [0 1 2 3 4]\n",
            " [0 1 2 3 4]\n",
            " [0 1 2 3 4]]\n"
          ]
        }
      ],
      "source": [
        "matrix = np.tile(np.arange(5),(5,1))\n",
        "print(matrix)"
      ]
    },
    {
      "cell_type": "markdown",
      "id": "9720e2d5",
      "metadata": {
        "id": "9720e2d5"
      },
      "source": [
        "#### 38. Consider a generator function that generates 10 integers and use it to build an array (★☆☆)"
      ]
    },
    {
      "cell_type": "code",
      "execution_count": 118,
      "id": "e5dd8fc9",
      "metadata": {
        "id": "e5dd8fc9",
        "colab": {
          "base_uri": "https://localhost:8080/"
        },
        "outputId": "c85dc981-a41f-4cde-b642-a0102adffd1d"
      },
      "outputs": [
        {
          "output_type": "execute_result",
          "data": {
            "text/plain": [
              "array([0, 1, 2, 3, 4, 5, 6, 7, 8, 9])"
            ]
          },
          "metadata": {},
          "execution_count": 118
        }
      ],
      "source": [
        "arr = np.arange(10)\n",
        "arr"
      ]
    },
    {
      "cell_type": "markdown",
      "id": "c6f2c912",
      "metadata": {
        "id": "c6f2c912"
      },
      "source": [
        "#### 39. Create a vector of size 10 with values ranging from 0 to 1, both excluded (★★☆)"
      ]
    },
    {
      "cell_type": "code",
      "execution_count": 119,
      "id": "6aaa27d3",
      "metadata": {
        "id": "6aaa27d3",
        "colab": {
          "base_uri": "https://localhost:8080/"
        },
        "outputId": "207f8482-37ae-40f2-f0a8-0e158ecffe2f"
      },
      "outputs": [
        {
          "output_type": "execute_result",
          "data": {
            "text/plain": [
              "array([0.09090909, 0.18181818, 0.27272727, 0.36363636, 0.45454545,\n",
              "       0.54545455, 0.63636364, 0.72727273, 0.81818182, 0.90909091])"
            ]
          },
          "metadata": {},
          "execution_count": 119
        }
      ],
      "source": [
        "v = np.arange(1, 11) / 11\n",
        "v"
      ]
    },
    {
      "cell_type": "markdown",
      "id": "a36d6ee4",
      "metadata": {
        "id": "a36d6ee4"
      },
      "source": [
        "#### 40. Create a random vector of size 10 and sort it (★★☆)"
      ]
    },
    {
      "cell_type": "code",
      "execution_count": 120,
      "id": "e589d216",
      "metadata": {
        "id": "e589d216",
        "colab": {
          "base_uri": "https://localhost:8080/"
        },
        "outputId": "3ee949c4-0e91-40db-b480-1c38fa39ce29"
      },
      "outputs": [
        {
          "output_type": "stream",
          "name": "stdout",
          "text": [
            "[ 2  2  3  4  6  7  8 10 10 10]\n"
          ]
        }
      ],
      "source": [
        "v = np.random.randint(1,11,10)\n",
        "sorted = np.sort(v)\n",
        "print(sorted)"
      ]
    },
    {
      "cell_type": "markdown",
      "id": "0fb4ad68",
      "metadata": {
        "id": "0fb4ad68"
      },
      "source": [
        "#### 41. How to sum a small array faster than np.sum? (★★☆)"
      ]
    },
    {
      "cell_type": "code",
      "execution_count": 121,
      "id": "a1ba05a0",
      "metadata": {
        "id": "a1ba05a0",
        "colab": {
          "base_uri": "https://localhost:8080/"
        },
        "outputId": "11ce3fc2-5a8c-45d2-92a7-288768762805"
      },
      "outputs": [
        {
          "output_type": "stream",
          "name": "stdout",
          "text": [
            "15\n"
          ]
        }
      ],
      "source": [
        "arr = np.array([1, 2, 3, 4, 5])\n",
        "total = sum(arr)\n",
        "print(total)"
      ]
    },
    {
      "cell_type": "markdown",
      "id": "024ac365",
      "metadata": {
        "id": "024ac365"
      },
      "source": [
        "#### 42. Consider two random array A and B, check if they are equal (★★☆)"
      ]
    },
    {
      "cell_type": "code",
      "execution_count": 122,
      "id": "7db3846d",
      "metadata": {
        "id": "7db3846d",
        "colab": {
          "base_uri": "https://localhost:8080/"
        },
        "outputId": "16c0faf0-eada-4334-f2b1-69dbac161e3d"
      },
      "outputs": [
        {
          "output_type": "stream",
          "name": "stdout",
          "text": [
            "Not equal\n"
          ]
        }
      ],
      "source": [
        "A = np.random.randint(0,11,10)\n",
        "B = np.random.randint(0,11,10)\n",
        "\n",
        "equal = np.array_equal(A,B)\n",
        "\n",
        "if equal:\n",
        "  print(\"Equal\")\n",
        "else:\n",
        "  print(\"Not equal\")"
      ]
    },
    {
      "cell_type": "markdown",
      "id": "c68d2401",
      "metadata": {
        "id": "c68d2401"
      },
      "source": [
        "#### 43. Make an array immutable (read-only) (★★☆)"
      ]
    },
    {
      "cell_type": "code",
      "execution_count": 123,
      "id": "7828539d",
      "metadata": {
        "id": "7828539d",
        "colab": {
          "base_uri": "https://localhost:8080/"
        },
        "outputId": "4b50cfbf-dacc-4328-feae-244b3fbd3d62"
      },
      "outputs": [
        {
          "output_type": "stream",
          "name": "stdout",
          "text": [
            "The array is read-only.\n"
          ]
        }
      ],
      "source": [
        "#GOOGLED\n",
        "import numpy as np\n",
        "\n",
        "arr = np.array([1, 2, 3, 4, 5])\n",
        "\n",
        "arr.flags.writeable = False\n",
        "\n",
        "if arr.flags.writeable:\n",
        "    print(\"The array is mutable.\")\n",
        "else:\n",
        "    print(\"The array is read-only.\")"
      ]
    },
    {
      "cell_type": "markdown",
      "id": "55df6280",
      "metadata": {
        "id": "55df6280"
      },
      "source": [
        "#### 44. Consider a random 10x2 matrix representing cartesian coordinates, convert them to polar coordinates (★★☆)"
      ]
    },
    {
      "cell_type": "code",
      "execution_count": 124,
      "id": "f1c86ea0",
      "metadata": {
        "id": "f1c86ea0",
        "colab": {
          "base_uri": "https://localhost:8080/"
        },
        "outputId": "fd8cfde7-e7ed-4fb5-f9bb-6ffbdc0ede80"
      },
      "outputs": [
        {
          "output_type": "stream",
          "name": "stdout",
          "text": [
            "[[ 9  8]\n",
            " [14 18]\n",
            " [ 1 12]\n",
            " [ 5  1]\n",
            " [11 15]\n",
            " [19  5]\n",
            " [ 4 20]\n",
            " [ 8  9]\n",
            " [14  6]\n",
            " [ 1  9]]\n",
            "[[12.04159458  0.72664234]\n",
            " [22.8035085   0.90975316]\n",
            " [12.04159458  1.48765509]\n",
            " [ 5.09901951  0.19739556]\n",
            " [18.60107524  0.93804749]\n",
            " [19.6468827   0.25732371]\n",
            " [20.39607805  1.37340077]\n",
            " [12.04159458  0.84415399]\n",
            " [15.23154621  0.40489179]\n",
            " [ 9.05538514  1.46013911]]\n"
          ]
        }
      ],
      "source": [
        "#GOOGLED\n",
        "cartesian = np.random.randint(1,21,20).reshape(10,2)\n",
        "\n",
        "x = cartesian[:, 0]\n",
        "y = cartesian[:, 1]\n",
        "\n",
        "r = np.sqrt(x**2 + y**2)\n",
        "theta = np.arctan2(y,x)\n",
        "\n",
        "polar = np.column_stack((r,theta))\n",
        "\n",
        "print(cartesian)\n",
        "print(polar)"
      ]
    },
    {
      "cell_type": "markdown",
      "id": "2f60f1ec",
      "metadata": {
        "id": "2f60f1ec"
      },
      "source": [
        "#### 45. Create random vector of size 10 and replace the maximum value by 0 (★★☆)"
      ]
    },
    {
      "cell_type": "code",
      "execution_count": 125,
      "id": "d9f48f1c",
      "metadata": {
        "id": "d9f48f1c",
        "colab": {
          "base_uri": "https://localhost:8080/"
        },
        "outputId": "86d99831-9bfc-4cbf-aae5-b33659399af7"
      },
      "outputs": [
        {
          "output_type": "stream",
          "name": "stdout",
          "text": [
            "[15 15 11  4  7 13 10 14 17 19]\n",
            "[15 15 11  4  7 13 10 14 17  0]\n"
          ]
        }
      ],
      "source": [
        "v = np.random.randint(0,20,10)\n",
        "print(v)\n",
        "max = np.argmax(v)\n",
        "v[max] = 0\n",
        "print(v)"
      ]
    },
    {
      "cell_type": "markdown",
      "id": "084e8ad4",
      "metadata": {
        "id": "084e8ad4"
      },
      "source": [
        "#### 46. Create a structured array with `x` and `y` coordinates covering the [0,1]x[0,1] area (★★☆)"
      ]
    },
    {
      "cell_type": "code",
      "execution_count": 126,
      "id": "58b47c13",
      "metadata": {
        "id": "58b47c13",
        "colab": {
          "base_uri": "https://localhost:8080/"
        },
        "outputId": "8a2d894f-be2f-4df4-d904-c5384f541779"
      },
      "outputs": [
        {
          "output_type": "stream",
          "name": "stdout",
          "text": [
            "Structured array with x and y coordinates covering [0,1]x[0,1]:\n",
            " [[0.         0.        ]\n",
            " [0.11111111 0.        ]\n",
            " [0.22222222 0.        ]\n",
            " [0.33333333 0.        ]\n",
            " [0.44444444 0.        ]\n",
            " [0.55555556 0.        ]\n",
            " [0.66666667 0.        ]\n",
            " [0.77777778 0.        ]\n",
            " [0.88888889 0.        ]\n",
            " [1.         0.        ]\n",
            " [0.         0.11111111]\n",
            " [0.11111111 0.11111111]\n",
            " [0.22222222 0.11111111]\n",
            " [0.33333333 0.11111111]\n",
            " [0.44444444 0.11111111]\n",
            " [0.55555556 0.11111111]\n",
            " [0.66666667 0.11111111]\n",
            " [0.77777778 0.11111111]\n",
            " [0.88888889 0.11111111]\n",
            " [1.         0.11111111]\n",
            " [0.         0.22222222]\n",
            " [0.11111111 0.22222222]\n",
            " [0.22222222 0.22222222]\n",
            " [0.33333333 0.22222222]\n",
            " [0.44444444 0.22222222]\n",
            " [0.55555556 0.22222222]\n",
            " [0.66666667 0.22222222]\n",
            " [0.77777778 0.22222222]\n",
            " [0.88888889 0.22222222]\n",
            " [1.         0.22222222]\n",
            " [0.         0.33333333]\n",
            " [0.11111111 0.33333333]\n",
            " [0.22222222 0.33333333]\n",
            " [0.33333333 0.33333333]\n",
            " [0.44444444 0.33333333]\n",
            " [0.55555556 0.33333333]\n",
            " [0.66666667 0.33333333]\n",
            " [0.77777778 0.33333333]\n",
            " [0.88888889 0.33333333]\n",
            " [1.         0.33333333]\n",
            " [0.         0.44444444]\n",
            " [0.11111111 0.44444444]\n",
            " [0.22222222 0.44444444]\n",
            " [0.33333333 0.44444444]\n",
            " [0.44444444 0.44444444]\n",
            " [0.55555556 0.44444444]\n",
            " [0.66666667 0.44444444]\n",
            " [0.77777778 0.44444444]\n",
            " [0.88888889 0.44444444]\n",
            " [1.         0.44444444]\n",
            " [0.         0.55555556]\n",
            " [0.11111111 0.55555556]\n",
            " [0.22222222 0.55555556]\n",
            " [0.33333333 0.55555556]\n",
            " [0.44444444 0.55555556]\n",
            " [0.55555556 0.55555556]\n",
            " [0.66666667 0.55555556]\n",
            " [0.77777778 0.55555556]\n",
            " [0.88888889 0.55555556]\n",
            " [1.         0.55555556]\n",
            " [0.         0.66666667]\n",
            " [0.11111111 0.66666667]\n",
            " [0.22222222 0.66666667]\n",
            " [0.33333333 0.66666667]\n",
            " [0.44444444 0.66666667]\n",
            " [0.55555556 0.66666667]\n",
            " [0.66666667 0.66666667]\n",
            " [0.77777778 0.66666667]\n",
            " [0.88888889 0.66666667]\n",
            " [1.         0.66666667]\n",
            " [0.         0.77777778]\n",
            " [0.11111111 0.77777778]\n",
            " [0.22222222 0.77777778]\n",
            " [0.33333333 0.77777778]\n",
            " [0.44444444 0.77777778]\n",
            " [0.55555556 0.77777778]\n",
            " [0.66666667 0.77777778]\n",
            " [0.77777778 0.77777778]\n",
            " [0.88888889 0.77777778]\n",
            " [1.         0.77777778]\n",
            " [0.         0.88888889]\n",
            " [0.11111111 0.88888889]\n",
            " [0.22222222 0.88888889]\n",
            " [0.33333333 0.88888889]\n",
            " [0.44444444 0.88888889]\n",
            " [0.55555556 0.88888889]\n",
            " [0.66666667 0.88888889]\n",
            " [0.77777778 0.88888889]\n",
            " [0.88888889 0.88888889]\n",
            " [1.         0.88888889]\n",
            " [0.         1.        ]\n",
            " [0.11111111 1.        ]\n",
            " [0.22222222 1.        ]\n",
            " [0.33333333 1.        ]\n",
            " [0.44444444 1.        ]\n",
            " [0.55555556 1.        ]\n",
            " [0.66666667 1.        ]\n",
            " [0.77777778 1.        ]\n",
            " [0.88888889 1.        ]\n",
            " [1.         1.        ]]\n"
          ]
        }
      ],
      "source": [
        "num_points = 10\n",
        "x = np.linspace(0, 1, num_points)\n",
        "y = np.linspace(0, 1, num_points)\n",
        "x_grid, y_grid = np.meshgrid(x, y)\n",
        "structured_array = np.column_stack((x_grid.ravel(), y_grid.ravel()))\n",
        "print(\"Structured array with x and y coordinates covering [0,1]x[0,1]:\\n\", structured_array)"
      ]
    },
    {
      "cell_type": "markdown",
      "id": "d7b9bc42",
      "metadata": {
        "id": "d7b9bc42"
      },
      "source": [
        "#### 47. Given two arrays, X and Y, construct the Cauchy matrix C (Cij =1/(xi - yj)) (★★☆)"
      ]
    },
    {
      "cell_type": "code",
      "execution_count": 127,
      "id": "a24824fb",
      "metadata": {
        "id": "a24824fb",
        "colab": {
          "base_uri": "https://localhost:8080/"
        },
        "outputId": "21396059-ac8f-43bb-9cb1-467c1be19c1d"
      },
      "outputs": [
        {
          "output_type": "stream",
          "name": "stdout",
          "text": [
            "[[-0.33333333 -0.25       -0.2       ]\n",
            " [-0.5        -0.33333333 -0.25      ]\n",
            " [-1.         -0.5        -0.33333333]]\n"
          ]
        }
      ],
      "source": [
        "X = np.array([1, 2, 3])\n",
        "Y = np.array([4, 5, 6])\n",
        "\n",
        "n = len(X)\n",
        "m = len(Y)\n",
        "C = np.empty((n, m))\n",
        "\n",
        "for i in range(n):\n",
        "    for j in range(m):\n",
        "        C[i, j] = 1.0 / (X[i] - Y[j])\n",
        "\n",
        "print(C)"
      ]
    },
    {
      "cell_type": "markdown",
      "id": "65ebc11b",
      "metadata": {
        "id": "65ebc11b"
      },
      "source": [
        "#### 48. Print the minimum and maximum representable value for each numpy scalar type (★★☆)"
      ]
    },
    {
      "cell_type": "code",
      "execution_count": 128,
      "id": "e45d38fb",
      "metadata": {
        "id": "e45d38fb",
        "colab": {
          "base_uri": "https://localhost:8080/"
        },
        "outputId": "6a637bc9-60b3-43de-fa7b-18529392bc6a"
      },
      "outputs": [
        {
          "output_type": "stream",
          "name": "stdout",
          "text": [
            "Integer Types:\n",
            "<class 'numpy.int8'>: Min=-128, Max=127\n",
            "<class 'numpy.int16'>: Min=-32768, Max=32767\n",
            "<class 'numpy.int32'>: Min=-2147483648, Max=2147483647\n",
            "<class 'numpy.int64'>: Min=-9223372036854775808, Max=9223372036854775807\n",
            "\n",
            "Floating-point Types:\n",
            "<class 'numpy.float16'>: Min=-65504.0, Max=65504.0\n",
            "<class 'numpy.float32'>: Min=-3.4028234663852886e+38, Max=3.4028234663852886e+38\n",
            "<class 'numpy.float64'>: Min=-1.7976931348623157e+308, Max=1.7976931348623157e+308\n",
            "<class 'numpy.float128'>: Min=-inf, Max=inf\n"
          ]
        }
      ],
      "source": [
        "print(\"Integer Types:\")\n",
        "for dtype in np.sctypes['int']:\n",
        "    info = np.iinfo(dtype)\n",
        "    print(f\"{dtype}: Min={info.min}, Max={info.max}\")\n",
        "\n",
        "print(\"\\nFloating-point Types:\")\n",
        "for dtype in np.sctypes['float']:\n",
        "    info = np.finfo(dtype)\n",
        "    print(f\"{dtype}: Min={info.min}, Max={info.max}\")"
      ]
    },
    {
      "cell_type": "markdown",
      "id": "9b317a98",
      "metadata": {
        "id": "9b317a98"
      },
      "source": [
        "#### 49. How to print all the values of an array? (★★☆)"
      ]
    },
    {
      "cell_type": "code",
      "execution_count": 129,
      "id": "309cdeb9",
      "metadata": {
        "id": "309cdeb9",
        "colab": {
          "base_uri": "https://localhost:8080/"
        },
        "outputId": "5117e202-dc1e-479c-e81d-59838967a04d"
      },
      "outputs": [
        {
          "output_type": "stream",
          "name": "stdout",
          "text": [
            "1\n",
            "2\n",
            "3\n",
            "4\n",
            "5\n"
          ]
        }
      ],
      "source": [
        "arr = np.array([1,2,3,4,5])\n",
        "\n",
        "for i in arr:\n",
        "  print(i)"
      ]
    },
    {
      "cell_type": "markdown",
      "id": "b580f9d0",
      "metadata": {
        "id": "b580f9d0"
      },
      "source": [
        "#### 50. How to find the closest value (to a given scalar) in a vector? (★★☆)"
      ]
    },
    {
      "cell_type": "code",
      "execution_count": 130,
      "id": "ebfb6714",
      "metadata": {
        "id": "ebfb6714",
        "colab": {
          "base_uri": "https://localhost:8080/"
        },
        "outputId": "c602b7f4-3b12-4b12-fde6-fc74955d814c"
      },
      "outputs": [
        {
          "output_type": "stream",
          "name": "stdout",
          "text": [
            "Closest Value: 5\n"
          ]
        }
      ],
      "source": [
        "#GOOGLED\n",
        "vector = np.array([1, 3, 5, 7, 9, 11])\n",
        "\n",
        "target_scalar = 6\n",
        "\n",
        "closest_index = np.abs(vector - target_scalar).argmin()\n",
        "\n",
        "closest_value = vector[closest_index]\n",
        "\n",
        "print(\"Closest Value:\", closest_value)"
      ]
    },
    {
      "cell_type": "markdown",
      "id": "602e6252",
      "metadata": {
        "id": "602e6252"
      },
      "source": [
        "#### 51. Create a structured array representing a position (x,y) and a color (r,g,b) (★★☆)"
      ]
    },
    {
      "cell_type": "code",
      "execution_count": 131,
      "id": "cf002b3a",
      "metadata": {
        "id": "cf002b3a",
        "colab": {
          "base_uri": "https://localhost:8080/"
        },
        "outputId": "4fece3aa-bec3-47db-cf48-a62eeb0e111d"
      },
      "outputs": [
        {
          "output_type": "stream",
          "name": "stdout",
          "text": [
            "[(10, 20, 255, 0, 0)]\n"
          ]
        }
      ],
      "source": [
        "dtype = [('x', int), ('y', int), ('r', int), ('g', int), ('b', int)]\n",
        "\n",
        "structured_array = np.empty(1, dtype=dtype)\n",
        "\n",
        "structured_array['x'] = 10\n",
        "structured_array['y'] = 20\n",
        "structured_array['r'] = 255\n",
        "structured_array['g'] = 0\n",
        "structured_array['b'] = 0\n",
        "\n",
        "print(structured_array)"
      ]
    },
    {
      "cell_type": "markdown",
      "id": "78bcd92f",
      "metadata": {
        "id": "78bcd92f"
      },
      "source": [
        "#### 52. Consider a random vector with shape (100,2) representing coordinates, find point by point distances (★★☆)"
      ]
    },
    {
      "cell_type": "code",
      "execution_count": 132,
      "id": "fea7f9a6",
      "metadata": {
        "id": "fea7f9a6",
        "colab": {
          "base_uri": "https://localhost:8080/"
        },
        "outputId": "c094e242-6166-4267-e3d5-8579b7ee5880"
      },
      "outputs": [
        {
          "output_type": "stream",
          "name": "stdout",
          "text": [
            "72.89718787443039\n"
          ]
        }
      ],
      "source": [
        "coordinates = np.random.randint(0,101,200).reshape(100,2)\n",
        "\n",
        "n = coordinates.shape[0]\n",
        "distances = np.zeros((n, n))\n",
        "\n",
        "for i in range(n):\n",
        "    for j in range(n):\n",
        "        diff = coordinates[i] - coordinates[j]\n",
        "        distances[i, j] = np.sqrt(np.dot(diff, diff))\n",
        "\n",
        "print(distances[0, 1])"
      ]
    },
    {
      "cell_type": "markdown",
      "id": "343c5a85",
      "metadata": {
        "id": "343c5a85"
      },
      "source": [
        "#### 53. How to convert a float (32 bits) array into an integer (32 bits) in place?"
      ]
    },
    {
      "cell_type": "code",
      "execution_count": 133,
      "id": "fc1b687b",
      "metadata": {
        "id": "fc1b687b",
        "colab": {
          "base_uri": "https://localhost:8080/"
        },
        "outputId": "161ccf28-a983-4026-fb90-2c94938fed4b"
      },
      "outputs": [
        {
          "output_type": "stream",
          "name": "stdout",
          "text": [
            "[1078523331 1076719780 1070537376]\n"
          ]
        }
      ],
      "source": [
        "float_array = np.array([3.14, 2.71, 1.618], dtype=np.float32)\n",
        "int_array = np.empty_like(float_array, dtype=np.int32)\n",
        "np.copyto(int_array, float_array.view(np.int32))\n",
        "print(int_array)"
      ]
    },
    {
      "cell_type": "markdown",
      "id": "a69e1ace",
      "metadata": {
        "id": "a69e1ace"
      },
      "source": [
        "#### 54. How to read the following file? (★★☆)\n",
        "```\n",
        "1, 2, 3, 4, 5\n",
        "6,  ,  , 7, 8\n",
        " ,  , 9,10,11\n",
        "```"
      ]
    },
    {
      "cell_type": "code",
      "execution_count": 134,
      "id": "1c7957d4",
      "metadata": {
        "id": "1c7957d4",
        "colab": {
          "base_uri": "https://localhost:8080/"
        },
        "outputId": "ed298277-5d04-45a2-f850-f016be539ed7"
      },
      "outputs": [
        {
          "output_type": "stream",
          "name": "stdout",
          "text": [
            "[[1 2 3 4 5]\n",
            " [6 None None 7 8]\n",
            " [None None 9 10 11]]\n"
          ]
        }
      ],
      "source": [
        "data = \"\"\"1, 2, 3, 4, 5\n",
        "6,  ,  , 7, 8\n",
        " ,  , 9,10,11\"\"\"\n",
        "\n",
        "rows = data.strip().split('\\n')\n",
        "data_list = [row.split(',') for row in rows]\n",
        "\n",
        "for i in range(len(data_list)):\n",
        "    for j in range(len(data_list[i])):\n",
        "        if data_list[i][j].strip() == '':\n",
        "            data_list[i][j] = None\n",
        "        else:\n",
        "            data_list[i][j] = int(data_list[i][j])\n",
        "\n",
        "array = np.array(data_list, dtype=np.object)\n",
        "\n",
        "print(array)"
      ]
    },
    {
      "cell_type": "markdown",
      "id": "c23bd80d",
      "metadata": {
        "id": "c23bd80d"
      },
      "source": [
        "#### 55. What is the equivalent of enumerate for numpy arrays? (★★☆)"
      ]
    },
    {
      "cell_type": "code",
      "execution_count": 135,
      "id": "d95d9578",
      "metadata": {
        "id": "d95d9578",
        "colab": {
          "base_uri": "https://localhost:8080/"
        },
        "outputId": "6825216a-97fb-49e1-bc36-3e50fca9c9ea"
      },
      "outputs": [
        {
          "output_type": "stream",
          "name": "stdout",
          "text": [
            "Index: (0, 0), Value: 1\n",
            "Index: (0, 1), Value: 2\n",
            "Index: (0, 2), Value: 3\n",
            "Index: (1, 0), Value: 4\n",
            "Index: (1, 1), Value: 5\n",
            "Index: (1, 2), Value: 6\n",
            "Index: (2, 0), Value: 7\n",
            "Index: (2, 1), Value: 8\n",
            "Index: (2, 2), Value: 9\n"
          ]
        }
      ],
      "source": [
        "arr = np.array([[1, 2, 3],[4, 5, 6],[7, 8, 9]])\n",
        "for index, value in np.ndenumerate(arr):\n",
        "    print(f\"Index: {index}, Value: {value}\")"
      ]
    },
    {
      "cell_type": "markdown",
      "id": "2153a5ec",
      "metadata": {
        "id": "2153a5ec"
      },
      "source": [
        "#### 56. Generate a generic 2D Gaussian-like array (★★☆)"
      ]
    },
    {
      "cell_type": "code",
      "execution_count": 136,
      "id": "61122d1e",
      "metadata": {
        "id": "61122d1e",
        "colab": {
          "base_uri": "https://localhost:8080/"
        },
        "outputId": "561364e3-7834-4e4a-e8c3-869bb8d454cd"
      },
      "outputs": [
        {
          "output_type": "stream",
          "name": "stdout",
          "text": [
            "[[4.53999298e-05 1.08908770e-04 2.03468369e-04 2.96044730e-04\n",
            "  3.35462628e-04 2.96044730e-04 2.03468369e-04 1.08908770e-04\n",
            "  4.53999298e-05 1.47391992e-05]\n",
            " [1.50343919e-03 3.60656314e-03 6.73794700e-03 9.80365504e-03\n",
            "  1.11089965e-02 9.80365504e-03 6.73794700e-03 3.60656314e-03\n",
            "  1.50343919e-03 4.88095244e-04]\n",
            " [1.83156389e-02 4.39369336e-02 8.20849986e-02 1.19432968e-01\n",
            "  1.35335283e-01 1.19432968e-01 8.20849986e-02 4.39369336e-02\n",
            "  1.83156389e-02 5.94621736e-03]\n",
            " [8.20849986e-02 1.96911675e-01 3.67879441e-01 5.35261429e-01\n",
            "  6.06530660e-01 5.35261429e-01 3.67879441e-01 1.96911675e-01\n",
            "  8.20849986e-02 2.66490973e-02]\n",
            " [1.35335283e-01 3.24652467e-01 6.06530660e-01 8.82496903e-01\n",
            "  1.00000000e+00 8.82496903e-01 6.06530660e-01 3.24652467e-01\n",
            "  1.35335283e-01 4.39369336e-02]\n",
            " [8.20849986e-02 1.96911675e-01 3.67879441e-01 5.35261429e-01\n",
            "  6.06530660e-01 5.35261429e-01 3.67879441e-01 1.96911675e-01\n",
            "  8.20849986e-02 2.66490973e-02]\n",
            " [1.83156389e-02 4.39369336e-02 8.20849986e-02 1.19432968e-01\n",
            "  1.35335283e-01 1.19432968e-01 8.20849986e-02 4.39369336e-02\n",
            "  1.83156389e-02 5.94621736e-03]\n",
            " [1.50343919e-03 3.60656314e-03 6.73794700e-03 9.80365504e-03\n",
            "  1.11089965e-02 9.80365504e-03 6.73794700e-03 3.60656314e-03\n",
            "  1.50343919e-03 4.88095244e-04]\n",
            " [4.53999298e-05 1.08908770e-04 2.03468369e-04 2.96044730e-04\n",
            "  3.35462628e-04 2.96044730e-04 2.03468369e-04 1.08908770e-04\n",
            "  4.53999298e-05 1.47391992e-05]\n",
            " [5.04347663e-07 1.20986715e-06 2.26032941e-06 3.28875988e-06\n",
            "  3.72665317e-06 3.28875988e-06 2.26032941e-06 1.20986715e-06\n",
            "  5.04347663e-07 1.63737713e-07]]\n"
          ]
        }
      ],
      "source": [
        "shape = (10, 10)\n",
        "\n",
        "amplitude = 1\n",
        "x0, y0 = 4, 4\n",
        "sigma_x, sigma_y = 2, 1\n",
        "\n",
        "x, y = np.meshgrid(np.arange(shape[1]), np.arange(shape[0]))\n",
        "exponent = -((x - x0) ** 2 / (2 * sigma_x ** 2) + (y - y0) ** 2 / (2 * sigma_y ** 2))\n",
        "gaussian_array = amplitude * np.exp(exponent)\n",
        "\n",
        "print(gaussian_array)"
      ]
    },
    {
      "cell_type": "markdown",
      "id": "2e76d589",
      "metadata": {
        "id": "2e76d589"
      },
      "source": [
        "#### 57. How to randomly place p elements in a 2D array? (★★☆)"
      ]
    },
    {
      "cell_type": "code",
      "execution_count": 137,
      "id": "0c2e4fcc",
      "metadata": {
        "id": "0c2e4fcc",
        "colab": {
          "base_uri": "https://localhost:8080/"
        },
        "outputId": "55f8925d-bcc4-4cfb-8a54-191b42eba101"
      },
      "outputs": [
        {
          "output_type": "stream",
          "name": "stdout",
          "text": [
            "[[0 1 1 1 1]\n",
            " [0 0 0 0 0]\n",
            " [0 0 1 0 0]\n",
            " [0 0 1 1 0]\n",
            " [0 1 1 0 1]]\n"
          ]
        }
      ],
      "source": [
        "shape = (5, 5)\n",
        "p = 10\n",
        "\n",
        "array = np.zeros(shape, dtype=int)\n",
        "\n",
        "indices = np.random.choice(np.arange(shape[0] * shape[1]), p, replace=False)\n",
        "\n",
        "array.flat[indices] = 1\n",
        "\n",
        "print(array)"
      ]
    },
    {
      "cell_type": "markdown",
      "id": "8b3933eb",
      "metadata": {
        "id": "8b3933eb"
      },
      "source": [
        "#### 58. Subtract the mean of each row of a matrix (★★☆)"
      ]
    },
    {
      "cell_type": "code",
      "execution_count": 138,
      "id": "a306c9ef",
      "metadata": {
        "id": "a306c9ef",
        "colab": {
          "base_uri": "https://localhost:8080/"
        },
        "outputId": "2fc59386-18ad-4056-d9ce-50c0e2d748d3"
      },
      "outputs": [
        {
          "output_type": "stream",
          "name": "stdout",
          "text": [
            "[[1 2 3]\n",
            " [4 5 6]\n",
            " [7 8 9]]\n",
            "[[-1. -3. -5.]\n",
            " [ 2.  0. -2.]\n",
            " [ 5.  3.  1.]]\n"
          ]
        }
      ],
      "source": [
        "matrix = np.array([[1, 2, 3],[4, 5, 6],[7, 8, 9]])\n",
        "print(matrix)\n",
        "\n",
        "row_mean = np.mean(matrix,axis=1)\n",
        "\n",
        "centered = matrix - row_mean[np.newaxis]\n",
        "print(centered)"
      ]
    },
    {
      "cell_type": "markdown",
      "id": "ea8807c0",
      "metadata": {
        "id": "ea8807c0"
      },
      "source": [
        "#### 59. How to sort an array by the nth column? (★★☆)"
      ]
    },
    {
      "cell_type": "code",
      "execution_count": 139,
      "id": "cc89a699",
      "metadata": {
        "id": "cc89a699",
        "colab": {
          "base_uri": "https://localhost:8080/"
        },
        "outputId": "5af99cdc-9426-43e1-b87f-11f7c569a44b"
      },
      "outputs": [
        {
          "output_type": "stream",
          "name": "stdout",
          "text": [
            "[[1 2 3]\n",
            " [4 5 6]\n",
            " [7 8 9]]\n"
          ]
        }
      ],
      "source": [
        "matrix = np.array([[5, 2, 8],[3, 9, 1],[7, 4, 6]])\n",
        "n = 1\n",
        "sorted_indices = np.argsort(arr[:, n])\n",
        "sorted_arr = arr[sorted_indices]\n",
        "print(sorted_arr)"
      ]
    },
    {
      "cell_type": "markdown",
      "id": "00fa00a1",
      "metadata": {
        "id": "00fa00a1"
      },
      "source": [
        "#### 60. How to tell if a given 2D array has null columns? (★★☆)"
      ]
    },
    {
      "cell_type": "code",
      "execution_count": 140,
      "id": "3436e165",
      "metadata": {
        "id": "3436e165",
        "colab": {
          "base_uri": "https://localhost:8080/"
        },
        "outputId": "b0303ac1-a302-483d-833b-aec291d132c6"
      },
      "outputs": [
        {
          "output_type": "stream",
          "name": "stdout",
          "text": [
            "The array has null columns.\n"
          ]
        }
      ],
      "source": [
        "arr = np.array([[1, 0, 0],[0, 0, 0],[4, 0, 0],[0, 2, 0]])\n",
        "null_columns = np.all(arr == 0, axis=0)\n",
        "if np.any(null_columns):\n",
        "    print(\"The array has null columns.\")\n",
        "else:\n",
        "    print(\"The array does not have null columns.\")"
      ]
    },
    {
      "cell_type": "markdown",
      "id": "5a65c7a2",
      "metadata": {
        "id": "5a65c7a2"
      },
      "source": [
        "#### 61. Find the nearest value from a given value in an array (★★☆)"
      ]
    },
    {
      "cell_type": "code",
      "execution_count": 141,
      "id": "73f149d6",
      "metadata": {
        "id": "73f149d6",
        "colab": {
          "base_uri": "https://localhost:8080/"
        },
        "outputId": "a903b04d-36d1-4c6f-e829-14e3fb03ef55"
      },
      "outputs": [
        {
          "output_type": "stream",
          "name": "stdout",
          "text": [
            "Enter a value: 5\n",
            "Nearest Value: 4.8\n",
            "Index of Nearest Value: 2\n"
          ]
        }
      ],
      "source": [
        "arr = np.array([2.5, 1.0, 4.8, 3.2, 7.1])\n",
        "target_value = int(input(\"Enter a value: \"))\n",
        "differences = np.abs(arr - target_value)\n",
        "nearest_index = differences.argmin()\n",
        "nearest_value = arr[nearest_index]\n",
        "print(\"Nearest Value:\", nearest_value)\n",
        "print(\"Index of Nearest Value:\", nearest_index)"
      ]
    },
    {
      "cell_type": "markdown",
      "id": "dd83e8af",
      "metadata": {
        "id": "dd83e8af"
      },
      "source": [
        "\n",
        "#### 62. Considering two arrays with shape (1,3) and (3,1), how to compute their sum using an iterator? (★★☆)"
      ]
    },
    {
      "cell_type": "code",
      "execution_count": 142,
      "id": "29a709a1",
      "metadata": {
        "id": "29a709a1",
        "colab": {
          "base_uri": "https://localhost:8080/"
        },
        "outputId": "2640d311-1758-465f-e70a-137faf474018"
      },
      "outputs": [
        {
          "output_type": "stream",
          "name": "stdout",
          "text": [
            "Sum of the two arrays: 21\n"
          ]
        }
      ],
      "source": [
        "#GOOGLED\n",
        "array1 = np.array([[1, 2, 3]])\n",
        "array2 = np.array([[4],\n",
        "                   [5],\n",
        "                   [6]])\n",
        "\n",
        "iterator1 = np.nditer(array1)\n",
        "iterator2 = np.nditer(array2)\n",
        "\n",
        "total_sum = 0\n",
        "\n",
        "for val1, val2 in zip(iterator1, iterator2):\n",
        "    total_sum += val1 + val2\n",
        "\n",
        "print(\"Sum of the two arrays:\", total_sum)"
      ]
    },
    {
      "cell_type": "markdown",
      "id": "6c042efa",
      "metadata": {
        "id": "6c042efa"
      },
      "source": [
        "#### 63. Create an array class that has a name attribute (★★☆)"
      ]
    },
    {
      "cell_type": "code",
      "execution_count": 143,
      "id": "45b3d2e0",
      "metadata": {
        "id": "45b3d2e0",
        "colab": {
          "base_uri": "https://localhost:8080/"
        },
        "outputId": "4a87e107-3af7-445b-e21f-8aac65c664f9"
      },
      "outputs": [
        {
          "output_type": "stream",
          "name": "stdout",
          "text": [
            "Custom Array\n",
            "[[1 2 3]\n",
            " [4 5 6]\n",
            " [7 8 9]]\n"
          ]
        }
      ],
      "source": [
        "# GOOGLED\n",
        "class NamedArray:\n",
        "    def __init__(self, array, name):\n",
        "        self.array = array\n",
        "        self.name = name\n",
        "\n",
        "data = [[1, 2, 3], [4, 5, 6], [7, 8, 9]]\n",
        "name = \"Custom Array\"\n",
        "custom_array = NamedArray(np.array(data), name)\n",
        "\n",
        "print(custom_array.name)\n",
        "print(custom_array.array)"
      ]
    },
    {
      "cell_type": "markdown",
      "id": "0a075c3d",
      "metadata": {
        "id": "0a075c3d"
      },
      "source": [
        "#### 64. Consider a given vector, how to add 1 to each element indexed by a second vector (be careful with repeated indices)? (★★★)"
      ]
    },
    {
      "cell_type": "code",
      "execution_count": 144,
      "id": "36c50470",
      "metadata": {
        "id": "36c50470",
        "colab": {
          "base_uri": "https://localhost:8080/"
        },
        "outputId": "471d0bf8-fbcd-4d3f-bc68-cb097229955c"
      },
      "outputs": [
        {
          "output_type": "stream",
          "name": "stdout",
          "text": [
            "Original Vector: [1 2 3 4 5]\n",
            "Indices to Increment: [1 3 3 4]\n",
            "Result Vector: [1 3 3 5 6]\n"
          ]
        }
      ],
      "source": [
        "original_vector = np.array([1, 2, 3, 4, 5])\n",
        "indices_to_increment = np.array([1, 3, 3, 4])\n",
        "\n",
        "mask = np.zeros_like(original_vector)\n",
        "mask_indices = np.unique(indices_to_increment)\n",
        "mask[mask_indices] = 1\n",
        "\n",
        "result_vector = original_vector + mask\n",
        "\n",
        "print(\"Original Vector:\", original_vector)\n",
        "print(\"Indices to Increment:\", indices_to_increment)\n",
        "print(\"Result Vector:\", result_vector)"
      ]
    },
    {
      "cell_type": "markdown",
      "id": "0fb2f0c5",
      "metadata": {
        "id": "0fb2f0c5"
      },
      "source": [
        "#### 65. How to accumulate elements of a vector (X) to an array (F) based on an index list (I)? (★★★)"
      ]
    },
    {
      "cell_type": "code",
      "execution_count": 145,
      "id": "58aa5f82",
      "metadata": {
        "id": "58aa5f82",
        "colab": {
          "base_uri": "https://localhost:8080/"
        },
        "outputId": "0c368546-7a2c-42e8-8f9b-2a50d961b677"
      },
      "outputs": [
        {
          "output_type": "stream",
          "name": "stdout",
          "text": [
            "Vector X: [1 2 3 4 5]\n",
            "Index list I: [0 2 1 4 2]\n",
            "Accumulated Array F: [1 3 2 5 3]\n"
          ]
        }
      ],
      "source": [
        "X = np.array([1, 2, 3, 4, 5])\n",
        "I = np.array([0, 2, 1, 4, 2])\n",
        "N = len(I)\n",
        "F = np.zeros(N, dtype=X.dtype)\n",
        "\n",
        "for i in range(N):\n",
        "    F[i] += X[I[i]]\n",
        "\n",
        "print(\"Vector X:\", X)\n",
        "print(\"Index list I:\", I)\n",
        "print(\"Accumulated Array F:\", F)"
      ]
    },
    {
      "cell_type": "markdown",
      "id": "d89dc506",
      "metadata": {
        "id": "d89dc506"
      },
      "source": [
        "#### 66. Considering a (w,h,3) image of (dtype=ubyte), compute the number of unique colors (★★☆)"
      ]
    },
    {
      "cell_type": "code",
      "execution_count": 146,
      "id": "8fb43a49",
      "metadata": {
        "id": "8fb43a49",
        "colab": {
          "base_uri": "https://localhost:8080/"
        },
        "outputId": "77403a3b-2feb-441b-d57e-a56e6b7fd058"
      },
      "outputs": [
        {
          "output_type": "stream",
          "name": "stdout",
          "text": [
            "Number of Unique Colors: 100\n"
          ]
        }
      ],
      "source": [
        "image = np.random.randint(0, 256, size=(10, 10, 3), dtype=np.uint8)\n",
        "\n",
        "reshaped_image = image.reshape(-1, 3)\n",
        "\n",
        "unique_colors = np.unique(reshaped_image, axis=0)\n",
        "\n",
        "num_unique_colors = unique_colors.shape[0]\n",
        "\n",
        "print(\"Number of Unique Colors:\", num_unique_colors)"
      ]
    },
    {
      "cell_type": "markdown",
      "id": "535a5d81",
      "metadata": {
        "id": "535a5d81"
      },
      "source": [
        "#### 67. Considering a four dimensions array, how to get sum over the last two axis at once? (★★★)"
      ]
    },
    {
      "cell_type": "code",
      "execution_count": 147,
      "id": "f954ab9d",
      "metadata": {
        "id": "f954ab9d",
        "colab": {
          "base_uri": "https://localhost:8080/"
        },
        "outputId": "f1e73fa3-66b9-496f-d082-24a821e57294"
      },
      "outputs": [
        {
          "output_type": "stream",
          "name": "stdout",
          "text": [
            "Original 4D Array Shape: (2, 3, 4, 5)\n",
            "Sum over Last Two Axes Shape: (2, 3)\n",
            "Sum over Last Two Axes:\n",
            "[[10.13600463 11.21892306 10.92485405]\n",
            " [10.09297888  9.74413067  8.65458522]]\n"
          ]
        }
      ],
      "source": [
        "#GOOGLED\n",
        "array_4d = np.random.rand(2, 3, 4, 5)\n",
        "\n",
        "sum_last_two_axes = np.sum(array_4d, axis=(2, 3))\n",
        "\n",
        "print(\"Original 4D Array Shape:\", array_4d.shape)\n",
        "print(\"Sum over Last Two Axes Shape:\", sum_last_two_axes.shape)\n",
        "print(\"Sum over Last Two Axes:\")\n",
        "print(sum_last_two_axes)\n"
      ]
    },
    {
      "cell_type": "markdown",
      "id": "eee66d3c",
      "metadata": {
        "id": "eee66d3c"
      },
      "source": [
        "#### 68. Considering a one-dimensional vector D, how to compute means of subsets of D using a vector S of same size describing subset  indices? (★★★)"
      ]
    },
    {
      "cell_type": "code",
      "execution_count": 148,
      "id": "8929773a",
      "metadata": {
        "id": "8929773a",
        "colab": {
          "base_uri": "https://localhost:8080/"
        },
        "outputId": "97d667d6-bcd6-4f70-9ce7-71850b4c8337"
      },
      "outputs": [
        {
          "output_type": "stream",
          "name": "stdout",
          "text": [
            "Vector D: [1 2 3 4 5 6]\n",
            "Vector S: [0 1 0 1 2 2]\n",
            "Subset Means: [2.  3.  5.5]\n"
          ]
        }
      ],
      "source": [
        "D = np.array([1, 2, 3, 4, 5, 6])\n",
        "\n",
        "S = np.array([0, 1, 0, 1, 2, 2])\n",
        "\n",
        "unique_indices = np.unique(S)\n",
        "subset_means = np.zeros(len(unique_indices))\n",
        "\n",
        "for i, index in enumerate(unique_indices):\n",
        "    subset = D[S == index]\n",
        "    subset_mean = np.mean(subset)\n",
        "    subset_means[i] = subset_mean\n",
        "\n",
        "print(\"Vector D:\", D)\n",
        "print(\"Vector S:\", S)\n",
        "print(\"Subset Means:\", subset_means)"
      ]
    },
    {
      "cell_type": "markdown",
      "id": "f90d4c40",
      "metadata": {
        "id": "f90d4c40"
      },
      "source": [
        "#### 69. How to get the diagonal of a dot product? (★★★)"
      ]
    },
    {
      "cell_type": "code",
      "execution_count": 149,
      "id": "b47d392d",
      "metadata": {
        "id": "b47d392d",
        "colab": {
          "base_uri": "https://localhost:8080/"
        },
        "outputId": "a884a1b1-2b31-4f65-ce97-4a01c63d50aa"
      },
      "outputs": [
        {
          "output_type": "stream",
          "name": "stdout",
          "text": [
            "Diagonal of Dot Product:\n",
            "[30 69 90]\n"
          ]
        }
      ],
      "source": [
        "A = np.array([[1, 2, 3],[4, 5, 6],[7, 8, 9]])\n",
        "B = np.array([[9, 8, 7],[6, 5, 4],[3, 2, 1]])\n",
        "\n",
        "dot_product = np.dot(A, B)\n",
        "diagonal = np.einsum('ii->i', dot_product)\n",
        "\n",
        "print(\"Diagonal of Dot Product:\")\n",
        "print(diagonal)"
      ]
    },
    {
      "cell_type": "markdown",
      "id": "a8a97e7d",
      "metadata": {
        "id": "a8a97e7d"
      },
      "source": [
        "#### 70. Consider the vector [1, 2, 3, 4, 5], how to build a new vector with 3 consecutive zeros interleaved between each value? (★★★)"
      ]
    },
    {
      "cell_type": "code",
      "execution_count": 150,
      "id": "ee6c6c37",
      "metadata": {
        "id": "ee6c6c37",
        "colab": {
          "base_uri": "https://localhost:8080/"
        },
        "outputId": "77f33c8c-fa78-4a70-f7e3-cb035d89c867"
      },
      "outputs": [
        {
          "output_type": "stream",
          "name": "stdout",
          "text": [
            "Original Vector: [1 2 3 4 5]\n",
            "New Vector with Consecutive Zeros: [1 0 0 0 2 0 0 0 3 0 0 0 4 0 0 0 5]\n"
          ]
        }
      ],
      "source": [
        "original_vector = np.array([1, 2, 3, 4, 5])\n",
        "num_zeros = 3\n",
        "\n",
        "new_vector = np.zeros(len(original_vector) + (len(original_vector) - 1) * num_zeros, dtype=original_vector.dtype)\n",
        "new_vector[::num_zeros + 1] = original_vector\n",
        "\n",
        "print(\"Original Vector:\", original_vector)\n",
        "print(\"New Vector with Consecutive Zeros:\", new_vector)"
      ]
    },
    {
      "cell_type": "markdown",
      "id": "d6a30d60",
      "metadata": {
        "id": "d6a30d60"
      },
      "source": [
        "#### 71. Consider an array of dimension (5,5,3), how to mulitply it by an array with dimensions (5,5)? (★★★)"
      ]
    },
    {
      "cell_type": "code",
      "execution_count": 151,
      "id": "e9703f2e",
      "metadata": {
        "id": "e9703f2e",
        "colab": {
          "base_uri": "https://localhost:8080/"
        },
        "outputId": "75b4c540-0a37-4ab8-a855-e074a598e16b"
      },
      "outputs": [
        {
          "output_type": "stream",
          "name": "stdout",
          "text": [
            "Array1 Shape: (5, 5, 3)\n",
            "Array2 Shape: (5, 5)\n",
            "Result: (5, 5, 3)\n"
          ]
        }
      ],
      "source": [
        "array1 = np.random.rand(5, 5, 3)\n",
        "array2 = np.random.rand(5, 5)\n",
        "result = array1 * array2[:, :, np.newaxis]\n",
        "\n",
        "print(\"Array1 Shape:\", array1.shape)\n",
        "print(\"Array2 Shape:\", array2.shape)\n",
        "print(\"Result:\", result.shape)"
      ]
    },
    {
      "cell_type": "markdown",
      "id": "bac359a9",
      "metadata": {
        "id": "bac359a9"
      },
      "source": [
        "#### 72. How to swap two rows of an array? (★★★)"
      ]
    },
    {
      "cell_type": "code",
      "execution_count": 152,
      "id": "f1b432b1",
      "metadata": {
        "id": "f1b432b1",
        "colab": {
          "base_uri": "https://localhost:8080/"
        },
        "outputId": "ab9bbfa4-e68f-4611-adac-35fe38932c0d"
      },
      "outputs": [
        {
          "output_type": "stream",
          "name": "stdout",
          "text": [
            "[[1 2 3]\n",
            " [7 8 9]\n",
            " [4 5 6]]\n"
          ]
        }
      ],
      "source": [
        "array = np.array([[1, 2, 3],[4, 5, 6],[7, 8, 9]])\n",
        "\n",
        "row1_index = 1\n",
        "row2_index = 2\n",
        "array[[row1_index, row2_index]] = array[[row2_index, row1_index]]\n",
        "\n",
        "print(array)"
      ]
    },
    {
      "cell_type": "markdown",
      "id": "620c9f83",
      "metadata": {
        "id": "620c9f83"
      },
      "source": [
        "#### 73. Consider a set of 10 triplets describing 10 triangles (with shared vertices), find the set of unique line segments composing all the  triangles (★★★)"
      ]
    },
    {
      "cell_type": "code",
      "source": [
        "#GOOGLED\n",
        "triplets = np.array([\n",
        "    [1, 2, 3],\n",
        "    [2, 3, 4],\n",
        "    [3, 4, 5],\n",
        "    [4, 5, 6],\n",
        "    [5, 6, 7],\n",
        "    [6, 7, 8],\n",
        "    [7, 8, 9],\n",
        "    [8, 9, 10],\n",
        "    [9, 10, 1],\n",
        "    [10, 1, 2]\n",
        "])\n",
        "\n",
        "pairs = triplets.reshape(-1, 2)\n",
        "\n",
        "line_segments = set()\n",
        "\n",
        "for pair in pairs:\n",
        "    segment = tuple(sorted(pair))\n",
        "    line_segments.add(segment)\n",
        "\n",
        "print(\"Set of unique line segments:\")\n",
        "print(line_segments)\n"
      ],
      "metadata": {
        "id": "CD-PprJXi77i",
        "outputId": "b7c889b6-0fb5-45b2-ba60-da829bb339c0",
        "colab": {
          "base_uri": "https://localhost:8080/"
        }
      },
      "id": "CD-PprJXi77i",
      "execution_count": 2,
      "outputs": [
        {
          "output_type": "stream",
          "name": "stdout",
          "text": [
            "Set of unique line segments:\n",
            "{(9, 10), (1, 2), (3, 4), (2, 3), (6, 7), (4, 5), (8, 9), (5, 6), (1, 10), (7, 8)}\n"
          ]
        }
      ]
    },
    {
      "cell_type": "markdown",
      "id": "a76c55a2",
      "metadata": {
        "id": "a76c55a2"
      },
      "source": [
        "#### 74. Given a sorted array C that corresponds to a bincount, how to produce an array A such that np.bincount(A) == C? (★★★)"
      ]
    },
    {
      "cell_type": "code",
      "execution_count": 153,
      "id": "2d2ae65a",
      "metadata": {
        "id": "2d2ae65a",
        "colab": {
          "base_uri": "https://localhost:8080/"
        },
        "outputId": "3dd9f8ea-3588-4d4f-be86-5fae7b99a46c"
      },
      "outputs": [
        {
          "output_type": "stream",
          "name": "stdout",
          "text": [
            "Generated Array A:\n",
            "[1 1 2 2 4 7]\n",
            "np.bincount(A): [0 2 2 0 1 0 0 1]\n",
            "C: [0 2 2 0 1 0 0 1]\n",
            "Are np.bincount(A) and C equal? True\n"
          ]
        }
      ],
      "source": [
        "C = np.array([0, 2, 2, 0, 1, 0, 0, 1])\n",
        "\n",
        "max_value = len(C) - 1\n",
        "\n",
        "A = np.repeat(np.arange(max_value + 1), C)\n",
        "\n",
        "print(\"Generated Array A:\")\n",
        "print(A)\n",
        "\n",
        "print(\"np.bincount(A):\", np.bincount(A))\n",
        "print(\"C:\", C)\n",
        "print(\"Are np.bincount(A) and C equal?\", np.array_equal(np.bincount(A), C))"
      ]
    },
    {
      "cell_type": "markdown",
      "id": "d550c8e2",
      "metadata": {
        "id": "d550c8e2"
      },
      "source": [
        "#### 75. How to compute averages using a sliding window over an array? (★★★)"
      ]
    },
    {
      "cell_type": "code",
      "execution_count": 154,
      "id": "841c457c",
      "metadata": {
        "id": "841c457c",
        "colab": {
          "base_uri": "https://localhost:8080/"
        },
        "outputId": "fddc3b87-d604-4a65-96a3-40edcdbaf5a1"
      },
      "outputs": [
        {
          "output_type": "stream",
          "name": "stdout",
          "text": [
            "Averages: [2.0, 3.0, 4.0, 5.0, 6.0, 7.0, 8.0]\n"
          ]
        }
      ],
      "source": [
        "#GOOGLED\n",
        "arr = np.array([1, 2, 3, 4, 5, 6, 7, 8, 9])\n",
        "\n",
        "window_size = 3\n",
        "\n",
        "averages = []\n",
        "\n",
        "for i in range(len(arr) - window_size + 1):\n",
        "    window = arr[i:i+window_size]\n",
        "    average = np.mean(window)\n",
        "    averages.append(average)\n",
        "\n",
        "print(\"Averages:\", averages)"
      ]
    },
    {
      "cell_type": "markdown",
      "id": "6b170b00",
      "metadata": {
        "id": "6b170b00"
      },
      "source": [
        "#### 76. Consider a one-dimensional array Z, build a two-dimensional array whose first row is (Z[0],Z[1],Z[2]) and each subsequent row is  shifted by 1 (last row should be (Z[-3],Z[-2],Z[-1]) (★★★)"
      ]
    },
    {
      "cell_type": "code",
      "execution_count": 155,
      "id": "d9a0cf4e",
      "metadata": {
        "id": "d9a0cf4e",
        "colab": {
          "base_uri": "https://localhost:8080/"
        },
        "outputId": "c941c755-95ee-4240-c604-b8b93ca662a3"
      },
      "outputs": [
        {
          "output_type": "stream",
          "name": "stdout",
          "text": [
            "[[1 2 3]\n",
            " [2 3 4]\n",
            " [3 4 5]\n",
            " [4 5 6]]\n"
          ]
        }
      ],
      "source": [
        "Z = np.array([1, 2, 3, 4, 5, 6])\n",
        "\n",
        "num_columns = 3\n",
        "\n",
        "num_rows = len(Z) - num_columns + 1\n",
        "\n",
        "result_array = np.zeros((num_rows, num_columns), dtype=int)\n",
        "\n",
        "for i in range(num_rows):\n",
        "    result_array[i] = Z[i:i+num_columns]\n",
        "\n",
        "print(result_array)"
      ]
    },
    {
      "cell_type": "markdown",
      "id": "e94a5c1d",
      "metadata": {
        "id": "e94a5c1d"
      },
      "source": [
        "#### 77. How to negate a boolean, or to change the sign of a float inplace? (★★★)"
      ]
    },
    {
      "cell_type": "code",
      "execution_count": 156,
      "id": "c0f9504f",
      "metadata": {
        "id": "c0f9504f",
        "colab": {
          "base_uri": "https://localhost:8080/"
        },
        "outputId": "7ba47ebf-2c5b-4612-fb7b-dfa214db8592"
      },
      "outputs": [
        {
          "output_type": "stream",
          "name": "stdout",
          "text": [
            "[False  True False]\n",
            "[-1. -2. -3.]\n"
          ]
        }
      ],
      "source": [
        "my_bool_array = np.array([True, False, True])\n",
        "\n",
        "my_bool_array = ~my_bool_array\n",
        "\n",
        "print(my_bool_array)\n",
        "\n",
        "my_float_array = np.array([1.0, 2.0, 3.0])\n",
        "\n",
        "my_float_array = -my_float_array\n",
        "\n",
        "print(my_float_array)"
      ]
    },
    {
      "cell_type": "markdown",
      "id": "4eb8b5c1",
      "metadata": {
        "id": "4eb8b5c1"
      },
      "source": [
        "#### 78. Consider 2 sets of points P0,P1 describing lines (2d) and a point p, how to compute distance from p to each line i (P0[i],P1[i])? (★★★)"
      ]
    },
    {
      "cell_type": "code",
      "execution_count": 157,
      "id": "487f47ec",
      "metadata": {
        "id": "487f47ec",
        "colab": {
          "base_uri": "https://localhost:8080/"
        },
        "outputId": "50303e72-e40b-4edb-bee1-edff3afa7bfd"
      },
      "outputs": [
        {
          "output_type": "stream",
          "name": "stdout",
          "text": [
            "[2.0519212  1.52578756]\n"
          ]
        }
      ],
      "source": [
        "P0 = np.array([(3, 2), (4, 6)])\n",
        "P1 = np.array([(8, 5), (7, 1)])\n",
        "\n",
        "\n",
        "p = np.array((3, 2))\n",
        "\n",
        "\n",
        "a = P0[:, 1] - P1[:, 1]\n",
        "b = P1[:, 0] - P0[:, 0]\n",
        "c = np.cross(P0, P1)\n",
        "distances = np.abs(np.dot(c, p) + np.dot(a, 3) + np.dot(b, 2)) / np.linalg.norm(c[:2])\n",
        "\n",
        "print(distances)"
      ]
    },
    {
      "cell_type": "markdown",
      "id": "3df99948",
      "metadata": {
        "id": "3df99948"
      },
      "source": [
        "#### 79. Consider 2 sets of points P0,P1 describing lines (2d) and a set of points P, how to compute distance from each point j (P[j]) to each line i (P0[i],P1[i])? (★★★)"
      ]
    },
    {
      "cell_type": "code",
      "execution_count": 158,
      "id": "dc2df37b",
      "metadata": {
        "id": "dc2df37b",
        "colab": {
          "base_uri": "https://localhost:8080/"
        },
        "outputId": "599c0073-66c9-41ca-9022-3e40653e12c2"
      },
      "outputs": [
        {
          "output_type": "stream",
          "name": "stdout",
          "text": [
            "P0:\n",
            "[[5 0]\n",
            " [3 3]]\n",
            "P1:\n",
            "[[7 9]\n",
            " [3 5]]\n",
            "P:\n",
            "[[2 4 7 6 8]\n",
            " [8 1 6 7 7]]\n",
            "Distances:\n",
            "[[ 3.79628301 14.5       ]\n",
            " [ 0.43386092  5.        ]]\n"
          ]
        }
      ],
      "source": [
        "np.random.seed(0)\n",
        "P0 = np.random.randint(0, 10, size=(2, 2))\n",
        "P1 = np.random.randint(0, 10, size=(2, 2))\n",
        "P = np.random.randint(0, 10, size=(2, 5))\n",
        "\n",
        "a = P0[:, 1] - P1[:, 1]\n",
        "b = P1[:, 0] - P0[:, 0]\n",
        "c = P0[:, 0] * P1[:, 1] - P1[:, 0] * P0[:, 1]\n",
        "\n",
        "distances = np.abs((a * P[:, 0] + b * P[:, 1] + c.reshape(-1, 1))) / np.sqrt(a**2 + b**2)\n",
        "\n",
        "print(\"P0:\")\n",
        "print(P0)\n",
        "print(\"P1:\")\n",
        "print(P1)\n",
        "print(\"P:\")\n",
        "print(P)\n",
        "print(\"Distances:\")\n",
        "print(distances)"
      ]
    },
    {
      "cell_type": "markdown",
      "id": "11e972c2",
      "metadata": {
        "id": "11e972c2"
      },
      "source": [
        "#### 80. Consider an arbitrary array, write a function that extract a subpart with a fixed shape and centered on a given element (pad with a `fill` value when necessary) (★★★)"
      ]
    },
    {
      "cell_type": "code",
      "execution_count": 4,
      "id": "0291247f",
      "metadata": {
        "id": "0291247f",
        "colab": {
          "base_uri": "https://localhost:8080/"
        },
        "outputId": "4be6a03c-431f-4627-d0ac-08aeed1fcb04"
      },
      "outputs": [
        {
          "output_type": "stream",
          "name": "stdout",
          "text": [
            "Input Array:\n",
            "[[ 1  2  3  4  5]\n",
            " [ 6  7  8  9 10]\n",
            " [11 12 13 14 15]]\n",
            "\n",
            "Extracted Subpart:\n",
            "[[ 2  3  4]\n",
            " [ 7  8  9]\n",
            " [12 13 14]]\n"
          ]
        }
      ],
      "source": [
        "#GOOGLED\n",
        "arr = np.array([[1, 2, 3, 4, 5],\n",
        "                [6, 7, 8, 9, 10],\n",
        "                [11, 12, 13, 14, 15]])\n",
        "\n",
        "subpart_shape = (3, 3)\n",
        "center_element = (1, 2)\n",
        "\n",
        "row, col = center_element\n",
        "start_row = max(0, row - subpart_shape[0] // 2)\n",
        "end_row = min(arr.shape[0], start_row + subpart_shape[0])\n",
        "start_col = max(0, col - subpart_shape[1] // 2)\n",
        "end_col = min(arr.shape[1], start_col + subpart_shape[1])\n",
        "\n",
        "subpart = arr[start_row:end_row, start_col:end_col]\n",
        "padding_rows = subpart_shape[0] - subpart.shape[0]\n",
        "padding_cols = subpart_shape[1] - subpart.shape[1]\n",
        "\n",
        "if padding_rows > 0 or padding_cols > 0:\n",
        "    subpart = np.pad(subpart, ((0, padding_rows), (0, padding_cols)), mode='constant', constant_values=np.nan)\n",
        "\n",
        "print(\"Input Array:\")\n",
        "print(arr)\n",
        "print(\"\\nExtracted Subpart:\")\n",
        "print(subpart)\n"
      ]
    },
    {
      "cell_type": "markdown",
      "id": "93cfeab3",
      "metadata": {
        "id": "93cfeab3"
      },
      "source": [
        "#### 81. Consider an array Z = [1,2,3,4,5,6,7,8,9,10,11,12,13,14], how to generate an array R = [[1,2,3,4], [2,3,4,5], [3,4,5,6], ..., [11,12,13,14]]? (★★★)"
      ]
    },
    {
      "cell_type": "code",
      "execution_count": 160,
      "id": "360de791",
      "metadata": {
        "id": "360de791",
        "colab": {
          "base_uri": "https://localhost:8080/"
        },
        "outputId": "fa45bcbc-af4e-4c3e-c7cd-9c6fb52a360c"
      },
      "outputs": [
        {
          "output_type": "stream",
          "name": "stdout",
          "text": [
            "Array R:\n",
            "[[ 1  2  3  4]\n",
            " [ 2  3  4  5]\n",
            " [ 3  4  5  6]\n",
            " [ 4  5  6  7]\n",
            " [ 5  6  7  8]\n",
            " [ 6  7  8  9]\n",
            " [ 7  8  9 10]\n",
            " [ 8  9 10 11]\n",
            " [ 9 10 11 12]\n",
            " [10 11 12 13]\n",
            " [11 12 13 14]]\n"
          ]
        }
      ],
      "source": [
        "Z = np.array([1, 2, 3, 4, 5, 6, 7, 8, 9, 10, 11, 12, 13, 14])\n",
        "\n",
        "subarray_length = 4\n",
        "\n",
        "R = [Z[i:i+subarray_length] for i in range(len(Z) - subarray_length + 1)]\n",
        "\n",
        "R = np.array(R)\n",
        "\n",
        "print(\"Array R:\")\n",
        "print(R)"
      ]
    },
    {
      "cell_type": "markdown",
      "id": "4c15ceff",
      "metadata": {
        "id": "4c15ceff"
      },
      "source": [
        "#### 82. Compute a matrix rank (★★★)"
      ]
    },
    {
      "cell_type": "code",
      "execution_count": 161,
      "id": "9a4272d2",
      "metadata": {
        "id": "9a4272d2",
        "colab": {
          "base_uri": "https://localhost:8080/"
        },
        "outputId": "3a0cdd90-39b8-4b37-a29e-9e3462f4eb18"
      },
      "outputs": [
        {
          "output_type": "stream",
          "name": "stdout",
          "text": [
            "Matrix:\n",
            "[[1 2 3]\n",
            " [4 5 6]\n",
            " [7 8 9]]\n",
            "Rank of the matrix: 2\n"
          ]
        }
      ],
      "source": [
        "matrix = np.array([[1, 2, 3],\n",
        "                   [4, 5, 6],\n",
        "                   [7, 8, 9]])\n",
        "\n",
        "rank = np.linalg.matrix_rank(matrix)\n",
        "\n",
        "print(\"Matrix:\")\n",
        "print(matrix)\n",
        "print(\"Rank of the matrix:\", rank)"
      ]
    },
    {
      "cell_type": "markdown",
      "id": "1171cb84",
      "metadata": {
        "id": "1171cb84"
      },
      "source": [
        "#### 83. How to find the most frequent value in an array?"
      ]
    },
    {
      "cell_type": "code",
      "execution_count": 162,
      "id": "33e951c8",
      "metadata": {
        "id": "33e951c8",
        "colab": {
          "base_uri": "https://localhost:8080/"
        },
        "outputId": "5f140226-f4bf-4ba3-a873-c5a5d5765532"
      },
      "outputs": [
        {
          "output_type": "stream",
          "name": "stdout",
          "text": [
            "Most frequent value in the array: 2\n",
            "Frequency: 5\n"
          ]
        }
      ],
      "source": [
        "arr = np.array([1, 2, 3, 2, 2, 4, 5, 2, 6, 6, 2])\n",
        "\n",
        "unique_elements, counts = np.unique(arr, return_counts=True)\n",
        "\n",
        "most_frequent_index = np.argmax(counts)\n",
        "\n",
        "most_frequent_value = unique_elements[most_frequent_index]\n",
        "\n",
        "print(\"Most frequent value in the array:\", most_frequent_value)\n",
        "print(\"Frequency:\", counts[most_frequent_index])"
      ]
    },
    {
      "cell_type": "markdown",
      "id": "04f472aa",
      "metadata": {
        "id": "04f472aa"
      },
      "source": [
        "#### 84. Extract all the contiguous 3x3 blocks from a random 10x10 matrix (★★★)"
      ]
    },
    {
      "cell_type": "code",
      "execution_count": 163,
      "id": "7aade14a",
      "metadata": {
        "id": "7aade14a",
        "colab": {
          "base_uri": "https://localhost:8080/"
        },
        "outputId": "d9fc1a30-98fc-4c33-bffd-69aac786791e"
      },
      "outputs": [
        {
          "output_type": "stream",
          "name": "stdout",
          "text": [
            "Original 10x10 Matrix:\n",
            "[[47 89 82 38 26 78 73 10 21 81]\n",
            " [70 80 48 65 83 89 50 30 20 20]\n",
            " [15 40 33 66 10 58 33 32 75 24]\n",
            " [36 76 56 29 35  1  1 37 54  6]\n",
            " [39 18 80  5 43 59 32  2 66 42]\n",
            " [58 36 12 47 83 92  1 15 54 13]\n",
            " [43 85 76 69  7 69 48  4 77 53]\n",
            " [79 16 21 59 24 80 14 86 49 50]\n",
            " [70 42 36 65 96 70 95  1 51 37]\n",
            " [35 49 94  4 99 43 78 22 74  1]]\n",
            "\n",
            "Contiguous 3x3 Blocks:\n",
            "[[[47 89 82]\n",
            "  [70 80 48]\n",
            "  [15 40 33]]\n",
            "\n",
            " [[89 82 38]\n",
            "  [80 48 65]\n",
            "  [40 33 66]]\n",
            "\n",
            " [[82 38 26]\n",
            "  [48 65 83]\n",
            "  [33 66 10]]\n",
            "\n",
            " [[38 26 78]\n",
            "  [65 83 89]\n",
            "  [66 10 58]]\n",
            "\n",
            " [[26 78 73]\n",
            "  [83 89 50]\n",
            "  [10 58 33]]\n",
            "\n",
            " [[78 73 10]\n",
            "  [89 50 30]\n",
            "  [58 33 32]]\n",
            "\n",
            " [[73 10 21]\n",
            "  [50 30 20]\n",
            "  [33 32 75]]\n",
            "\n",
            " [[10 21 81]\n",
            "  [30 20 20]\n",
            "  [32 75 24]]\n",
            "\n",
            " [[70 80 48]\n",
            "  [15 40 33]\n",
            "  [36 76 56]]\n",
            "\n",
            " [[80 48 65]\n",
            "  [40 33 66]\n",
            "  [76 56 29]]\n",
            "\n",
            " [[48 65 83]\n",
            "  [33 66 10]\n",
            "  [56 29 35]]\n",
            "\n",
            " [[65 83 89]\n",
            "  [66 10 58]\n",
            "  [29 35  1]]\n",
            "\n",
            " [[83 89 50]\n",
            "  [10 58 33]\n",
            "  [35  1  1]]\n",
            "\n",
            " [[89 50 30]\n",
            "  [58 33 32]\n",
            "  [ 1  1 37]]\n",
            "\n",
            " [[50 30 20]\n",
            "  [33 32 75]\n",
            "  [ 1 37 54]]\n",
            "\n",
            " [[30 20 20]\n",
            "  [32 75 24]\n",
            "  [37 54  6]]\n",
            "\n",
            " [[15 40 33]\n",
            "  [36 76 56]\n",
            "  [39 18 80]]\n",
            "\n",
            " [[40 33 66]\n",
            "  [76 56 29]\n",
            "  [18 80  5]]\n",
            "\n",
            " [[33 66 10]\n",
            "  [56 29 35]\n",
            "  [80  5 43]]\n",
            "\n",
            " [[66 10 58]\n",
            "  [29 35  1]\n",
            "  [ 5 43 59]]\n",
            "\n",
            " [[10 58 33]\n",
            "  [35  1  1]\n",
            "  [43 59 32]]\n",
            "\n",
            " [[58 33 32]\n",
            "  [ 1  1 37]\n",
            "  [59 32  2]]\n",
            "\n",
            " [[33 32 75]\n",
            "  [ 1 37 54]\n",
            "  [32  2 66]]\n",
            "\n",
            " [[32 75 24]\n",
            "  [37 54  6]\n",
            "  [ 2 66 42]]\n",
            "\n",
            " [[36 76 56]\n",
            "  [39 18 80]\n",
            "  [58 36 12]]\n",
            "\n",
            " [[76 56 29]\n",
            "  [18 80  5]\n",
            "  [36 12 47]]\n",
            "\n",
            " [[56 29 35]\n",
            "  [80  5 43]\n",
            "  [12 47 83]]\n",
            "\n",
            " [[29 35  1]\n",
            "  [ 5 43 59]\n",
            "  [47 83 92]]\n",
            "\n",
            " [[35  1  1]\n",
            "  [43 59 32]\n",
            "  [83 92  1]]\n",
            "\n",
            " [[ 1  1 37]\n",
            "  [59 32  2]\n",
            "  [92  1 15]]\n",
            "\n",
            " [[ 1 37 54]\n",
            "  [32  2 66]\n",
            "  [ 1 15 54]]\n",
            "\n",
            " [[37 54  6]\n",
            "  [ 2 66 42]\n",
            "  [15 54 13]]\n",
            "\n",
            " [[39 18 80]\n",
            "  [58 36 12]\n",
            "  [43 85 76]]\n",
            "\n",
            " [[18 80  5]\n",
            "  [36 12 47]\n",
            "  [85 76 69]]\n",
            "\n",
            " [[80  5 43]\n",
            "  [12 47 83]\n",
            "  [76 69  7]]\n",
            "\n",
            " [[ 5 43 59]\n",
            "  [47 83 92]\n",
            "  [69  7 69]]\n",
            "\n",
            " [[43 59 32]\n",
            "  [83 92  1]\n",
            "  [ 7 69 48]]\n",
            "\n",
            " [[59 32  2]\n",
            "  [92  1 15]\n",
            "  [69 48  4]]\n",
            "\n",
            " [[32  2 66]\n",
            "  [ 1 15 54]\n",
            "  [48  4 77]]\n",
            "\n",
            " [[ 2 66 42]\n",
            "  [15 54 13]\n",
            "  [ 4 77 53]]\n",
            "\n",
            " [[58 36 12]\n",
            "  [43 85 76]\n",
            "  [79 16 21]]\n",
            "\n",
            " [[36 12 47]\n",
            "  [85 76 69]\n",
            "  [16 21 59]]\n",
            "\n",
            " [[12 47 83]\n",
            "  [76 69  7]\n",
            "  [21 59 24]]\n",
            "\n",
            " [[47 83 92]\n",
            "  [69  7 69]\n",
            "  [59 24 80]]\n",
            "\n",
            " [[83 92  1]\n",
            "  [ 7 69 48]\n",
            "  [24 80 14]]\n",
            "\n",
            " [[92  1 15]\n",
            "  [69 48  4]\n",
            "  [80 14 86]]\n",
            "\n",
            " [[ 1 15 54]\n",
            "  [48  4 77]\n",
            "  [14 86 49]]\n",
            "\n",
            " [[15 54 13]\n",
            "  [ 4 77 53]\n",
            "  [86 49 50]]\n",
            "\n",
            " [[43 85 76]\n",
            "  [79 16 21]\n",
            "  [70 42 36]]\n",
            "\n",
            " [[85 76 69]\n",
            "  [16 21 59]\n",
            "  [42 36 65]]\n",
            "\n",
            " [[76 69  7]\n",
            "  [21 59 24]\n",
            "  [36 65 96]]\n",
            "\n",
            " [[69  7 69]\n",
            "  [59 24 80]\n",
            "  [65 96 70]]\n",
            "\n",
            " [[ 7 69 48]\n",
            "  [24 80 14]\n",
            "  [96 70 95]]\n",
            "\n",
            " [[69 48  4]\n",
            "  [80 14 86]\n",
            "  [70 95  1]]\n",
            "\n",
            " [[48  4 77]\n",
            "  [14 86 49]\n",
            "  [95  1 51]]\n",
            "\n",
            " [[ 4 77 53]\n",
            "  [86 49 50]\n",
            "  [ 1 51 37]]\n",
            "\n",
            " [[79 16 21]\n",
            "  [70 42 36]\n",
            "  [35 49 94]]\n",
            "\n",
            " [[16 21 59]\n",
            "  [42 36 65]\n",
            "  [49 94  4]]\n",
            "\n",
            " [[21 59 24]\n",
            "  [36 65 96]\n",
            "  [94  4 99]]\n",
            "\n",
            " [[59 24 80]\n",
            "  [65 96 70]\n",
            "  [ 4 99 43]]\n",
            "\n",
            " [[24 80 14]\n",
            "  [96 70 95]\n",
            "  [99 43 78]]\n",
            "\n",
            " [[80 14 86]\n",
            "  [70 95  1]\n",
            "  [43 78 22]]\n",
            "\n",
            " [[14 86 49]\n",
            "  [95  1 51]\n",
            "  [78 22 74]]\n",
            "\n",
            " [[86 49 50]\n",
            "  [ 1 51 37]\n",
            "  [22 74  1]]]\n"
          ]
        }
      ],
      "source": [
        "random_matrix = np.random.randint(1, 100, size=(10, 10))\n",
        "\n",
        "contiguous_blocks = []\n",
        "for i in range(8):\n",
        "    for j in range(8):\n",
        "        block = random_matrix[i:i+3, j:j+3]\n",
        "        contiguous_blocks.append(block)\n",
        "\n",
        "contiguous_blocks = np.array(contiguous_blocks)\n",
        "\n",
        "print(\"Original 10x10 Matrix:\")\n",
        "print(random_matrix)\n",
        "print(\"\\nContiguous 3x3 Blocks:\")\n",
        "print(contiguous_blocks)"
      ]
    },
    {
      "cell_type": "markdown",
      "id": "52836346",
      "metadata": {
        "id": "52836346"
      },
      "source": [
        "#### 85. Create a 2D array subclass such that Z[i,j] == Z[j,i] (★★★)"
      ]
    },
    {
      "cell_type": "code",
      "execution_count": 164,
      "id": "4df70318",
      "metadata": {
        "id": "4df70318",
        "colab": {
          "base_uri": "https://localhost:8080/"
        },
        "outputId": "c59997ef-c8e5-4ecf-bd09-84044443ca9e"
      },
      "outputs": [
        {
          "output_type": "stream",
          "name": "stdout",
          "text": [
            "Original Array:\n",
            "[[1 2 3]\n",
            " [4 5 6]\n",
            " [7 8 9]]\n",
            "\n",
            "Symmetric Array:\n",
            "[[1 2 3]\n",
            " [2 5 6]\n",
            " [3 6 9]]\n"
          ]
        }
      ],
      "source": [
        "original_array = np.array([[1, 2, 3],\n",
        "                           [4, 5, 6],\n",
        "                           [7, 8, 9]])\n",
        "\n",
        "symmetric_array = np.triu(original_array) + np.triu(original_array, k=1).T\n",
        "\n",
        "print(\"Original Array:\")\n",
        "print(original_array)\n",
        "\n",
        "print(\"\\nSymmetric Array:\")\n",
        "print(symmetric_array)"
      ]
    },
    {
      "cell_type": "markdown",
      "id": "78c43ee5",
      "metadata": {
        "id": "78c43ee5"
      },
      "source": [
        "#### 86. Consider a set of p matrices with shape (n,n) and a set of p vectors with shape (n,1). How to compute the sum of of the p matrix products at once? (result has shape (n,1)) (★★★)"
      ]
    },
    {
      "cell_type": "code",
      "execution_count": 165,
      "id": "32fd2c3b",
      "metadata": {
        "id": "32fd2c3b",
        "colab": {
          "base_uri": "https://localhost:8080/"
        },
        "outputId": "8f568253-076f-45e9-a3f9-7cc67683cb5c"
      },
      "outputs": [
        {
          "output_type": "stream",
          "name": "stdout",
          "text": [
            "Result:\n",
            "[[3.36272069]\n",
            " [3.22736407]\n",
            " [3.17583651]\n",
            " [2.61830605]]\n"
          ]
        }
      ],
      "source": [
        "p = 3\n",
        "n = 4\n",
        "\n",
        "matrices = np.random.rand(p, n, n)\n",
        "vectors = np.random.rand(p, n, 1)\n",
        "\n",
        "result = np.sum(matrices @ vectors, axis=0)\n",
        "\n",
        "print(\"Result:\")\n",
        "print(result)"
      ]
    },
    {
      "cell_type": "markdown",
      "id": "158f9945",
      "metadata": {
        "id": "158f9945"
      },
      "source": [
        "#### 87. Consider a 16x16 array, how to get the block-sum (block size is 4x4)? (★★★)"
      ]
    },
    {
      "cell_type": "code",
      "execution_count": 166,
      "id": "5a9b808f",
      "metadata": {
        "id": "5a9b808f",
        "colab": {
          "base_uri": "https://localhost:8080/"
        },
        "outputId": "e998b22c-b381-4862-e5a3-7f8965a1f2e8"
      },
      "outputs": [
        {
          "output_type": "stream",
          "name": "stdout",
          "text": [
            "Original 16x16 Array:\n",
            "[[2 7 9 9 4 3 4 7 4 7 6 8 1 9 5 7]\n",
            " [6 9 3 4 8 6 4 5 6 4 4 8 8 4 3 4]\n",
            " [8 8 6 2 3 3 9 2 6 9 5 1 3 6 6 1]\n",
            " [9 2 2 1 4 9 9 5 5 1 4 8 4 3 2 2]\n",
            " [3 2 5 3 6 6 6 3 6 8 8 7 2 7 8 3]\n",
            " [4 2 6 3 1 2 1 7 1 5 9 5 4 4 9 9]\n",
            " [8 1 4 9 8 8 2 9 5 8 1 5 1 7 5 3]\n",
            " [5 7 4 4 8 9 6 1 9 6 5 8 5 2 4 4]\n",
            " [3 6 3 4 6 8 3 8 2 7 6 1 1 4 2 7]\n",
            " [7 8 9 9 8 1 9 7 9 9 4 7 2 8 5 3]\n",
            " [1 9 3 8 9 5 5 2 8 7 5 2 6 8 2 4]\n",
            " [6 8 4 7 7 8 2 7 1 4 9 5 2 5 6 1]\n",
            " [4 2 5 5 5 1 1 9 5 7 4 4 3 2 3 2]\n",
            " [4 5 2 2 1 8 9 5 4 6 7 4 3 9 2 5]\n",
            " [1 9 4 6 6 2 8 9 7 5 8 4 6 4 7 5]\n",
            " [8 4 1 6 4 8 6 6 9 1 9 4 7 4 3 8]]\n",
            "\n",
            "Block-Sum (4x4 blocks):\n",
            "[[87 85 86 68]\n",
            " [70 83 96 77]\n",
            " [95 95 86 66]\n",
            " [68 88 88 73]]\n"
          ]
        }
      ],
      "source": [
        "array_16x16 = np.random.randint(1, 10, size=(16, 16))\n",
        "\n",
        "block_size = 4\n",
        "\n",
        "blocks = array_16x16.reshape(array_16x16.shape[0] // block_size, block_size, -1, block_size).sum(axis=(1, 3))\n",
        "\n",
        "print(\"Original 16x16 Array:\")\n",
        "print(array_16x16)\n",
        "print(\"\\nBlock-Sum (4x4 blocks):\")\n",
        "print(blocks)"
      ]
    },
    {
      "cell_type": "markdown",
      "id": "2e0ad860",
      "metadata": {
        "id": "2e0ad860"
      },
      "source": [
        "#### 88. How to implement the Game of Life using numpy arrays? (★★★)"
      ]
    },
    {
      "cell_type": "code",
      "execution_count": 167,
      "id": "574acff5",
      "metadata": {
        "id": "574acff5",
        "colab": {
          "base_uri": "https://localhost:8080/",
          "height": 435
        },
        "outputId": "79385b9c-549f-43e7-c5cc-b7acbbea5621"
      },
      "outputs": [
        {
          "output_type": "display_data",
          "data": {
            "text/plain": [
              "<Figure size 640x480 with 1 Axes>"
            ],
            "image/png": "[encoded data removed]"
          },
          "metadata": {}
        }
      ],
      "source": [
        "#GOOGLED\n",
        "import matplotlib.pyplot as plt\n",
        "import matplotlib.animation as animation\n",
        "\n",
        "# Constants\n",
        "GRID_SIZE = 50\n",
        "FPS = 10\n",
        "\n",
        "# Initialize the grid with random values (0s and 1s)\n",
        "grid = np.random.choice([0, 1], size=(GRID_SIZE, GRID_SIZE))\n",
        "\n",
        "# Set up the figure and axis\n",
        "fig, ax = plt.subplots()\n",
        "mat = ax.matshow(grid, cmap='Greys')\n",
        "\n",
        "# Function to update the animation frame\n",
        "for _ in range(100):\n",
        "    neighbor_counts = sum(np.roll(np.roll(grid, i, axis=0), j, axis=1)\n",
        "                          for i in (-1, 0, 1) for j in (-1, 0, 1)) - grid\n",
        "    grid = (neighbor_counts == 3) | (grid & (neighbor_counts == 2))\n",
        "    mat.set_array(grid)\n",
        "    plt.pause(0.1)\n",
        "\n",
        "# Show the animation\n",
        "plt.show()"
      ]
    },
    {
      "cell_type": "markdown",
      "id": "69a892fa",
      "metadata": {
        "id": "69a892fa"
      },
      "source": [
        "#### 89. How to get the n largest values of an array (★★★)"
      ]
    },
    {
      "cell_type": "code",
      "execution_count": 168,
      "id": "21b2bd48",
      "metadata": {
        "id": "21b2bd48",
        "colab": {
          "base_uri": "https://localhost:8080/"
        },
        "outputId": "58c8911d-f85d-46f8-8993-6cb50ace7b21"
      },
      "outputs": [
        {
          "output_type": "stream",
          "name": "stdout",
          "text": [
            "The 3 largest values in the array are: [7 8 9]\n"
          ]
        }
      ],
      "source": [
        "arr = np.array([4, 2, 8, 1, 6, 9, 3, 5, 7])\n",
        "n_largest = 3\n",
        "\n",
        "n_largest_values = np.partition(arr, -n_largest)[-n_largest:]\n",
        "\n",
        "print(f\"The {n_largest} largest values in the array are: {n_largest_values}\")"
      ]
    },
    {
      "cell_type": "markdown",
      "id": "b55ccacc",
      "metadata": {
        "id": "b55ccacc"
      },
      "source": [
        "#### 90. Given an arbitrary number of vectors, build the cartesian product (every combinations of every item) (★★★)"
      ]
    },
    {
      "cell_type": "code",
      "execution_count": 169,
      "id": "4b645da4",
      "metadata": {
        "id": "4b645da4",
        "colab": {
          "base_uri": "https://localhost:8080/"
        },
        "outputId": "58df6eb6-8d30-4d4a-d7ae-cb961e9519c0"
      },
      "outputs": [
        {
          "output_type": "stream",
          "name": "stdout",
          "text": [
            "Cartesian Product:\n",
            "[[1 4 6]\n",
            " [1 4 7]\n",
            " [1 4 8]\n",
            " [1 5 6]\n",
            " [1 5 7]\n",
            " [1 5 8]\n",
            " [2 4 6]\n",
            " [2 4 7]\n",
            " [2 4 8]\n",
            " [2 5 6]\n",
            " [2 5 7]\n",
            " [2 5 8]\n",
            " [3 4 6]\n",
            " [3 4 7]\n",
            " [3 4 8]\n",
            " [3 5 6]\n",
            " [3 5 7]\n",
            " [3 5 8]]\n"
          ]
        }
      ],
      "source": [
        "vector1 = np.array([1, 2, 3])\n",
        "vector2 = np.array([4, 5])\n",
        "vector3 = np.array([6, 7, 8])\n",
        "\n",
        "meshgrid_arrays = np.meshgrid(vector1, vector2, vector3, indexing='ij')\n",
        "cartesian_product = np.vstack([grid.ravel() for grid in meshgrid_arrays]).T\n",
        "\n",
        "print(\"Cartesian Product:\")\n",
        "print(cartesian_product)"
      ]
    },
    {
      "cell_type": "markdown",
      "id": "89187a23",
      "metadata": {
        "id": "89187a23"
      },
      "source": [
        "#### 91. How to create a record array from a regular array? (★★★)"
      ]
    },
    {
      "cell_type": "code",
      "execution_count": 170,
      "id": "da94c71a",
      "metadata": {
        "id": "da94c71a",
        "colab": {
          "base_uri": "https://localhost:8080/"
        },
        "outputId": "06b1068c-959a-4c5c-f6ff-95a5e9470e5f"
      },
      "outputs": [
        {
          "output_type": "stream",
          "name": "stdout",
          "text": [
            "Regular Array:\n",
            "[(1, 'Alice', 25) (2, 'Bob', 30) (3, 'Charlie', 28)]\n",
            "\n",
            "Record Array:\n",
            "[(1, 'Alice', 25) (2, 'Bob', 30) (3, 'Charlie', 28)]\n"
          ]
        }
      ],
      "source": [
        "regular_array = np.array([(1, 'Alice', 25),\n",
        "                         (2, 'Bob', 30),\n",
        "                         (3, 'Charlie', 28)],\n",
        "                        dtype=[('id', int), ('name', 'U10'), ('age', int)])\n",
        "\n",
        "record_array = np.array(regular_array, dtype=[('id', int), ('name', 'U10'), ('age', int)])\n",
        "\n",
        "print(\"Regular Array:\")\n",
        "print(regular_array)\n",
        "\n",
        "print(\"\\nRecord Array:\")\n",
        "print(record_array)"
      ]
    },
    {
      "cell_type": "markdown",
      "id": "aa70d4ca",
      "metadata": {
        "id": "aa70d4ca"
      },
      "source": [
        "#### 92. Consider a large vector Z, compute Z to the power of 3 using 3 different methods (★★★)"
      ]
    },
    {
      "cell_type": "code",
      "source": [
        "Z = np.random.rand(1000000)\n",
        "result2 = np.power(Z, 3)"
      ],
      "metadata": {
        "id": "m0wyOIVl0UbU"
      },
      "id": "m0wyOIVl0UbU",
      "execution_count": 171,
      "outputs": []
    },
    {
      "cell_type": "code",
      "source": [
        "Z = np.random.rand(1000000)\n",
        "result3 = np.einsum('i,i,i->i', Z, Z, Z)"
      ],
      "metadata": {
        "id": "g4pCpQU90UTm"
      },
      "id": "g4pCpQU90UTm",
      "execution_count": 172,
      "outputs": []
    },
    {
      "cell_type": "code",
      "execution_count": 173,
      "id": "7cff1bf5",
      "metadata": {
        "id": "7cff1bf5"
      },
      "outputs": [],
      "source": [
        "Z = np.random.rand(1000000)\n",
        "result1 = Z ** 3"
      ]
    },
    {
      "cell_type": "markdown",
      "id": "5f79dd00",
      "metadata": {
        "id": "5f79dd00"
      },
      "source": [
        "#### 93. Consider two arrays A and B of shape (8,3) and (2,2). How to find rows of A that contain elements of each row of B regardless of the order of the elements in B? (★★★)"
      ]
    },
    {
      "cell_type": "code",
      "execution_count": 174,
      "id": "20c105b2",
      "metadata": {
        "id": "20c105b2",
        "colab": {
          "base_uri": "https://localhost:8080/"
        },
        "outputId": "9ffb65e3-c536-4a97-e639-a84d80343d88"
      },
      "outputs": [
        {
          "output_type": "stream",
          "name": "stdout",
          "text": [
            "Array A:\n",
            "[[7 5 2]\n",
            " [4 9 4]\n",
            " [9 5 9]\n",
            " [4 4 2]\n",
            " [8 3 9]\n",
            " [7 6 3]\n",
            " [1 6 5]\n",
            " [8 1 1]]\n",
            "\n",
            "Array B:\n",
            "[[4 8]\n",
            " [5 1]]\n",
            "\n",
            "Rows of A containing elements of each row of B:\n",
            "[[1 6 5]]\n"
          ]
        }
      ],
      "source": [
        "A = np.random.randint(1, 10, size=(8, 3))\n",
        "B = np.random.randint(1, 10, size=(2, 2))\n",
        "\n",
        "B_sets = [set(row) for row in B]\n",
        "\n",
        "\n",
        "result_rows = []\n",
        "for row_set in B_sets:\n",
        "    mask = np.array([row_set.issubset(set(row)) for row in A])\n",
        "    result_rows.append(A[mask])\n",
        "\n",
        "result = np.vstack(result_rows)\n",
        "\n",
        "print(\"Array A:\")\n",
        "print(A)\n",
        "print(\"\\nArray B:\")\n",
        "print(B)\n",
        "print(\"\\nRows of A containing elements of each row of B:\")\n",
        "print(result)"
      ]
    },
    {
      "cell_type": "markdown",
      "id": "a80570cd",
      "metadata": {
        "id": "a80570cd"
      },
      "source": [
        "#### 94. Considering a 10x3 matrix, extract rows with unequal values (e.g. [2,2,3]) (★★★)"
      ]
    },
    {
      "cell_type": "code",
      "execution_count": 175,
      "id": "84db8de1",
      "metadata": {
        "id": "84db8de1",
        "colab": {
          "base_uri": "https://localhost:8080/"
        },
        "outputId": "83720a6b-9500-4f15-f07b-eb9839504640"
      },
      "outputs": [
        {
          "output_type": "stream",
          "name": "stdout",
          "text": [
            "Original Matrix:\n",
            "[[2 2 2]\n",
            " [2 1 2]\n",
            " [1 1 3]\n",
            " [2 3 2]\n",
            " [3 2 3]\n",
            " [1 3 2]\n",
            " [3 2 2]\n",
            " [2 3 1]\n",
            " [3 3 2]\n",
            " [3 3 3]]\n",
            "\n",
            "Rows with Unequal Values:\n",
            "[[2 1 2]\n",
            " [1 1 3]\n",
            " [2 3 2]\n",
            " [3 2 3]\n",
            " [1 3 2]\n",
            " [3 2 2]\n",
            " [2 3 1]\n",
            " [3 3 2]\n",
            " [3 3 3]]\n"
          ]
        }
      ],
      "source": [
        "matrix = np.random.randint(1, 4, size=(10, 3))\n",
        "unequal_rows = matrix[~np.all(matrix == matrix[0, :], axis=1)]\n",
        "\n",
        "print(\"Original Matrix:\")\n",
        "print(matrix)\n",
        "print(\"\\nRows with Unequal Values:\")\n",
        "print(unequal_rows)"
      ]
    },
    {
      "cell_type": "markdown",
      "id": "ba154f43",
      "metadata": {
        "id": "ba154f43"
      },
      "source": [
        "#### 95. Convert a vector of ints into a matrix binary representation (★★★)"
      ]
    },
    {
      "cell_type": "code",
      "execution_count": 176,
      "id": "cfa96e1b",
      "metadata": {
        "id": "cfa96e1b",
        "colab": {
          "base_uri": "https://localhost:8080/"
        },
        "outputId": "44f38f4e-9876-44b7-86c5-3cddb20cb1b6"
      },
      "outputs": [
        {
          "output_type": "stream",
          "name": "stdout",
          "text": [
            "Original Vector:\n",
            "[ 2  5 10  7]\n",
            "\n",
            "Binary Matrix Representation:\n",
            "[[0 0 1 0]\n",
            " [0 1 0 1]\n",
            " [1 0 1 0]\n",
            " [0 1 1 1]]\n"
          ]
        }
      ],
      "source": [
        "int_vector = np.array([2, 5, 10, 7])\n",
        "max_value = np.max(int_vector)\n",
        "num_bits = int(np.ceil(np.log2(max_value + 1)))\n",
        "\n",
        "binary_matrix = np.array([(list(np.binary_repr(x, width=num_bits))) for x in int_vector], dtype=int)\n",
        "\n",
        "print(\"Original Vector:\")\n",
        "print(int_vector)\n",
        "print(\"\\nBinary Matrix Representation:\")\n",
        "print(binary_matrix)"
      ]
    },
    {
      "cell_type": "markdown",
      "id": "420e2343",
      "metadata": {
        "id": "420e2343"
      },
      "source": [
        "#### 96. Given a two dimensional array, how to extract unique rows? (★★★)"
      ]
    },
    {
      "cell_type": "code",
      "execution_count": 177,
      "id": "4680dfd0",
      "metadata": {
        "id": "4680dfd0",
        "colab": {
          "base_uri": "https://localhost:8080/"
        },
        "outputId": "b4a1ae48-5c08-4d4b-e197-8c48b7e23c93"
      },
      "outputs": [
        {
          "output_type": "stream",
          "name": "stdout",
          "text": [
            "Original 2D Array:\n",
            "[[1 2 3]\n",
            " [4 5 6]\n",
            " [1 2 3]\n",
            " [7 8 9]]\n",
            "\n",
            "Unique Rows:\n",
            "[[1 2 3]\n",
            " [4 5 6]\n",
            " [7 8 9]]\n"
          ]
        }
      ],
      "source": [
        "array_2d = np.array([[1, 2, 3],\n",
        "                     [4, 5, 6],\n",
        "                     [1, 2, 3],\n",
        "                     [7, 8, 9]])\n",
        "\n",
        "unique_rows = np.unique(array_2d, axis=0)\n",
        "\n",
        "print(\"Original 2D Array:\")\n",
        "print(array_2d)\n",
        "print(\"\\nUnique Rows:\")\n",
        "print(unique_rows)"
      ]
    },
    {
      "cell_type": "markdown",
      "id": "89fef2f3",
      "metadata": {
        "id": "89fef2f3"
      },
      "source": [
        "#### 97. Considering 2 vectors A & B, write the einsum equivalent of inner, outer, sum, and mul function (★★★)"
      ]
    },
    {
      "cell_type": "code",
      "source": [
        "A = np.array([1, 2, 3])\n",
        "B = np.array([4, 5, 6])\n",
        "\n",
        "inner_product = np.einsum('i,i', A, B)\n",
        "print(\"Inner Product:\", inner_product)"
      ],
      "metadata": {
        "colab": {
          "base_uri": "https://localhost:8080/"
        },
        "id": "N9U9_26F1xgq",
        "outputId": "25ff5a1e-5720-4fb6-ff2d-2e58b680eeb0"
      },
      "id": "N9U9_26F1xgq",
      "execution_count": 178,
      "outputs": [
        {
          "output_type": "stream",
          "name": "stdout",
          "text": [
            "Inner Product: 32\n"
          ]
        }
      ]
    },
    {
      "cell_type": "code",
      "source": [
        "A = np.array([1, 2, 3])\n",
        "B = np.array([4, 5, 6])\n",
        "\n",
        "outer_product = np.einsum('i,j->ij', A, B)\n",
        "print(\"Outer Product:\")\n",
        "print(outer_product)"
      ],
      "metadata": {
        "colab": {
          "base_uri": "https://localhost:8080/"
        },
        "id": "OKTvEqLS1xY6",
        "outputId": "67e170a9-af29-427c-aa52-3429dd3c65fd"
      },
      "id": "OKTvEqLS1xY6",
      "execution_count": 179,
      "outputs": [
        {
          "output_type": "stream",
          "name": "stdout",
          "text": [
            "Outer Product:\n",
            "[[ 4  5  6]\n",
            " [ 8 10 12]\n",
            " [12 15 18]]\n"
          ]
        }
      ]
    },
    {
      "cell_type": "code",
      "source": [
        "A = np.array([1, 2, 3])\n",
        "sum_result = np.einsum('i', A)\n",
        "print(\"Sum:\", sum_result)"
      ],
      "metadata": {
        "colab": {
          "base_uri": "https://localhost:8080/"
        },
        "id": "zN3EYg6o1xQ-",
        "outputId": "a59896ba-570b-4fd1-e89c-c92fe90508d1"
      },
      "id": "zN3EYg6o1xQ-",
      "execution_count": 180,
      "outputs": [
        {
          "output_type": "stream",
          "name": "stdout",
          "text": [
            "Sum: [1 2 3]\n"
          ]
        }
      ]
    },
    {
      "cell_type": "code",
      "execution_count": 181,
      "id": "bb9c14b2",
      "metadata": {
        "id": "bb9c14b2",
        "colab": {
          "base_uri": "https://localhost:8080/"
        },
        "outputId": "c74694c6-944d-4c6b-b8fb-bda5004e91fc"
      },
      "outputs": [
        {
          "output_type": "stream",
          "name": "stdout",
          "text": [
            "Multiplication:\n",
            "[ 4 10 18]\n"
          ]
        }
      ],
      "source": [
        "A = np.array([1, 2, 3])\n",
        "B = np.array([4, 5, 6])\n",
        "\n",
        "multiplication = np.einsum('i,i->i', A, B)\n",
        "print(\"Multiplication:\")\n",
        "print(multiplication)"
      ]
    },
    {
      "cell_type": "markdown",
      "id": "7ad5cc5f",
      "metadata": {
        "id": "7ad5cc5f"
      },
      "source": [
        "#### 98. Considering a path described by two vectors (X,Y), how to sample it using equidistant samples (★★★)?"
      ]
    },
    {
      "cell_type": "code",
      "execution_count": 182,
      "id": "0899d1d5",
      "metadata": {
        "id": "0899d1d5",
        "colab": {
          "base_uri": "https://localhost:8080/"
        },
        "outputId": "9f4b05c8-c523-4bda-c5ee-5ee18f28ddc2"
      },
      "outputs": [
        {
          "output_type": "stream",
          "name": "stdout",
          "text": [
            "Sampled Equidistant Path:\n",
            "[[ 1.          2.        ]\n",
            " [ 1.66666667  3.        ]\n",
            " [ 2.33333333  4.        ]\n",
            " [ 3.          5.        ]\n",
            " [ 4.          5.66666667]\n",
            " [ 5.          6.33333333]\n",
            " [ 6.          7.        ]\n",
            " [ 7.          8.        ]\n",
            " [ 8.          9.        ]\n",
            " [ 9.         10.        ]]\n"
          ]
        }
      ],
      "source": [
        "#GOOGLED\n",
        "X = np.array([1, 3, 6, 9])\n",
        "Y = np.array([2, 5, 7, 10])\n",
        "\n",
        "num_samples = 10\n",
        "\n",
        "path_length = np.sum(np.sqrt(np.diff(X)**2 + np.diff(Y)**2))\n",
        "\n",
        "step_size = path_length / (num_samples - 1)\n",
        "\n",
        "sampled_points = []\n",
        "for i in range(len(X) - 1):\n",
        "    segment_length = np.sqrt((X[i + 1] - X[i])**2 + (Y[i + 1] - Y[i])**2)\n",
        "    num_points_in_segment = int(np.round(segment_length / step_size))\n",
        "    x_segment = np.linspace(X[i], X[i + 1], num_points_in_segment + 1)[:-1]\n",
        "    y_segment = np.linspace(Y[i], Y[i + 1], num_points_in_segment + 1)[:-1]\n",
        "    sampled_points.extend(list(zip(x_segment, y_segment)))\n",
        "\n",
        "sampled_points.append((X[-1], Y[-1]))\n",
        "\n",
        "sampled_path = np.array(sampled_points)\n",
        "\n",
        "print(\"Sampled Equidistant Path:\")\n",
        "print(sampled_path)"
      ]
    },
    {
      "cell_type": "markdown",
      "id": "2b69272e",
      "metadata": {
        "id": "2b69272e"
      },
      "source": [
        "#### 99. Given an integer n and a 2D array X, select from X the rows which can be interpreted as draws from a multinomial distribution with n degrees, i.e., the rows which only contain integers and which sum to n. (★★★)"
      ]
    },
    {
      "cell_type": "code",
      "execution_count": 183,
      "id": "55c8b034",
      "metadata": {
        "id": "55c8b034",
        "colab": {
          "base_uri": "https://localhost:8080/"
        },
        "outputId": "05355193-1128-4b20-cef8-49b7359a66e8"
      },
      "outputs": [
        {
          "output_type": "stream",
          "name": "stdout",
          "text": [
            "Original 2D Array:\n",
            "[[1 2 3]\n",
            " [0 5 5]\n",
            " [2 3 4]\n",
            " [1 1 8]]\n",
            "\n",
            "Selected Rows:\n",
            "[[1 2 3]]\n"
          ]
        }
      ],
      "source": [
        "X = np.array([[1, 2, 3],\n",
        "              [0, 5, 5],\n",
        "              [2, 3, 4],\n",
        "              [1, 1, 8]])\n",
        "\n",
        "n = 6\n",
        "\n",
        "selected_rows = X[np.all(X.astype(int) == X, axis=1) & (np.sum(X, axis=1) == n)]\n",
        "\n",
        "print(\"Original 2D Array:\")\n",
        "print(X)\n",
        "print(\"\\nSelected Rows:\")\n",
        "print(selected_rows)"
      ]
    },
    {
      "cell_type": "markdown",
      "id": "59ab5516",
      "metadata": {
        "id": "59ab5516"
      },
      "source": [
        "#### 100. Compute bootstrapped 95% confidence intervals for the mean of a 1D array X (i.e., resample the elements of an array with replacement N times, compute the mean of each sample, and then compute percentiles over the means). (★★★)"
      ]
    },
    {
      "cell_type": "code",
      "execution_count": 184,
      "id": "450877d8",
      "metadata": {
        "id": "450877d8",
        "colab": {
          "base_uri": "https://localhost:8080/"
        },
        "outputId": "39f6c335-085a-4514-86e7-d5b4e1e5e216"
      },
      "outputs": [
        {
          "output_type": "stream",
          "name": "stdout",
          "text": [
            "Bootstrap Means:\n",
            "[5.6 6.2 5.2 6.1 4.9 7.2 6.5 4.9 5.5 7.  6.6 6.6 6.9 6.3 5.8 5.  5.  6.9\n",
            " 5.1 6.4 5.4 4.1 5.5 5.8 6.2 5.  6.3 5.9 5.6 5.5 4.7 6.6 5.3 6.1 5.  6.3\n",
            " 5.8 5.3 4.9 3.8 6.7 5.9 4.6 4.6 6.2 3.6 5.  4.1 6.2 5.1 5.  5.2 4.8 5.8\n",
            " 6.4 5.2 6.1 6.3 4.1 4.3 4.7 5.5 6.6 4.5 5.7 4.8 5.9 5.3 5.9 5.4 4.8 6.5\n",
            " 3.4 4.9 5.2 4.8 4.7 4.4 7.  5.9 5.2 6.4 6.  5.6 5.5 5.7 5.2 5.1 4.5 5.8\n",
            " 5.4 5.7 6.5 5.2 5.9 5.8 4.4 5.8 4.9 6.  3.8 5.9 6.2 5.  4.7 5.5 4.8 4.8\n",
            " 4.9 4.8 5.5 6.2 5.4 5.3 5.1 5.4 3.9 5.1 4.8 6.8 5.6 5.2 5.2 6.7 4.4 6.\n",
            " 5.  6.9 5.8 4.5 5.6 7.1 5.2 4.8 6.6 5.8 5.1 7.3 5.9 6.9 6.2 6.2 5.5 5.\n",
            " 5.9 6.9 7.1 7.1 6.4 3.5 5.3 5.2 4.3 5.9 4.6 5.3 4.6 5.5 5.2 3.7 5.8 4.8\n",
            " 7.2 6.1 4.7 5.2 6.3 5.9 5.  6.2 6.1 6.5 6.4 5.8 4.9 6.9 4.7 5.2 5.1 5.5\n",
            " 5.3 6.  6.  6.  7.  5.3 5.6 6.6 5.3 5.9 4.5 6.1 6.7 4.8 5.2 4.8 5.8 4.3\n",
            " 6.1 6.6 4.1 5.2 5.7 6.1 6.3 7.1 4.2 6.7 5.4 5.8 4.2 5.6 6.  5.4 6.  5.9\n",
            " 6.1 5.4 6.7 4.6 5.9 6.2 6.4 4.8 5.5 5.5 6.9 5.1 6.1 4.7 5.8 7.  5.8 6.4\n",
            " 5.9 4.4 6.1 4.  5.7 6.1 3.8 6.4 5.7 3.7 5.8 5.8 5.9 3.9 5.4 5.9 5.2 5.4\n",
            " 4.1 5.3 5.4 5.9 6.8 5.6 4.6 5.1 5.  4.8 7.4 4.2 4.4 6.8 4.6 5.5 5.8 5.6\n",
            " 5.3 4.8 4.7 5.6 5.5 5.8 5.8 4.7 5.4 6.1 5.9 5.2 5.4 4.5 5.3 5.4 4.6 4.4\n",
            " 4.7 4.9 5.1 4.3 5.4 5.  4.4 5.8 5.2 3.7 5.6 5.  7.3 4.7 5.4 5.5 6.7 4.4\n",
            " 3.4 4.5 4.8 4.6 5.4 7.1 5.8 3.7 4.5 7.4 2.7 6.  6.7 5.6 6.1 5.5 5.3 5.\n",
            " 5.7 6.1 5.2 5.9 4.4 7.  5.5 3.6 6.1 5.5 3.3 6.  5.4 5.5 5.8 7.  6.  5.3\n",
            " 6.3 5.4 5.4 4.6 4.8 5.2 4.8 5.2 5.2 3.3 6.3 4.7 5.6 4.6 7.2 4.8 6.  4.6\n",
            " 7.2 6.2 7.4 5.5 4.1 4.4 4.3 6.3 5.8 4.9 6.4 5.6 6.2 5.5 5.7 4.5 5.3 6.7\n",
            " 5.9 5.2 5.4 4.8 5.4 6.1 6.  5.4 5.4 6.4 7.6 5.7 5.9 6.5 4.4 3.7 4.5 5.7\n",
            " 6.1 5.6 6.2 5.7 3.8 5.1 6.2 7.4 3.9 4.9 5.  4.9 5.7 6.1 5.5 5.8 4.4 5.5\n",
            " 4.  6.4 5.3 6.5 5.1 5.4 5.  5.1 6.7 4.7 4.7 6.1 5.7 5.3 6.1 5.  6.4 5.2\n",
            " 5.2 7.7 6.8 4.8 7.  5.9 5.5 6.1 5.1 4.5 5.7 5.8 6.  6.4 5.  5.9 7.3 4.1\n",
            " 5.5 5.8 6.4 7.6 7.  4.8 5.9 4.6 7.3 6.1 4.8 6.5 3.1 5.4 5.1 5.4 6.7 4.9\n",
            " 5.8 5.8 6.4 6.9 5.5 5.5 6.3 4.6 5.4 5.1 6.2 5.  4.6 4.8 6.9 6.3 7.  6.1\n",
            " 6.  5.2 3.1 4.9 5.8 6.3 5.6 5.2 4.8 5.8 6.6 6.6 7.  5.  6.8 4.1 5.8 5.1\n",
            " 5.  5.9 6.7 4.3 3.7 6.2 5.  4.8 5.5 4.8 5.2 3.3 4.1 5.5 5.5 4.3 5.8 4.9\n",
            " 5.1 6.7 4.4 6.7 6.5 6.  5.5 4.7 5.8 5.  5.3 4.  5.9 5.7 6.4 3.7 4.5 5.9\n",
            " 5.4 5.  6.1 4.3 5.1 5.7 5.9 5.4 4.6 5.2 3.5 5.1 5.5 4.9 5.2 3.9 4.6 4.5\n",
            " 4.8 6.8 7.8 3.9 6.6 5.9 4.7 5.6 5.5 4.6 6.2 6.3 5.4 4.6 8.4 4.8 5.2 4.5\n",
            " 6.9 5.6 5.1 6.2 5.4 3.7 5.3 5.6 6.6 6.5 5.5 6.5 5.4 5.8 5.5 6.  6.8 6.8\n",
            " 6.1 5.4 5.3 6.5 6.1 7.5 5.  4.7 5.8 5.7 6.7 5.6 6.1 4.6 3.5 4.5 4.6 5.7\n",
            " 5.  4.2 6.1 5.  5.1 3.8 6.8 6.5 5.9 5.8 4.4 5.2 6.5 5.1 4.7 5.8 4.6 5.7\n",
            " 7.2 3.5 5.8 5.1 5.5 7.4 6.6 5.3 6.7 4.8 5.4 7.1 4.8 5.4 6.  5.2 7.  6.2\n",
            " 4.7 5.9 4.8 5.4 5.6 5.6 4.3 5.6 4.5 6.6 7.1 6.1 5.4 4.1 6.5 6.5 5.  4.4\n",
            " 4.9 4.2 7.5 5.9 7.1 7.3 5.  5.3 5.  5.6 7.9 6.5 4.9 4.  5.2 3.3 5.2 5.7\n",
            " 5.4 5.5 7.  6.4 6.7 5.2 6.7 6.8 5.6 6.9 6.7 6.9 4.8 4.6 4.8 5.4 6.5 3.9\n",
            " 6.  5.2 5.7 5.1 5.6 5.4 5.8 6.5 4.8 5.5 5.2 6.3 6.1 5.6 5.5 4.1 4.  5.2\n",
            " 5.4 6.7 5.8 5.6 3.8 4.4 7.3 5.  5.9 6.7 6.2 5.8 6.6 6.1 4.8 4.3 5.1 6.2\n",
            " 4.8 5.4 4.8 6.9 6.6 4.6 5.6 6.6 7.5 4.8 5.  5.  7.1 5.4 6.1 5.  5.7 6.1\n",
            " 6.1 5.2 5.4 6.7 6.1 6.3 6.9 5.9 5.4 5.6 4.8 5.9 5.  7.1 7.4 5.4 5.3 3.8\n",
            " 6.7 4.  4.7 5.4 5.7 5.8 5.6 5.1 5.8 5.4 5.4 5.8 4.2 4.8 6.  6.2 5.4 4.\n",
            " 3.7 6.4 7.8 4.9 4.5 6.7 6.7 5.8 5.7 3.9 5.1 5.5 7.1 5.5 5.3 5.6 6.7 5.1\n",
            " 4.3 4.6 7.8 5.3 6.2 4.6 4.7 7.9 5.6 6.3 6.1 4.6 4.9 4.8 4.2 4.9 4.2 6.4\n",
            " 4.7 4.  5.5 5.2 4.5 5.8 6.4 4.9 7.3 3.9 5.4 5.5 7.7 5.1 5.5 4.8 6.1 4.9\n",
            " 4.6 6.4 4.2 4.7 6.7 5.3 3.5 5.6 5.3 7.4 4.1 6.7 6.8 5.3 5.8 7.1 6.9 7.5\n",
            " 4.1 6.2 4.  5.9 5.7 7.  5.5 5.7 5.8 6.4 6.1 4.9 5.9 4.9 4.9 4.8 5.8 5.4\n",
            " 3.8 3.6 4.3 5.7 7.5 4.7 6.4 7.  5.7 5.9 4.9 5.3 5.3 6.8 5.4 4.6 4.8 4.\n",
            " 5.  4.1 5.6 5.2 6.1 5.6 6.9 6.6 6.1 4.  3.5 5.3 5.5 5.6 6.7 6.  4.6 5.5\n",
            " 7.2 4.4 6.7 4.6 6.3 4.5 7.8 6.  6.8 5.2 5.4 4.9 5.6 5.6 4.7 5.9 4.3 6.7\n",
            " 6.  5.8 6.3 5.6 6.4 4.  3.8 5.2 5.5 5.9 6.6 5.3 4.8 5.2 7.5 5.8 5.5 5.7\n",
            " 5.9 6.4 5.8 4.6 5.3 3.7 4.2 6.9 6.9 6.7 4.8 4.1 4.3 5.5 4.7 4.7 5.  5.3\n",
            " 5.9 3.8 5.7 5.9 4.5 4.7 5.6 6.5 5.1 6.3 3.6 5.5 5.6 4.5 4.3 5.3 5.8 7.\n",
            " 6.6 4.3 5.7 6.1 4.  5.  4.  5.1 6.8 4.2]\n",
            "\n",
            "95% Confidence Interval for the Mean:\n",
            "[3.7 7.3]\n"
          ]
        }
      ],
      "source": [
        "X = np.array([1, 2, 3, 4, 5, 6, 7, 8, 9, 10])\n",
        "\n",
        "N = 1000\n",
        "\n",
        "bootstrap_means = np.mean(np.random.choice(X, size=(N, len(X)), replace=True), axis=1)\n",
        "\n",
        "confidence_interval = np.percentile(bootstrap_means, [2.5, 97.5])\n",
        "\n",
        "print(\"Bootstrap Means:\")\n",
        "print(bootstrap_means)\n",
        "print(\"\\n95% Confidence Interval for the Mean:\")\n",
        "print(confidence_interval)"
      ]
    }
  ],
  "metadata": {
    "colab": {
      "provenance": []
    },
    "language_info": {
      "name": "python"
    },
    "kernelspec": {
      "name": "python3",
      "display_name": "Python 3"
    }
  },
  "nbformat": 4,
  "nbformat_minor": 5
}