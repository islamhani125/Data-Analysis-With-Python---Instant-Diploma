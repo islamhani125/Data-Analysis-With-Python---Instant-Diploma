{
  "cells": [
    {
      "cell_type": "markdown",
      "id": "3c1222ff",
      "metadata": {
        "id": "3c1222ff"
      },
      "source": [
        "#### 1. Import the numpy package under the name `np` (★☆☆)"
      ]
    },
    {
      "cell_type": "code",
      "execution_count": 2,
      "id": "f52e6a0b",
      "metadata": {
        "id": "f52e6a0b"
      },
      "outputs": [],
      "source": [
        "import numpy as np"
      ]
    },
    {
      "cell_type": "markdown",
      "id": "9d9f4753",
      "metadata": {
        "id": "9d9f4753"
      },
      "source": [
        "#### 2. Print the numpy version and the configuration (★☆☆)"
      ]
    },
    {
      "cell_type": "code",
      "execution_count": null,
      "id": "b7fa5fa1",
      "metadata": {
        "id": "b7fa5fa1",
        "colab": {
          "base_uri": "https://localhost:8080/",
          "height": 36
        },
        "outputId": "87f03094-d384-4746-e88f-536c02ac3564"
      },
      "outputs": [
        {
          "output_type": "execute_result",
          "data": {
            "text/plain": [
              "'1.23.5'"
            ],
            "application/vnd.google.colaboratory.intrinsic+json": {
              "type": "string"
            }
          },
          "metadata": {},
          "execution_count": 4
        }
      ],
      "source": [
        "np.__version__"
      ]
    },
    {
      "cell_type": "markdown",
      "id": "3e4c23c6",
      "metadata": {
        "id": "3e4c23c6"
      },
      "source": [
        "#### 3. Create a null vector of size 10 (★☆☆)"
      ]
    },
    {
      "cell_type": "code",
      "execution_count": null,
      "id": "083c5c46",
      "metadata": {
        "id": "083c5c46",
        "colab": {
          "base_uri": "https://localhost:8080/"
        },
        "outputId": "d09a1cf1-86f1-48ed-b64a-24c78ae2a298"
      },
      "outputs": [
        {
          "output_type": "execute_result",
          "data": {
            "text/plain": [
              "array([ 4.80924144e-310,  0.00000000e+000,  0.00000000e+000,\n",
              "        0.00000000e+000,  0.00000000e+000,  1.57111455e-076,\n",
              "        3.21442856e-057,  6.80918640e-091,  3.50758465e-033,\n",
              "       -3.66841750e+178])"
            ]
          },
          "metadata": {},
          "execution_count": 3
        }
      ],
      "source": [
        "np.empty(10)"
      ]
    },
    {
      "cell_type": "markdown",
      "id": "c38bbe82",
      "metadata": {
        "id": "c38bbe82"
      },
      "source": [
        "#### 4. How to find the memory size of any array (★☆☆)"
      ]
    },
    {
      "cell_type": "code",
      "execution_count": null,
      "id": "02b04021",
      "metadata": {
        "id": "02b04021",
        "colab": {
          "base_uri": "https://localhost:8080/"
        },
        "outputId": "debbb87e-3b78-489f-d05f-bbb65c72bd6f"
      },
      "outputs": [
        {
          "output_type": "execute_result",
          "data": {
            "text/plain": [
              "80"
            ]
          },
          "metadata": {},
          "execution_count": 5
        }
      ],
      "source": [
        "np.empty(10).size * np.empty(10).itemsize\n",
        "np.empty(10).nbytes"
      ]
    },
    {
      "cell_type": "markdown",
      "id": "67f893d4",
      "metadata": {
        "id": "67f893d4"
      },
      "source": [
        "#### 5. How to get the documentation of the numpy add function from the command line? (★☆☆)"
      ]
    },
    {
      "cell_type": "code",
      "execution_count": null,
      "id": "40e6b70d",
      "metadata": {
        "id": "40e6b70d"
      },
      "outputs": [],
      "source": [
        "np.add?"
      ]
    },
    {
      "cell_type": "markdown",
      "id": "e0c739c6",
      "metadata": {
        "id": "e0c739c6"
      },
      "source": [
        "#### 6. Create a null vector of size 10 but the fifth value which is 1 (★☆☆)"
      ]
    },
    {
      "cell_type": "code",
      "execution_count": null,
      "id": "bcceacf7",
      "metadata": {
        "id": "bcceacf7",
        "colab": {
          "base_uri": "https://localhost:8080/"
        },
        "outputId": "a15b8aa6-1074-405f-9c1b-da692f0dd0aa"
      },
      "outputs": [
        {
          "output_type": "stream",
          "name": "stdout",
          "text": [
            "[0. 0. 0. 0. 1. 0. 0. 0. 0. 0.]\n"
          ]
        }
      ],
      "source": [
        "a=np.zeros(10)\n",
        "a[4] = 1\n",
        "print(a)"
      ]
    },
    {
      "cell_type": "markdown",
      "id": "fbebedab",
      "metadata": {
        "id": "fbebedab"
      },
      "source": [
        "#### 7. Create a vector with values ranging from 10 to 49 (★☆☆)"
      ]
    },
    {
      "cell_type": "code",
      "execution_count": null,
      "id": "3d117d54",
      "metadata": {
        "id": "3d117d54",
        "colab": {
          "base_uri": "https://localhost:8080/"
        },
        "outputId": "206e50ec-21f0-444c-b4f5-9105a443e0ab"
      },
      "outputs": [
        {
          "output_type": "execute_result",
          "data": {
            "text/plain": [
              "array([10, 11, 12, 13, 14, 15, 16, 17, 18, 19, 20, 21, 22, 23, 24, 25, 26,\n",
              "       27, 28, 29, 30, 31, 32, 33, 34, 35, 36, 37, 38, 39, 40, 41, 42, 43,\n",
              "       44, 45, 46, 47, 48, 49])"
            ]
          },
          "metadata": {},
          "execution_count": 12
        }
      ],
      "source": [
        "np.arange(10,50)"
      ]
    },
    {
      "cell_type": "markdown",
      "id": "ad0bff02",
      "metadata": {
        "id": "ad0bff02"
      },
      "source": [
        "#### 8. Reverse a vector (first element becomes last) (★☆☆)"
      ]
    },
    {
      "cell_type": "code",
      "execution_count": null,
      "id": "22d23470",
      "metadata": {
        "id": "22d23470",
        "colab": {
          "base_uri": "https://localhost:8080/"
        },
        "outputId": "29eeea36-c6fe-4a1d-b3a8-85827b7290c4"
      },
      "outputs": [
        {
          "output_type": "stream",
          "name": "stdout",
          "text": [
            "[0 1 2 3 4 5]\n",
            "[5 4 3 2 1 0]\n"
          ]
        }
      ],
      "source": [
        "arr=np.arange(6)\n",
        "print(arr)\n",
        "rev=np.flip(arr)\n",
        "print(rev)"
      ]
    },
    {
      "cell_type": "markdown",
      "id": "9f59d7e1",
      "metadata": {
        "id": "9f59d7e1"
      },
      "source": [
        "#### 9. Create a 3x3 matrix with values ranging from 0 to 8 (★☆☆)"
      ]
    },
    {
      "cell_type": "code",
      "execution_count": null,
      "id": "7449e82d",
      "metadata": {
        "id": "7449e82d",
        "colab": {
          "base_uri": "https://localhost:8080/"
        },
        "outputId": "fcec6ff1-e82d-4fb1-a573-48ff45cdc5f4"
      },
      "outputs": [
        {
          "output_type": "execute_result",
          "data": {
            "text/plain": [
              "array([[0, 1, 2],\n",
              "       [3, 4, 5],\n",
              "       [6, 7, 8]])"
            ]
          },
          "metadata": {},
          "execution_count": 20
        }
      ],
      "source": [
        "n = np.arange(0,9).reshape(3,3)\n",
        "n"
      ]
    },
    {
      "cell_type": "markdown",
      "id": "f374c4cf",
      "metadata": {
        "id": "f374c4cf"
      },
      "source": [
        "#### 10. Find indices of non-zero elements from [1,2,0,0,4,0] (★☆☆)"
      ]
    },
    {
      "cell_type": "code",
      "execution_count": null,
      "id": "1a84bed8",
      "metadata": {
        "id": "1a84bed8",
        "colab": {
          "base_uri": "https://localhost:8080/"
        },
        "outputId": "442c4c10-ebd9-4076-b0ac-bcb13c81dfa3"
      },
      "outputs": [
        {
          "output_type": "execute_result",
          "data": {
            "text/plain": [
              "(array([0, 1, 4]),)"
            ]
          },
          "metadata": {},
          "execution_count": 23
        }
      ],
      "source": [
        "np.nonzero(np.array([1,2,0,0,4,0]))"
      ]
    },
    {
      "cell_type": "markdown",
      "id": "9c4707f5",
      "metadata": {
        "id": "9c4707f5"
      },
      "source": [
        "#### 11. Create a 3x3 identity matrix (★☆☆)"
      ]
    },
    {
      "cell_type": "code",
      "execution_count": null,
      "id": "29dc1fd3",
      "metadata": {
        "id": "29dc1fd3",
        "colab": {
          "base_uri": "https://localhost:8080/"
        },
        "outputId": "203f8306-849f-4ce5-ee5d-0796ad107a32"
      },
      "outputs": [
        {
          "output_type": "execute_result",
          "data": {
            "text/plain": [
              "array([[1., 0., 0.],\n",
              "       [0., 1., 0.],\n",
              "       [0., 0., 1.]])"
            ]
          },
          "metadata": {},
          "execution_count": 7
        }
      ],
      "source": [
        "np.eye(3)"
      ]
    },
    {
      "cell_type": "markdown",
      "id": "3bac294a",
      "metadata": {
        "id": "3bac294a"
      },
      "source": [
        "#### 12. Create a 3x3x3 array with random values (★☆☆)"
      ]
    },
    {
      "cell_type": "code",
      "execution_count": null,
      "id": "eadfae67",
      "metadata": {
        "id": "eadfae67",
        "colab": {
          "base_uri": "https://localhost:8080/"
        },
        "outputId": "e99a7ec3-183d-4741-8513-2750a9f5dc35"
      },
      "outputs": [
        {
          "output_type": "execute_result",
          "data": {
            "text/plain": [
              "array([[[ 0, 21, 73],\n",
              "        [82, 80, 17],\n",
              "        [ 2, 39,  5]],\n",
              "\n",
              "       [[65, 42, 28],\n",
              "        [55, 58, 35],\n",
              "        [ 9,  2, 36]],\n",
              "\n",
              "       [[35, 38, 98],\n",
              "        [12, 22, 60],\n",
              "        [48, 39, 47]]])"
            ]
          },
          "metadata": {},
          "execution_count": 27
        }
      ],
      "source": [
        "n = np.random.randint(0,101,27).reshape(3,3,3)\n",
        "n"
      ]
    },
    {
      "cell_type": "markdown",
      "id": "466c2989",
      "metadata": {
        "id": "466c2989"
      },
      "source": [
        "#### 13. Create a 10x10 array with random values and find the minimum and maximum values (★☆☆)"
      ]
    },
    {
      "cell_type": "code",
      "execution_count": null,
      "id": "9a74dbfc",
      "metadata": {
        "id": "9a74dbfc",
        "colab": {
          "base_uri": "https://localhost:8080/"
        },
        "outputId": "7a4afaf5-8f42-4a89-b288-ebfe45b07d05"
      },
      "outputs": [
        {
          "output_type": "stream",
          "name": "stdout",
          "text": [
            "[[ 37   7  90  66  12  86  21  41  52  66]\n",
            " [  1  85   5  91  89  22  74  44  89  10]\n",
            " [ 83  51  38  30  29  17  42  96  38  19]\n",
            " [ 63  33  89  38  81  88   8   1  73  20]\n",
            " [ 65  46  21  53  16  18  39  74  52  59]\n",
            " [  4  91  92  78  16   2   3  12  95  32]\n",
            " [ 56  11  49  25  46  30   0  76   0  69]\n",
            " [ 27  43  13  85  15  25  65  96  97  83]\n",
            " [  7  11  44  88  73  61  14  93  76 100]\n",
            " [ 93  46  98  49  52  53  39  83  16  36]]\n",
            "Minimum value:  0\n",
            "Maximum value:  100\n"
          ]
        }
      ],
      "source": [
        "n = np.random.randint(0,101,100).reshape(10,10)\n",
        "print(n)\n",
        "\n",
        "print(\"Minimum value: \",np.min(n))\n",
        "print(\"Maximum value: \",np.max(n))"
      ]
    },
    {
      "cell_type": "markdown",
      "id": "53a8edb2",
      "metadata": {
        "id": "53a8edb2"
      },
      "source": [
        "#### 14. Create a random vector of size 30 and find the mean value (★☆☆)"
      ]
    },
    {
      "cell_type": "code",
      "execution_count": null,
      "id": "6691530b",
      "metadata": {
        "id": "6691530b",
        "colab": {
          "base_uri": "https://localhost:8080/"
        },
        "outputId": "51e554d0-05a5-4382-f608-554a274fbfc1"
      },
      "outputs": [
        {
          "output_type": "execute_result",
          "data": {
            "text/plain": [
              "array([15,  6, 15, 24, 18, 17,  1,  0, 21, 26,  2, 11, 18,  1,  8, 21,  6,\n",
              "        9,  2,  8, 22,  8, 15, 24, 28,  3,  4,  7,  2, 10])"
            ]
          },
          "metadata": {},
          "execution_count": 61
        }
      ],
      "source": [
        "v = np.random.randint(0,31,30)\n",
        "v"
      ]
    },
    {
      "cell_type": "code",
      "source": [
        "mean_v = np.mean(v)\n",
        "mean_v"
      ],
      "metadata": {
        "colab": {
          "base_uri": "https://localhost:8080/"
        },
        "id": "y4Bw9QavNe1V",
        "outputId": "95c950a9-3d79-4f4a-c8e0-fb44a344c02b"
      },
      "id": "y4Bw9QavNe1V",
      "execution_count": null,
      "outputs": [
        {
          "output_type": "execute_result",
          "data": {
            "text/plain": [
              "11.733333333333333"
            ]
          },
          "metadata": {},
          "execution_count": 62
        }
      ]
    },
    {
      "cell_type": "markdown",
      "id": "cbaad31c",
      "metadata": {
        "id": "cbaad31c"
      },
      "source": [
        "#### 15. Create a 2d array with 1 on the border and 0 inside (★☆☆)"
      ]
    },
    {
      "cell_type": "code",
      "execution_count": null,
      "id": "ad8308e3",
      "metadata": {
        "id": "ad8308e3",
        "colab": {
          "base_uri": "https://localhost:8080/"
        },
        "outputId": "4a834fcc-7048-44e3-bbd8-9d0f6d2fb1b1"
      },
      "outputs": [
        {
          "output_type": "execute_result",
          "data": {
            "text/plain": [
              "array([[1., 1., 1., 1., 1., 1., 1., 1., 1., 1.],\n",
              "       [1., 0., 0., 0., 0., 0., 0., 0., 0., 1.],\n",
              "       [1., 0., 0., 0., 0., 0., 0., 0., 0., 1.],\n",
              "       [1., 0., 0., 0., 0., 0., 0., 0., 0., 1.],\n",
              "       [1., 0., 0., 0., 0., 0., 0., 0., 0., 1.],\n",
              "       [1., 0., 0., 0., 0., 0., 0., 0., 0., 1.],\n",
              "       [1., 0., 0., 0., 0., 0., 0., 0., 0., 1.],\n",
              "       [1., 0., 0., 0., 0., 0., 0., 0., 0., 1.],\n",
              "       [1., 0., 0., 0., 0., 0., 0., 0., 0., 1.],\n",
              "       [1., 1., 1., 1., 1., 1., 1., 1., 1., 1.]])"
            ]
          },
          "metadata": {},
          "execution_count": 11
        }
      ],
      "source": [
        "a = np.ones((10,10))\n",
        "a[1:-1,1:-1]=0\n",
        "a"
      ]
    },
    {
      "cell_type": "markdown",
      "id": "c5ecc267",
      "metadata": {
        "id": "c5ecc267"
      },
      "source": [
        "#### 16. How to add a border (filled with 0's) around an existing array? (★☆☆)"
      ]
    },
    {
      "cell_type": "code",
      "execution_count": null,
      "id": "9d5c78c4",
      "metadata": {
        "id": "9d5c78c4",
        "colab": {
          "base_uri": "https://localhost:8080/"
        },
        "outputId": "c7027f2c-17e4-4fe5-9906-34171470c25a"
      },
      "outputs": [
        {
          "output_type": "execute_result",
          "data": {
            "text/plain": [
              "array([[0., 0., 0., 0., 0., 0., 0., 0., 0.],\n",
              "       [0., 0., 0., 0., 0., 0., 0., 0., 0.],\n",
              "       [0., 0., 1., 1., 1., 1., 1., 0., 0.],\n",
              "       [0., 0., 1., 1., 1., 1., 1., 0., 0.],\n",
              "       [0., 0., 1., 1., 1., 1., 1., 0., 0.],\n",
              "       [0., 0., 1., 1., 1., 1., 1., 0., 0.],\n",
              "       [0., 0., 1., 1., 1., 1., 1., 0., 0.],\n",
              "       [0., 0., 0., 0., 0., 0., 0., 0., 0.],\n",
              "       [0., 0., 0., 0., 0., 0., 0., 0., 0.]])"
            ]
          },
          "metadata": {},
          "execution_count": 65
        }
      ],
      "source": [
        "a = np.ones((5,5))\n",
        "a = np.pad(a,2)\n",
        "a"
      ]
    },
    {
      "cell_type": "markdown",
      "id": "ef909b72",
      "metadata": {
        "id": "ef909b72"
      },
      "source": [
        "#### 17. What is the result of the following expression? (★☆☆)\n",
        "```python\n",
        "0 * np.nan\n",
        "np.nan == np.nan\n",
        "np.inf > np.nan\n",
        "np.nan - np.nan\n",
        "np.nan in set([np.nan])\n",
        "0.3 == 3 * 0.1\n",
        "```"
      ]
    },
    {
      "cell_type": "code",
      "execution_count": null,
      "id": "3b4985f2",
      "metadata": {
        "id": "3b4985f2"
      },
      "outputs": [],
      "source": [
        "True"
      ]
    },
    {
      "cell_type": "markdown",
      "id": "502738ac",
      "metadata": {
        "id": "502738ac"
      },
      "source": [
        "#### 18. Create a 5x5 matrix with values 1,2,3,4 just below the diagonal (★☆☆)"
      ]
    },
    {
      "cell_type": "code",
      "execution_count": null,
      "id": "faed6e2b",
      "metadata": {
        "id": "faed6e2b",
        "colab": {
          "base_uri": "https://localhost:8080/"
        },
        "outputId": "5098d82a-4dca-43ea-9b9f-44adc3785cbc"
      },
      "outputs": [
        {
          "output_type": "stream",
          "name": "stdout",
          "text": [
            "[[0. 0. 0. 0. 0.]\n",
            " [1. 0. 0. 0. 0.]\n",
            " [0. 2. 0. 0. 0.]\n",
            " [0. 0. 3. 0. 0.]\n",
            " [0. 0. 0. 4. 0.]]\n"
          ]
        }
      ],
      "source": [
        "n = np.zeros((5,5))\n",
        "np.fill_diagonal(n[1:],[1,2,3,4])\n",
        "print(n)"
      ]
    },
    {
      "cell_type": "markdown",
      "id": "a65da660",
      "metadata": {
        "id": "a65da660"
      },
      "source": [
        "#### 19. Create a 8x8 matrix and fill it with a checkerboard pattern (★☆☆)"
      ]
    },
    {
      "cell_type": "code",
      "execution_count": null,
      "id": "ed150400",
      "metadata": {
        "id": "ed150400",
        "colab": {
          "base_uri": "https://localhost:8080/"
        },
        "outputId": "662c4cb5-7c79-4ae5-9511-787b0151536a"
      },
      "outputs": [
        {
          "output_type": "stream",
          "name": "stdout",
          "text": [
            "[[0. 1. 0. 1. 0. 1. 0. 1.]\n",
            " [1. 0. 1. 0. 1. 0. 1. 0.]\n",
            " [0. 1. 0. 1. 0. 1. 0. 1.]\n",
            " [1. 0. 1. 0. 1. 0. 1. 0.]\n",
            " [0. 1. 0. 1. 0. 1. 0. 1.]\n",
            " [1. 0. 1. 0. 1. 0. 1. 0.]\n",
            " [0. 1. 0. 1. 0. 1. 0. 1.]\n",
            " [1. 0. 1. 0. 1. 0. 1. 0.]]\n"
          ]
        }
      ],
      "source": [
        "n = np.zeros((8,8))\n",
        "n[1::2,::2] = 1\n",
        "n[::2,1::2] = 1\n",
        "print(n)"
      ]
    },
    {
      "cell_type": "markdown",
      "id": "9f7f9c49",
      "metadata": {
        "id": "9f7f9c49"
      },
      "source": [
        "#### 20. Consider a (6,7,8) shape array, what is the index (x,y,z) of the 100th element? (★☆☆)"
      ]
    },
    {
      "cell_type": "code",
      "execution_count": null,
      "id": "3782b5a9",
      "metadata": {
        "id": "3782b5a9"
      },
      "outputs": [],
      "source": []
    },
    {
      "cell_type": "markdown",
      "id": "66bfda35",
      "metadata": {
        "id": "66bfda35"
      },
      "source": [
        "#### 21. Create a checkerboard 8x8 matrix using the tile function (★☆☆)"
      ]
    },
    {
      "cell_type": "code",
      "execution_count": null,
      "id": "4c07477c",
      "metadata": {
        "id": "4c07477c",
        "colab": {
          "base_uri": "https://localhost:8080/"
        },
        "outputId": "6722f15a-27a9-49d0-832a-baeea1e84e76"
      },
      "outputs": [
        {
          "output_type": "execute_result",
          "data": {
            "text/plain": [
              "array([[0, 1, 0, 1, 0, 1, 0, 1],\n",
              "       [1, 0, 1, 0, 1, 0, 1, 0],\n",
              "       [0, 1, 0, 1, 0, 1, 0, 1],\n",
              "       [1, 0, 1, 0, 1, 0, 1, 0],\n",
              "       [0, 1, 0, 1, 0, 1, 0, 1],\n",
              "       [1, 0, 1, 0, 1, 0, 1, 0],\n",
              "       [0, 1, 0, 1, 0, 1, 0, 1],\n",
              "       [1, 0, 1, 0, 1, 0, 1, 0]])"
            ]
          },
          "metadata": {},
          "execution_count": 76
        }
      ],
      "source": [
        "n = np.array([[0, 1], [1, 0]])\n",
        "n_8x8 = np.tile(n,(4,4))\n",
        "n_8x8"
      ]
    },
    {
      "cell_type": "markdown",
      "id": "d5bcfc08",
      "metadata": {
        "id": "d5bcfc08"
      },
      "source": [
        "#### 22. Normalize a 5x5 random matrix (★☆☆)"
      ]
    },
    {
      "cell_type": "code",
      "execution_count": null,
      "id": "cea6c993",
      "metadata": {
        "id": "cea6c993",
        "colab": {
          "base_uri": "https://localhost:8080/"
        },
        "outputId": "7bdcad4a-edac-4dd7-8413-700c6961ec9f"
      },
      "outputs": [
        {
          "output_type": "execute_result",
          "data": {
            "text/plain": [
              "array([ 3.43671827,  1.70773138,  1.53393919,  3.1483584 ,  2.07141695,\n",
              "        2.79696781, -0.65361733,  0.21465788,  1.89917658,  2.88376176,\n",
              "        2.18904774,  4.11663273,  0.87671196, -1.51504518,  2.75134443,\n",
              "        2.42132789, -0.30792686,  0.09895681,  0.69789325,  0.15464459,\n",
              "        2.35834324, -0.45421439,  2.57933556,  0.8654012 , -0.47617234])"
            ]
          },
          "metadata": {},
          "execution_count": 77
        }
      ],
      "source": [
        "n = np.random.normal(1.0,2.0,25)\n",
        "n"
      ]
    },
    {
      "cell_type": "markdown",
      "id": "f9a0911e",
      "metadata": {
        "id": "f9a0911e"
      },
      "source": [
        "#### 23. Create a custom dtype that describes a color as four unsigned bytes (RGBA) (★☆☆)"
      ]
    },
    {
      "cell_type": "code",
      "execution_count": null,
      "id": "d165044b",
      "metadata": {
        "id": "d165044b",
        "colab": {
          "base_uri": "https://localhost:8080/"
        },
        "outputId": "e63270d7-f9b4-46b2-e616-4c6205d0a57c"
      },
      "outputs": [
        {
          "output_type": "stream",
          "name": "stdout",
          "text": [
            "RGBA Color: (255, 0, 0, 128)\n"
          ]
        }
      ],
      "source": [
        "rgba_dtype = np.dtype([('R', np.uint8), ('G', np.uint8), ('B', np.uint8), ('A', np.uint8)])\n",
        "\n",
        "color = np.array((255, 0, 0, 128), dtype=rgba_dtype)\n",
        "\n",
        "red = color['R']\n",
        "green = color['G']\n",
        "blue = color['B']\n",
        "alpha = color['A']\n",
        "\n",
        "print(f\"RGBA Color: ({red}, {green}, {blue}, {alpha})\")\n"
      ]
    },
    {
      "cell_type": "markdown",
      "id": "654805b1",
      "metadata": {
        "id": "654805b1"
      },
      "source": [
        "#### 24. Multiply a 5x3 matrix by a 3x2 matrix (real matrix product) (★☆☆)"
      ]
    },
    {
      "cell_type": "code",
      "execution_count": null,
      "id": "6a42619f",
      "metadata": {
        "id": "6a42619f",
        "colab": {
          "base_uri": "https://localhost:8080/"
        },
        "outputId": "6c25d38b-3a73-4813-c68f-0215044cd64f"
      },
      "outputs": [
        {
          "output_type": "stream",
          "name": "stdout",
          "text": [
            "[[ 22  28]\n",
            " [ 49  64]\n",
            " [ 76 100]\n",
            " [103 136]\n",
            " [130 172]]\n"
          ]
        }
      ],
      "source": [
        "matrix1 = np.array([[1,2,3],[4,5,6],[7,8,9],[10,11,12],[13,14,15]])\n",
        "matrix2 = np.array([[1,2],[3,4],[5,6]])\n",
        "\n",
        "print(np.dot(matrix1,matrix2))"
      ]
    },
    {
      "cell_type": "markdown",
      "id": "994c25df",
      "metadata": {
        "id": "994c25df"
      },
      "source": [
        "#### 25. Given a 1D array, negate all elements which are between 3 and 8, in place. (★☆☆)"
      ]
    },
    {
      "cell_type": "code",
      "execution_count": null,
      "id": "e4b39c03",
      "metadata": {
        "id": "e4b39c03",
        "colab": {
          "base_uri": "https://localhost:8080/"
        },
        "outputId": "51859084-6db0-4a1b-8051-ac0217a44dcf"
      },
      "outputs": [
        {
          "output_type": "stream",
          "name": "stdout",
          "text": [
            "[ 1  2  3 -4 -5 -6 -7  8]\n"
          ]
        }
      ],
      "source": [
        "arr = np.arange(1,9)\n",
        "\n",
        "arr[(arr>3)&(arr<8)] *= -1\n",
        "\n",
        "print(arr)"
      ]
    },
    {
      "cell_type": "markdown",
      "id": "b7d15d1a",
      "metadata": {
        "id": "b7d15d1a"
      },
      "source": [
        "#### 26. What is the output of the following script? (★☆☆)\n",
        "```python\n",
        "# Author: Jake VanderPlas\n",
        "\n",
        "print(sum(range(5),-1))\n",
        "from numpy import *\n",
        "print(sum(range(5),-1))\n",
        "```"
      ]
    },
    {
      "cell_type": "code",
      "execution_count": null,
      "id": "4c95bc3f",
      "metadata": {
        "id": "4c95bc3f"
      },
      "outputs": [],
      "source": [
        "9\n",
        "10"
      ]
    },
    {
      "cell_type": "markdown",
      "id": "a34f0d08",
      "metadata": {
        "id": "a34f0d08"
      },
      "source": [
        "#### 27. Consider an integer vector Z, which of these expressions are legal? (★☆☆)\n",
        "```python\n",
        "Z**Z\n",
        "2 << Z >> 2\n",
        "Z <- Z\n",
        "1j*Z\n",
        "Z/1/1\n",
        "Z<Z>Z\n",
        "```"
      ]
    },
    {
      "cell_type": "code",
      "execution_count": null,
      "id": "564658fc",
      "metadata": {
        "id": "564658fc"
      },
      "outputs": [],
      "source": [
        "Z**Z\n",
        "2 << Z >> 2\n",
        "Z <- Z\n",
        "1j*Z\n",
        "Z/1/1"
      ]
    },
    {
      "cell_type": "markdown",
      "id": "c34e94bf",
      "metadata": {
        "id": "c34e94bf"
      },
      "source": [
        "#### 28. What are the result of the following expressions? (★☆☆)\n",
        "```python\n",
        "np.array(0) / np.array(0)\n",
        "np.array(0) // np.array(0)\n",
        "np.array([np.nan]).astype(int).astype(float)\n",
        "```"
      ]
    },
    {
      "cell_type": "code",
      "execution_count": null,
      "id": "56663562",
      "metadata": {
        "id": "56663562"
      },
      "outputs": [],
      "source": [
        "nan\n",
        "0\n",
        "array([0.])"
      ]
    },
    {
      "cell_type": "markdown",
      "id": "546f5e7b",
      "metadata": {
        "id": "546f5e7b"
      },
      "source": [
        "#### 29. How to round away from zero a float array ? (★☆☆)"
      ]
    },
    {
      "cell_type": "code",
      "execution_count": null,
      "id": "f725a6d2",
      "metadata": {
        "id": "f725a6d2",
        "colab": {
          "base_uri": "https://localhost:8080/"
        },
        "outputId": "5a8426f4-2ba6-49ef-f6d6-6ebb731ffa0f"
      },
      "outputs": [
        {
          "output_type": "stream",
          "name": "stdout",
          "text": [
            "[1. 2. 3. 4.]\n"
          ]
        }
      ],
      "source": [
        "arr = np.array([1.4,2.5,3.6,4.1])\n",
        "round = np.floor(arr)\n",
        "print(round)"
      ]
    },
    {
      "cell_type": "markdown",
      "id": "eadca856",
      "metadata": {
        "id": "eadca856"
      },
      "source": [
        "#### 30. How to find common values between two arrays? (★☆☆)"
      ]
    },
    {
      "cell_type": "code",
      "execution_count": null,
      "id": "e0270b5b",
      "metadata": {
        "id": "e0270b5b",
        "colab": {
          "base_uri": "https://localhost:8080/"
        },
        "outputId": "d1d0ad14-d54d-4610-84b5-36ad38014c60"
      },
      "outputs": [
        {
          "output_type": "stream",
          "name": "stdout",
          "text": [
            "[3 4 5]\n"
          ]
        }
      ],
      "source": [
        "arr1 = np.array([3, 4, 5, 6, 7])\n",
        "arr2 = np.array([1, 2, 3, 4, 5])\n",
        "common =np.intersect1d(arr1,arr2)\n",
        "print(common)"
      ]
    },
    {
      "cell_type": "markdown",
      "id": "ca16ca22",
      "metadata": {
        "id": "ca16ca22"
      },
      "source": [
        "#### 31. How to ignore all numpy warnings (not recommended)? (★☆☆)"
      ]
    },
    {
      "cell_type": "code",
      "execution_count": null,
      "id": "7d7208ef",
      "metadata": {
        "id": "7d7208ef"
      },
      "outputs": [],
      "source": [
        "#GOOGLED\n",
        "np.warnings.filterwarnings('ignore')"
      ]
    },
    {
      "cell_type": "markdown",
      "id": "c7871d0d",
      "metadata": {
        "id": "c7871d0d"
      },
      "source": [
        "#### 32. Is the following expressions true? (★☆☆)\n",
        "```python\n",
        "np.sqrt(-1) == np.emath.sqrt(-1)\n",
        "```"
      ]
    },
    {
      "cell_type": "code",
      "execution_count": null,
      "id": "acc3701a",
      "metadata": {
        "id": "acc3701a"
      },
      "outputs": [],
      "source": [
        "True"
      ]
    },
    {
      "cell_type": "markdown",
      "id": "e0433e30",
      "metadata": {
        "id": "e0433e30"
      },
      "source": [
        "#### 33. How to get the dates of yesterday, today and tomorrow? (★☆☆)"
      ]
    },
    {
      "cell_type": "code",
      "execution_count": null,
      "id": "9c4d2152",
      "metadata": {
        "id": "9c4d2152",
        "colab": {
          "base_uri": "https://localhost:8080/"
        },
        "outputId": "ed583b31-32da-425d-ccb2-fb9d8cda2cf1"
      },
      "outputs": [
        {
          "output_type": "stream",
          "name": "stdout",
          "text": [
            "Yesterday: 2023-09-26\n",
            "Today: 2023-09-27\n",
            "Tomorrow: 2023-09-28\n"
          ]
        }
      ],
      "source": [
        "#GOOGLED\n",
        "from datetime import datetime, timedelta\n",
        "\n",
        "today = datetime.now().date()\n",
        "yesterday = today - timedelta(days=1)\n",
        "tomorrow = today + timedelta(days=1)\n",
        "\n",
        "print(\"Yesterday:\", yesterday)\n",
        "print(\"Today:\", today)\n",
        "print(\"Tomorrow:\", tomorrow)"
      ]
    },
    {
      "cell_type": "markdown",
      "id": "9f52a2ef",
      "metadata": {
        "id": "9f52a2ef"
      },
      "source": [
        "#### 34. How to get all the dates corresponding to the month of July 2016? (★★☆)"
      ]
    },
    {
      "cell_type": "code",
      "execution_count": null,
      "id": "d6c34dec",
      "metadata": {
        "id": "d6c34dec",
        "colab": {
          "base_uri": "https://localhost:8080/"
        },
        "outputId": "f1859773-00fe-48ae-f0c8-1a96a94dcb16"
      },
      "outputs": [
        {
          "output_type": "stream",
          "name": "stdout",
          "text": [
            "['2016-07-01' '2016-07-02' '2016-07-03' '2016-07-04' '2016-07-05'\n",
            " '2016-07-06' '2016-07-07' '2016-07-08' '2016-07-09' '2016-07-10'\n",
            " '2016-07-11' '2016-07-12' '2016-07-13' '2016-07-14' '2016-07-15'\n",
            " '2016-07-16' '2016-07-17' '2016-07-18' '2016-07-19' '2016-07-20'\n",
            " '2016-07-21' '2016-07-22' '2016-07-23' '2016-07-24' '2016-07-25'\n",
            " '2016-07-26' '2016-07-27' '2016-07-28' '2016-07-29' '2016-07-30'\n",
            " '2016-07-31']\n"
          ]
        }
      ],
      "source": [
        "#GOOGLED\n",
        "start_date = np.datetime64('2016-07-01')\n",
        "end_date = np.datetime64('2016-08-01')\n",
        "\n",
        "dates_in_july_2016 = np.arange(start_date, end_date, dtype='datetime64[D]')\n",
        "\n",
        "print(dates_in_july_2016)"
      ]
    },
    {
      "cell_type": "markdown",
      "id": "4a64e059",
      "metadata": {
        "id": "4a64e059"
      },
      "source": [
        "#### 35. How to compute ((A+B)*(-A/2)) in place (without copy)? (★★☆)"
      ]
    },
    {
      "cell_type": "code",
      "execution_count": null,
      "id": "49267f60",
      "metadata": {
        "id": "49267f60"
      },
      "outputs": [],
      "source": [
        "A = np.array([1, 2, 3])\n",
        "B = np.array([4, 5, 6])\n",
        "\n",
        "A += B\n",
        "A *= (-A / 2)\n",
        "\n",
        "print(A)"
      ]
    },
    {
      "cell_type": "markdown",
      "id": "8a98c2a8",
      "metadata": {
        "id": "8a98c2a8"
      },
      "source": [
        "#### 36. Extract the integer part of a random array of positive numbers using 4 different methods (★★☆)"
      ]
    },
    {
      "cell_type": "code",
      "execution_count": null,
      "id": "368130b3",
      "metadata": {
        "id": "368130b3",
        "colab": {
          "base_uri": "https://localhost:8080/"
        },
        "outputId": "0e1e062e-b350-4c83-80d8-01520ba96985"
      },
      "outputs": [
        {
          "output_type": "stream",
          "name": "stdout",
          "text": [
            "[ 84  61  83  56  73  35  46  92  32  82  95  46   1  84  90  11  97  74\n",
            "   2  12  43  37  52 100  43  49  64  33  40  82  76  12  49   1  17  49\n",
            "  42  91  58  60  50 100  72   1  82  72  39   0  93   5  35  33  70  52\n",
            "  50  40  63  54  86  10  39   7  29  43   5  74   6  19   8  99  87  34\n",
            "  74   6  61   0  21  35  82  44  50  84  28  95  78  13  21  58  19   1\n",
            "  90   4  24  88  77  29  76  99  85  40]\n",
            "[ 84.  61.  83.  56.  73.  35.  46.  92.  32.  82.  95.  46.   1.  84.\n",
            "  90.  11.  97.  74.   2.  12.  43.  37.  52. 100.  43.  49.  64.  33.\n",
            "  40.  82.  76.  12.  49.   1.  17.  49.  42.  91.  58.  60.  50. 100.\n",
            "  72.   1.  82.  72.  39.   0.  93.   5.  35.  33.  70.  52.  50.  40.\n",
            "  63.  54.  86.  10.  39.   7.  29.  43.   5.  74.   6.  19.   8.  99.\n",
            "  87.  34.  74.   6.  61.   0.  21.  35.  82.  44.  50.  84.  28.  95.\n",
            "  78.  13.  21.  58.  19.   1.  90.   4.  24.  88.  77.  29.  76.  99.\n",
            "  85.  40.]\n",
            "[ 84.  61.  83.  56.  73.  35.  46.  92.  32.  82.  95.  46.   1.  84.\n",
            "  90.  11.  97.  74.   2.  12.  43.  37.  52. 100.  43.  49.  64.  33.\n",
            "  40.  82.  76.  12.  49.   1.  17.  49.  42.  91.  58.  60.  50. 100.\n",
            "  72.   1.  82.  72.  39.   0.  93.   5.  35.  33.  70.  52.  50.  40.\n",
            "  63.  54.  86.  10.  39.   7.  29.  43.   5.  74.   6.  19.   8.  99.\n",
            "  87.  34.  74.   6.  61.   0.  21.  35.  82.  44.  50.  84.  28.  95.\n",
            "  78.  13.  21.  58.  19.   1.  90.   4.  24.  88.  77.  29.  76.  99.\n",
            "  85.  40.]\n",
            "[ 84  61  83  56  73  35  46  92  32  82  95  46   1  84  90  11  97  74\n",
            "   2  12  43  37  52 100  43  49  64  33  40  82  76  12  49   1  17  49\n",
            "  42  91  58  60  50 100  72   1  82  72  39   0  93   5  35  33  70  52\n",
            "  50  40  63  54  86  10  39   7  29  43   5  74   6  19   8  99  87  34\n",
            "  74   6  61   0  21  35  82  44  50  84  28  95  78  13  21  58  19   1\n",
            "  90   4  24  88  77  29  76  99  85  40]\n",
            "[ 84  61  83  56  73  35  46  92  32  82  95  46   1  84  90  11  97  74\n",
            "   2  12  43  37  52 100  43  49  64  33  40  82  76  12  49   1  17  49\n",
            "  42  91  58  60  50 100  72   1  82  72  39   0  93   5  35  33  70  52\n",
            "  50  40  63  54  86  10  39   7  29  43   5  74   6  19   8  99  87  34\n",
            "  74   6  61   0  21  35  82  44  50  84  28  95  78  13  21  58  19   1\n",
            "  90   4  24  88  77  29  76  99  85  40]\n"
          ]
        }
      ],
      "source": [
        "rand = np.random.randint(0,101,100)\n",
        "print(rand)\n",
        "\n",
        "meth1 = np.floor(rand)\n",
        "print(meth1)\n",
        "\n",
        "meth2 = np.trunc(rand)\n",
        "print(meth2)\n",
        "\n",
        "meth3 = rand.astype(int)\n",
        "print(meth3)\n",
        "\n",
        "meth4 = np.rint(rand).astype(int)\n",
        "print(meth4)"
      ]
    },
    {
      "cell_type": "markdown",
      "id": "5a2e3d85",
      "metadata": {
        "id": "5a2e3d85"
      },
      "source": [
        "#### 37. Create a 5x5 matrix with row values ranging from 0 to 4 (★★☆)"
      ]
    },
    {
      "cell_type": "code",
      "source": [
        "np.tile?"
      ],
      "metadata": {
        "id": "kLt-pPV_K7aQ"
      },
      "id": "kLt-pPV_K7aQ",
      "execution_count": null,
      "outputs": []
    },
    {
      "cell_type": "code",
      "execution_count": null,
      "id": "1d974e8f",
      "metadata": {
        "id": "1d974e8f",
        "colab": {
          "base_uri": "https://localhost:8080/"
        },
        "outputId": "1a78a177-1dda-4195-edbc-7f36748292ce"
      },
      "outputs": [
        {
          "output_type": "stream",
          "name": "stdout",
          "text": [
            "[[0 1 2 3 4]\n",
            " [0 1 2 3 4]\n",
            " [0 1 2 3 4]\n",
            " [0 1 2 3 4]\n",
            " [0 1 2 3 4]]\n"
          ]
        }
      ],
      "source": [
        "matrix = np.tile(np.arange(5),(5,1))\n",
        "print(matrix)"
      ]
    },
    {
      "cell_type": "markdown",
      "id": "9720e2d5",
      "metadata": {
        "id": "9720e2d5"
      },
      "source": [
        "#### 38. Consider a generator function that generates 10 integers and use it to build an array (★☆☆)"
      ]
    },
    {
      "cell_type": "code",
      "execution_count": null,
      "id": "e5dd8fc9",
      "metadata": {
        "id": "e5dd8fc9",
        "colab": {
          "base_uri": "https://localhost:8080/"
        },
        "outputId": "8c883ba6-b13d-4b7b-d30f-eff93e585916"
      },
      "outputs": [
        {
          "output_type": "execute_result",
          "data": {
            "text/plain": [
              "array([0, 1, 2, 3, 4, 5, 6, 7, 8, 9])"
            ]
          },
          "metadata": {},
          "execution_count": 29
        }
      ],
      "source": [
        "arr = np.arange(10)\n",
        "arr"
      ]
    },
    {
      "cell_type": "markdown",
      "id": "c6f2c912",
      "metadata": {
        "id": "c6f2c912"
      },
      "source": [
        "#### 39. Create a vector of size 10 with values ranging from 0 to 1, both excluded (★★☆)"
      ]
    },
    {
      "cell_type": "code",
      "execution_count": null,
      "id": "6aaa27d3",
      "metadata": {
        "id": "6aaa27d3",
        "colab": {
          "base_uri": "https://localhost:8080/"
        },
        "outputId": "f173e197-252c-4281-eb44-9f9335f8c91a"
      },
      "outputs": [
        {
          "output_type": "execute_result",
          "data": {
            "text/plain": [
              "array([0.09090909, 0.18181818, 0.27272727, 0.36363636, 0.45454545,\n",
              "       0.54545455, 0.63636364, 0.72727273, 0.81818182, 0.90909091])"
            ]
          },
          "metadata": {},
          "execution_count": 41
        }
      ],
      "source": [
        "v = np.arange(1, 11) / 11\n",
        "v"
      ]
    },
    {
      "cell_type": "markdown",
      "id": "a36d6ee4",
      "metadata": {
        "id": "a36d6ee4"
      },
      "source": [
        "#### 40. Create a random vector of size 10 and sort it (★★☆)"
      ]
    },
    {
      "cell_type": "code",
      "execution_count": null,
      "id": "e589d216",
      "metadata": {
        "id": "e589d216",
        "colab": {
          "base_uri": "https://localhost:8080/"
        },
        "outputId": "c4abc239-2f63-4e18-e6d5-20278567a7e7"
      },
      "outputs": [
        {
          "output_type": "stream",
          "name": "stdout",
          "text": [
            "[1 1 3 3 4 4 7 7 7 8]\n"
          ]
        }
      ],
      "source": [
        "v = np.random.randint(1,11,10)\n",
        "sorted = np.sort(v)\n",
        "print(sorted)"
      ]
    },
    {
      "cell_type": "markdown",
      "id": "0fb4ad68",
      "metadata": {
        "id": "0fb4ad68"
      },
      "source": [
        "#### 41. How to sum a small array faster than np.sum? (★★☆)"
      ]
    },
    {
      "cell_type": "code",
      "execution_count": null,
      "id": "a1ba05a0",
      "metadata": {
        "id": "a1ba05a0",
        "colab": {
          "base_uri": "https://localhost:8080/"
        },
        "outputId": "f0df2d1e-2170-4d56-c08d-fb9f95b0a17a"
      },
      "outputs": [
        {
          "output_type": "stream",
          "name": "stdout",
          "text": [
            "15\n"
          ]
        }
      ],
      "source": [
        "arr = np.array([1, 2, 3, 4, 5])\n",
        "total = sum(arr)\n",
        "print(total)"
      ]
    },
    {
      "cell_type": "markdown",
      "id": "024ac365",
      "metadata": {
        "id": "024ac365"
      },
      "source": [
        "#### 42. Consider two random array A and B, check if they are equal (★★☆)"
      ]
    },
    {
      "cell_type": "code",
      "execution_count": null,
      "id": "7db3846d",
      "metadata": {
        "id": "7db3846d",
        "colab": {
          "base_uri": "https://localhost:8080/"
        },
        "outputId": "94940223-0989-4739-d583-3a2a5b8c8afe"
      },
      "outputs": [
        {
          "output_type": "stream",
          "name": "stdout",
          "text": [
            "Equal\n"
          ]
        }
      ],
      "source": [
        "A = np.random.randint(0,11,10)\n",
        "B = np.random.randint(0,11,10)\n",
        "\n",
        "equal = np.array_equal(A,B)\n",
        "\n",
        "if equal:\n",
        "  print(\"Equal\")\n",
        "else:\n",
        "  print(\"Not equal\")"
      ]
    },
    {
      "cell_type": "markdown",
      "id": "c68d2401",
      "metadata": {
        "id": "c68d2401"
      },
      "source": [
        "#### 43. Make an array immutable (read-only) (★★☆)"
      ]
    },
    {
      "cell_type": "code",
      "execution_count": null,
      "id": "7828539d",
      "metadata": {
        "id": "7828539d"
      },
      "outputs": [],
      "source": [
        "#GOOGLED\n",
        "import numpy as np\n",
        "\n",
        "arr = np.array([1, 2, 3, 4, 5])\n",
        "\n",
        "arr.flags.writeable = False\n",
        "\n",
        "if arr.flags.writeable:\n",
        "    print(\"The array is mutable.\")\n",
        "else:\n",
        "    print(\"The array is read-only.\")"
      ]
    },
    {
      "cell_type": "markdown",
      "id": "55df6280",
      "metadata": {
        "id": "55df6280"
      },
      "source": [
        "#### 44. Consider a random 10x2 matrix representing cartesian coordinates, convert them to polar coordinates (★★☆)"
      ]
    },
    {
      "cell_type": "code",
      "execution_count": null,
      "id": "f1c86ea0",
      "metadata": {
        "id": "f1c86ea0",
        "colab": {
          "base_uri": "https://localhost:8080/"
        },
        "outputId": "b0c86bf7-d992-4914-fe42-1627cfa0d483"
      },
      "outputs": [
        {
          "output_type": "stream",
          "name": "stdout",
          "text": [
            "[[12 16]\n",
            " [ 3  6]\n",
            " [18 16]\n",
            " [10 13]\n",
            " [ 2 15]\n",
            " [ 6 19]\n",
            " [19 13]\n",
            " [13  4]\n",
            " [13  2]\n",
            " [ 7  4]]\n",
            "[[20.          0.92729522]\n",
            " [ 6.70820393  1.10714872]\n",
            " [24.08318916  0.72664234]\n",
            " [16.40121947  0.9151007 ]\n",
            " [15.13274595  1.43824479]\n",
            " [19.92485885  1.26491746]\n",
            " [23.02172887  0.60005021]\n",
            " [13.60147051  0.29849893]\n",
            " [13.15294644  0.15264933]\n",
            " [ 8.06225775  0.51914611]]\n"
          ]
        }
      ],
      "source": [
        "#GOOGLED\n",
        "cartesian = np.random.randint(1,21,20).reshape(10,2)\n",
        "\n",
        "x = cartesian[:, 0]\n",
        "y = cartesian[:, 1]\n",
        "\n",
        "r = np.sqrt(x**2 + y**2)\n",
        "theta = np.arctan2(y,x)\n",
        "\n",
        "polar = np.column_stack((r,theta))\n",
        "\n",
        "print(cartesian)\n",
        "print(polar)"
      ]
    },
    {
      "cell_type": "markdown",
      "id": "2f60f1ec",
      "metadata": {
        "id": "2f60f1ec"
      },
      "source": [
        "#### 45. Create random vector of size 10 and replace the maximum value by 0 (★★☆)"
      ]
    },
    {
      "cell_type": "code",
      "source": [
        "np.argmax?"
      ],
      "metadata": {
        "id": "sPKPtu_Q594X"
      },
      "id": "sPKPtu_Q594X",
      "execution_count": null,
      "outputs": []
    },
    {
      "cell_type": "code",
      "execution_count": null,
      "id": "d9f48f1c",
      "metadata": {
        "id": "d9f48f1c",
        "colab": {
          "base_uri": "https://localhost:8080/"
        },
        "outputId": "0f4c3761-aa59-4dc6-92ad-e9c1f4212145"
      },
      "outputs": [
        {
          "output_type": "stream",
          "name": "stdout",
          "text": [
            "[ 5  5 18 14  6 19  5 11 15  9]\n",
            "[ 5  5 18 14  6  0  5 11 15  9]\n"
          ]
        }
      ],
      "source": [
        "v = np.random.randint(0,20,10)\n",
        "print(v)\n",
        "max = np.argmax(v)\n",
        "v[max] = 0\n",
        "print(v)"
      ]
    },
    {
      "cell_type": "markdown",
      "id": "084e8ad4",
      "metadata": {
        "id": "084e8ad4"
      },
      "source": [
        "#### 46. Create a structured array with `x` and `y` coordinates covering the [0,1]x[0,1] area (★★☆)"
      ]
    },
    {
      "cell_type": "code",
      "execution_count": null,
      "id": "58b47c13",
      "metadata": {
        "id": "58b47c13"
      },
      "outputs": [],
      "source": []
    },
    {
      "cell_type": "markdown",
      "id": "d7b9bc42",
      "metadata": {
        "id": "d7b9bc42"
      },
      "source": [
        "#### 47. Given two arrays, X and Y, construct the Cauchy matrix C (Cij =1/(xi - yj)) (★★☆)"
      ]
    },
    {
      "cell_type": "code",
      "execution_count": null,
      "id": "a24824fb",
      "metadata": {
        "id": "a24824fb",
        "colab": {
          "base_uri": "https://localhost:8080/"
        },
        "outputId": "4cddfe13-690d-4000-bdad-41658c2dc5d3"
      },
      "outputs": [
        {
          "output_type": "stream",
          "name": "stdout",
          "text": [
            "[[-0.33333333 -0.25       -0.2       ]\n",
            " [-0.5        -0.33333333 -0.25      ]\n",
            " [-1.         -0.5        -0.33333333]]\n"
          ]
        }
      ],
      "source": [
        "X = np.array([1, 2, 3])\n",
        "Y = np.array([4, 5, 6])\n",
        "\n",
        "n = len(X)\n",
        "m = len(Y)\n",
        "C = np.empty((n, m))\n",
        "\n",
        "for i in range(n):\n",
        "    for j in range(m):\n",
        "        C[i, j] = 1.0 / (X[i] - Y[j])\n",
        "\n",
        "print(C)"
      ]
    },
    {
      "cell_type": "markdown",
      "id": "65ebc11b",
      "metadata": {
        "id": "65ebc11b"
      },
      "source": [
        "#### 48. Print the minimum and maximum representable value for each numpy scalar type (★★☆)"
      ]
    },
    {
      "cell_type": "code",
      "execution_count": null,
      "id": "e45d38fb",
      "metadata": {
        "id": "e45d38fb"
      },
      "outputs": [],
      "source": []
    },
    {
      "cell_type": "markdown",
      "id": "9b317a98",
      "metadata": {
        "id": "9b317a98"
      },
      "source": [
        "#### 49. How to print all the values of an array? (★★☆)"
      ]
    },
    {
      "cell_type": "code",
      "execution_count": null,
      "id": "309cdeb9",
      "metadata": {
        "id": "309cdeb9",
        "colab": {
          "base_uri": "https://localhost:8080/"
        },
        "outputId": "bd328ee8-54d1-4588-8754-730f1a67cb89"
      },
      "outputs": [
        {
          "output_type": "stream",
          "name": "stdout",
          "text": [
            "1\n",
            "2\n",
            "3\n",
            "4\n",
            "5\n"
          ]
        }
      ],
      "source": [
        "arr = np.array([1,2,3,4,5])\n",
        "\n",
        "for i in arr:\n",
        "  print(i)"
      ]
    },
    {
      "cell_type": "markdown",
      "id": "b580f9d0",
      "metadata": {
        "id": "b580f9d0"
      },
      "source": [
        "#### 50. How to find the closest value (to a given scalar) in a vector? (★★☆)"
      ]
    },
    {
      "cell_type": "code",
      "execution_count": null,
      "id": "ebfb6714",
      "metadata": {
        "id": "ebfb6714",
        "colab": {
          "base_uri": "https://localhost:8080/"
        },
        "outputId": "43690103-4010-4c0c-c9a6-0bfc69e13936"
      },
      "outputs": [
        {
          "output_type": "stream",
          "name": "stdout",
          "text": [
            "Closest Value: 5\n"
          ]
        }
      ],
      "source": [
        "#GOOGLED\n",
        "vector = np.array([1, 3, 5, 7, 9, 11])\n",
        "\n",
        "target_scalar = 6\n",
        "\n",
        "closest_index = np.abs(vector - target_scalar).argmin()\n",
        "\n",
        "closest_value = vector[closest_index]\n",
        "\n",
        "print(\"Closest Value:\", closest_value)"
      ]
    },
    {
      "cell_type": "markdown",
      "id": "602e6252",
      "metadata": {
        "id": "602e6252"
      },
      "source": [
        "#### 51. Create a structured array representing a position (x,y) and a color (r,g,b) (★★☆)"
      ]
    },
    {
      "cell_type": "code",
      "execution_count": 6,
      "id": "cf002b3a",
      "metadata": {
        "id": "cf002b3a",
        "colab": {
          "base_uri": "https://localhost:8080/"
        },
        "outputId": "73417d6d-a8fe-4475-ca1b-13b746b83b32"
      },
      "outputs": [
        {
          "output_type": "stream",
          "name": "stdout",
          "text": [
            "[(10, 20, 255, 0, 0)]\n"
          ]
        }
      ],
      "source": [
        "dtype = [('x', int), ('y', int), ('r', int), ('g', int), ('b', int)]\n",
        "\n",
        "structured_array = np.empty(1, dtype=dtype)\n",
        "\n",
        "structured_array['x'] = 10\n",
        "structured_array['y'] = 20\n",
        "structured_array['r'] = 255\n",
        "structured_array['g'] = 0\n",
        "structured_array['b'] = 0\n",
        "\n",
        "print(structured_array)"
      ]
    },
    {
      "cell_type": "markdown",
      "id": "78bcd92f",
      "metadata": {
        "id": "78bcd92f"
      },
      "source": [
        "#### 52. Consider a random vector with shape (100,2) representing coordinates, find point by point distances (★★☆)"
      ]
    },
    {
      "cell_type": "code",
      "execution_count": 10,
      "id": "fea7f9a6",
      "metadata": {
        "id": "fea7f9a6",
        "colab": {
          "base_uri": "https://localhost:8080/"
        },
        "outputId": "7740e34f-7857-476b-df7b-32f9745dfc59"
      },
      "outputs": [
        {
          "output_type": "stream",
          "name": "stdout",
          "text": [
            "74.30343195303969\n"
          ]
        }
      ],
      "source": [
        "coordinates = np.random.randint(0,101,200).reshape(100,2)\n",
        "\n",
        "n = coordinates.shape[0]\n",
        "distances = np.zeros((n, n))\n",
        "\n",
        "for i in range(n):\n",
        "    for j in range(n):\n",
        "        diff = coordinates[i] - coordinates[j]\n",
        "        distances[i, j] = np.sqrt(np.dot(diff, diff))\n",
        "\n",
        "print(distances[0, 1])"
      ]
    },
    {
      "cell_type": "markdown",
      "id": "343c5a85",
      "metadata": {
        "id": "343c5a85"
      },
      "source": [
        "#### 53. How to convert a float (32 bits) array into an integer (32 bits) in place?"
      ]
    },
    {
      "cell_type": "code",
      "execution_count": 12,
      "id": "fc1b687b",
      "metadata": {
        "id": "fc1b687b",
        "colab": {
          "base_uri": "https://localhost:8080/"
        },
        "outputId": "807e136d-2c6b-44ca-9f42-b3e8f704a4a5"
      },
      "outputs": [
        {
          "output_type": "stream",
          "name": "stdout",
          "text": [
            "[1078523331 1076719780 1070537376]\n"
          ]
        }
      ],
      "source": [
        "float_array = np.array([3.14, 2.71, 1.618], dtype=np.float32)\n",
        "int_array = np.empty_like(float_array, dtype=np.int32)\n",
        "np.copyto(int_array, float_array.view(np.int32))\n",
        "print(int_array)"
      ]
    },
    {
      "cell_type": "markdown",
      "id": "a69e1ace",
      "metadata": {
        "id": "a69e1ace"
      },
      "source": [
        "#### 54. How to read the following file? (★★☆)\n",
        "```\n",
        "1, 2, 3, 4, 5\n",
        "6,  ,  , 7, 8\n",
        " ,  , 9,10,11\n",
        "```"
      ]
    },
    {
      "cell_type": "code",
      "execution_count": null,
      "id": "1c7957d4",
      "metadata": {
        "id": "1c7957d4"
      },
      "outputs": [],
      "source": []
    },
    {
      "cell_type": "markdown",
      "id": "c23bd80d",
      "metadata": {
        "id": "c23bd80d"
      },
      "source": [
        "#### 55. What is the equivalent of enumerate for numpy arrays? (★★☆)"
      ]
    },
    {
      "cell_type": "code",
      "execution_count": 13,
      "id": "d95d9578",
      "metadata": {
        "id": "d95d9578",
        "colab": {
          "base_uri": "https://localhost:8080/"
        },
        "outputId": "acce5d6c-e073-4473-f771-f8f518196cdb"
      },
      "outputs": [
        {
          "output_type": "stream",
          "name": "stdout",
          "text": [
            "Index: (0, 0), Value: 1\n",
            "Index: (0, 1), Value: 2\n",
            "Index: (0, 2), Value: 3\n",
            "Index: (1, 0), Value: 4\n",
            "Index: (1, 1), Value: 5\n",
            "Index: (1, 2), Value: 6\n",
            "Index: (2, 0), Value: 7\n",
            "Index: (2, 1), Value: 8\n",
            "Index: (2, 2), Value: 9\n"
          ]
        }
      ],
      "source": [
        "arr = np.array([[1, 2, 3],[4, 5, 6],[7, 8, 9]])\n",
        "for index, value in np.ndenumerate(arr):\n",
        "    print(f\"Index: {index}, Value: {value}\")"
      ]
    },
    {
      "cell_type": "markdown",
      "id": "2153a5ec",
      "metadata": {
        "id": "2153a5ec"
      },
      "source": [
        "#### 56. Generate a generic 2D Gaussian-like array (★★☆)"
      ]
    },
    {
      "cell_type": "code",
      "execution_count": null,
      "id": "61122d1e",
      "metadata": {
        "id": "61122d1e"
      },
      "outputs": [],
      "source": []
    },
    {
      "cell_type": "markdown",
      "id": "2e76d589",
      "metadata": {
        "id": "2e76d589"
      },
      "source": [
        "#### 57. How to randomly place p elements in a 2D array? (★★☆)"
      ]
    },
    {
      "cell_type": "code",
      "execution_count": 17,
      "id": "0c2e4fcc",
      "metadata": {
        "id": "0c2e4fcc",
        "colab": {
          "base_uri": "https://localhost:8080/"
        },
        "outputId": "94495f68-0f52-431a-fbce-b1550fcccaba"
      },
      "outputs": [
        {
          "output_type": "stream",
          "name": "stdout",
          "text": [
            "[[0 1 1 0 0]\n",
            " [0 1 0 0 0]\n",
            " [0 1 0 0 1]\n",
            " [0 1 0 1 0]\n",
            " [0 1 0 1 1]]\n"
          ]
        }
      ],
      "source": [
        "shape = (5, 5)\n",
        "p = 10\n",
        "\n",
        "array = np.zeros(shape, dtype=int)\n",
        "\n",
        "indices = np.random.choice(np.arange(shape[0] * shape[1]), p, replace=False)\n",
        "\n",
        "array.flat[indices] = 1\n",
        "\n",
        "print(array)"
      ]
    },
    {
      "cell_type": "markdown",
      "id": "8b3933eb",
      "metadata": {
        "id": "8b3933eb"
      },
      "source": [
        "#### 58. Subtract the mean of each row of a matrix (★★☆)"
      ]
    },
    {
      "cell_type": "code",
      "execution_count": 18,
      "id": "a306c9ef",
      "metadata": {
        "id": "a306c9ef",
        "colab": {
          "base_uri": "https://localhost:8080/"
        },
        "outputId": "8e76e6e6-c11b-4218-967f-f6b7535cd799"
      },
      "outputs": [
        {
          "output_type": "stream",
          "name": "stdout",
          "text": [
            "[[1 2 3]\n",
            " [4 5 6]\n",
            " [7 8 9]]\n",
            "[[-1. -3. -5.]\n",
            " [ 2.  0. -2.]\n",
            " [ 5.  3.  1.]]\n"
          ]
        }
      ],
      "source": [
        "matrix = np.array([[1, 2, 3],[4, 5, 6],[7, 8, 9]])\n",
        "print(matrix)\n",
        "\n",
        "row_mean = np.mean(matrix,axis=1)\n",
        "\n",
        "centered = matrix - row_mean[np.newaxis]\n",
        "print(centered)"
      ]
    },
    {
      "cell_type": "markdown",
      "id": "ea8807c0",
      "metadata": {
        "id": "ea8807c0"
      },
      "source": [
        "#### 59. How to sort an array by the nth column? (★★☆)"
      ]
    },
    {
      "cell_type": "code",
      "execution_count": 20,
      "id": "cc89a699",
      "metadata": {
        "id": "cc89a699",
        "colab": {
          "base_uri": "https://localhost:8080/"
        },
        "outputId": "12c95019-8716-4ec5-d99b-c78e7c5b85fa"
      },
      "outputs": [
        {
          "output_type": "stream",
          "name": "stdout",
          "text": [
            "[[1 2 3]\n",
            " [4 5 6]\n",
            " [7 8 9]]\n"
          ]
        }
      ],
      "source": [
        "matrix = np.array([[5, 2, 8],[3, 9, 1],[7, 4, 6]])\n",
        "n = 1\n",
        "sorted_indices = np.argsort(arr[:, n])\n",
        "sorted_arr = arr[sorted_indices]\n",
        "print(sorted_arr)"
      ]
    },
    {
      "cell_type": "markdown",
      "id": "00fa00a1",
      "metadata": {
        "id": "00fa00a1"
      },
      "source": [
        "#### 60. How to tell if a given 2D array has null columns? (★★☆)"
      ]
    },
    {
      "cell_type": "code",
      "execution_count": 22,
      "id": "3436e165",
      "metadata": {
        "id": "3436e165",
        "colab": {
          "base_uri": "https://localhost:8080/"
        },
        "outputId": "baa814ca-cbb6-462a-99b6-786c5c106fec"
      },
      "outputs": [
        {
          "output_type": "stream",
          "name": "stdout",
          "text": [
            "The array has null columns.\n"
          ]
        }
      ],
      "source": [
        "arr = np.array([[1, 0, 0],[0, 0, 0],[4, 0, 0],[0, 2, 0]])\n",
        "null_columns = np.all(arr == 0, axis=0)\n",
        "if np.any(null_columns):\n",
        "    print(\"The array has null columns.\")\n",
        "else:\n",
        "    print(\"The array does not have null columns.\")"
      ]
    },
    {
      "cell_type": "markdown",
      "id": "5a65c7a2",
      "metadata": {
        "id": "5a65c7a2"
      },
      "source": [
        "#### 61. Find the nearest value from a given value in an array (★★☆)"
      ]
    },
    {
      "cell_type": "code",
      "execution_count": 24,
      "id": "73f149d6",
      "metadata": {
        "id": "73f149d6",
        "colab": {
          "base_uri": "https://localhost:8080/"
        },
        "outputId": "4f6e0dfc-0bf8-49c8-d557-c4ee2a157c6e"
      },
      "outputs": [
        {
          "output_type": "stream",
          "name": "stdout",
          "text": [
            "Enter a value: 5\n",
            "Nearest Value: 4.8\n",
            "Index of Nearest Value: 2\n"
          ]
        }
      ],
      "source": [
        "arr = np.array([2.5, 1.0, 4.8, 3.2, 7.1])\n",
        "target_value = int(input(\"Enter a value: \"))\n",
        "differences = np.abs(arr - target_value)\n",
        "nearest_index = differences.argmin()\n",
        "nearest_value = arr[nearest_index]\n",
        "print(\"Nearest Value:\", nearest_value)\n",
        "print(\"Index of Nearest Value:\", nearest_index)"
      ]
    },
    {
      "cell_type": "markdown",
      "id": "dd83e8af",
      "metadata": {
        "id": "dd83e8af"
      },
      "source": [
        "\n",
        "#### 62. Considering two arrays with shape (1,3) and (3,1), how to compute their sum using an iterator? (★★☆)"
      ]
    },
    {
      "cell_type": "code",
      "execution_count": 27,
      "id": "29a709a1",
      "metadata": {
        "id": "29a709a1",
        "colab": {
          "base_uri": "https://localhost:8080/"
        },
        "outputId": "c3632ecb-7da3-40f8-cc86-35f90f3e3ee2"
      },
      "outputs": [
        {
          "output_type": "stream",
          "name": "stdout",
          "text": [
            "Sum of the two arrays: 21\n"
          ]
        }
      ],
      "source": [
        "#GOOGLED\n",
        "array1 = np.array([[1, 2, 3]])\n",
        "array2 = np.array([[4],\n",
        "                   [5],\n",
        "                   [6]])\n",
        "\n",
        "iterator1 = np.nditer(array1)\n",
        "iterator2 = np.nditer(array2)\n",
        "\n",
        "total_sum = 0\n",
        "\n",
        "for val1, val2 in zip(iterator1, iterator2):\n",
        "    total_sum += val1 + val2\n",
        "\n",
        "print(\"Sum of the two arrays:\", total_sum)"
      ]
    },
    {
      "cell_type": "markdown",
      "id": "6c042efa",
      "metadata": {
        "id": "6c042efa"
      },
      "source": [
        "#### 63. Create an array class that has a name attribute (★★☆)"
      ]
    },
    {
      "cell_type": "code",
      "execution_count": null,
      "id": "45b3d2e0",
      "metadata": {
        "id": "45b3d2e0"
      },
      "outputs": [],
      "source": []
    },
    {
      "cell_type": "markdown",
      "id": "0a075c3d",
      "metadata": {
        "id": "0a075c3d"
      },
      "source": [
        "#### 64. Consider a given vector, how to add 1 to each element indexed by a second vector (be careful with repeated indices)? (★★★)"
      ]
    },
    {
      "cell_type": "code",
      "execution_count": null,
      "id": "36c50470",
      "metadata": {
        "id": "36c50470"
      },
      "outputs": [],
      "source": [
        "original_vector = np.array([1, 2, 3, 4, 5])\n",
        "indices_to_increment = np.array([1, 3, 3, 4])\n",
        "\n",
        "mask = np.zeros_like(original_vector)\n",
        "mask_indices = np.unique(indices_to_increment)\n",
        "mask[mask_indices] = 1\n",
        "\n",
        "result_vector = original_vector + mask\n",
        "\n",
        "print(\"Original Vector:\", original_vector)\n",
        "print(\"Indices to Increment:\", indices_to_increment)\n",
        "print(\"Result Vector:\", result_vector)"
      ]
    },
    {
      "cell_type": "markdown",
      "id": "0fb2f0c5",
      "metadata": {
        "id": "0fb2f0c5"
      },
      "source": [
        "#### 65. How to accumulate elements of a vector (X) to an array (F) based on an index list (I)? (★★★)"
      ]
    },
    {
      "cell_type": "code",
      "execution_count": 28,
      "id": "58aa5f82",
      "metadata": {
        "id": "58aa5f82",
        "colab": {
          "base_uri": "https://localhost:8080/"
        },
        "outputId": "2124bacc-947e-4738-cc8a-9bf6937a5668"
      },
      "outputs": [
        {
          "output_type": "stream",
          "name": "stdout",
          "text": [
            "Vector X: [1 2 3 4 5]\n",
            "Index list I: [0 2 1 4 2]\n",
            "Accumulated Array F: [1 3 2 5 3]\n"
          ]
        }
      ],
      "source": [
        "X = np.array([1, 2, 3, 4, 5])\n",
        "I = np.array([0, 2, 1, 4, 2])\n",
        "N = len(I)\n",
        "F = np.zeros(N, dtype=X.dtype)\n",
        "\n",
        "for i in range(N):\n",
        "    F[i] += X[I[i]]\n",
        "\n",
        "print(\"Vector X:\", X)\n",
        "print(\"Index list I:\", I)\n",
        "print(\"Accumulated Array F:\", F)"
      ]
    },
    {
      "cell_type": "markdown",
      "id": "d89dc506",
      "metadata": {
        "id": "d89dc506"
      },
      "source": [
        "#### 66. Considering a (w,h,3) image of (dtype=ubyte), compute the number of unique colors (★★☆)"
      ]
    },
    {
      "cell_type": "code",
      "execution_count": 30,
      "id": "8fb43a49",
      "metadata": {
        "id": "8fb43a49",
        "colab": {
          "base_uri": "https://localhost:8080/"
        },
        "outputId": "08e8fa49-6f4b-4bd6-d3df-7da7e3204073"
      },
      "outputs": [
        {
          "output_type": "stream",
          "name": "stdout",
          "text": [
            "Number of Unique Colors: 100\n"
          ]
        }
      ],
      "source": [
        "image = np.random.randint(0, 256, size=(10, 10, 3), dtype=np.uint8)\n",
        "\n",
        "reshaped_image = image.reshape(-1, 3)\n",
        "\n",
        "unique_colors = np.unique(reshaped_image, axis=0)\n",
        "\n",
        "num_unique_colors = unique_colors.shape[0]\n",
        "\n",
        "print(\"Number of Unique Colors:\", num_unique_colors)"
      ]
    },
    {
      "cell_type": "markdown",
      "id": "535a5d81",
      "metadata": {
        "id": "535a5d81"
      },
      "source": [
        "#### 67. Considering a four dimensions array, how to get sum over the last two axis at once? (★★★)"
      ]
    },
    {
      "cell_type": "code",
      "execution_count": 33,
      "id": "f954ab9d",
      "metadata": {
        "id": "f954ab9d",
        "colab": {
          "base_uri": "https://localhost:8080/"
        },
        "outputId": "6a6d72c1-1e68-411d-eebc-ea74a1282568"
      },
      "outputs": [
        {
          "output_type": "stream",
          "name": "stdout",
          "text": [
            "Original 4D Array Shape: (2, 3, 4, 5)\n",
            "Sum over Last Two Axes Shape: (2, 3)\n",
            "Sum over Last Two Axes:\n",
            "[[11.23292539  9.2599692   8.33569806]\n",
            " [11.06333672 11.54335769 11.12848967]]\n"
          ]
        }
      ],
      "source": [
        "#GOOGLED\n",
        "array_4d = np.random.rand(2, 3, 4, 5)\n",
        "\n",
        "sum_last_two_axes = np.sum(array_4d, axis=(2, 3))\n",
        "\n",
        "print(\"Original 4D Array Shape:\", array_4d.shape)\n",
        "print(\"Sum over Last Two Axes Shape:\", sum_last_two_axes.shape)\n",
        "print(\"Sum over Last Two Axes:\")\n",
        "print(sum_last_two_axes)\n"
      ]
    },
    {
      "cell_type": "markdown",
      "id": "eee66d3c",
      "metadata": {
        "id": "eee66d3c"
      },
      "source": [
        "#### 68. Considering a one-dimensional vector D, how to compute means of subsets of D using a vector S of same size describing subset  indices? (★★★)"
      ]
    },
    {
      "cell_type": "code",
      "execution_count": 34,
      "id": "8929773a",
      "metadata": {
        "id": "8929773a",
        "colab": {
          "base_uri": "https://localhost:8080/"
        },
        "outputId": "ee5371ab-fc36-4f5a-dbd4-ba6a3a08e7d9"
      },
      "outputs": [
        {
          "output_type": "stream",
          "name": "stdout",
          "text": [
            "Vector D: [1 2 3 4 5 6]\n",
            "Vector S: [0 1 0 1 2 2]\n",
            "Subset Means: [2.  3.  5.5]\n"
          ]
        }
      ],
      "source": [
        "D = np.array([1, 2, 3, 4, 5, 6])\n",
        "\n",
        "S = np.array([0, 1, 0, 1, 2, 2])\n",
        "\n",
        "unique_indices = np.unique(S)\n",
        "subset_means = np.zeros(len(unique_indices))\n",
        "\n",
        "for i, index in enumerate(unique_indices):\n",
        "    subset = D[S == index]\n",
        "    subset_mean = np.mean(subset)\n",
        "    subset_means[i] = subset_mean\n",
        "\n",
        "print(\"Vector D:\", D)\n",
        "print(\"Vector S:\", S)\n",
        "print(\"Subset Means:\", subset_means)"
      ]
    },
    {
      "cell_type": "markdown",
      "id": "f90d4c40",
      "metadata": {
        "id": "f90d4c40"
      },
      "source": [
        "#### 69. How to get the diagonal of a dot product? (★★★)"
      ]
    },
    {
      "cell_type": "code",
      "execution_count": 35,
      "id": "b47d392d",
      "metadata": {
        "id": "b47d392d",
        "colab": {
          "base_uri": "https://localhost:8080/"
        },
        "outputId": "d35e35ea-102b-466c-bad3-5992f9dd0c6a"
      },
      "outputs": [
        {
          "output_type": "stream",
          "name": "stdout",
          "text": [
            "Diagonal of Dot Product:\n",
            "[30 69 90]\n"
          ]
        }
      ],
      "source": [
        "A = np.array([[1, 2, 3],[4, 5, 6],[7, 8, 9]])\n",
        "B = np.array([[9, 8, 7],[6, 5, 4],[3, 2, 1]])\n",
        "\n",
        "dot_product = np.dot(A, B)\n",
        "diagonal = np.einsum('ii->i', dot_product)\n",
        "\n",
        "print(\"Diagonal of Dot Product:\")\n",
        "print(diagonal)"
      ]
    },
    {
      "cell_type": "markdown",
      "id": "a8a97e7d",
      "metadata": {
        "id": "a8a97e7d"
      },
      "source": [
        "#### 70. Consider the vector [1, 2, 3, 4, 5], how to build a new vector with 3 consecutive zeros interleaved between each value? (★★★)"
      ]
    },
    {
      "cell_type": "code",
      "execution_count": 36,
      "id": "ee6c6c37",
      "metadata": {
        "id": "ee6c6c37",
        "colab": {
          "base_uri": "https://localhost:8080/"
        },
        "outputId": "0368b14b-977b-4975-df7c-8c494e4d5534"
      },
      "outputs": [
        {
          "output_type": "stream",
          "name": "stdout",
          "text": [
            "Original Vector: [1 2 3 4 5]\n",
            "New Vector with Consecutive Zeros: [1 0 0 0 2 0 0 0 3 0 0 0 4 0 0 0 5]\n"
          ]
        }
      ],
      "source": [
        "original_vector = np.array([1, 2, 3, 4, 5])\n",
        "num_zeros = 3\n",
        "\n",
        "new_vector = np.zeros(len(original_vector) + (len(original_vector) - 1) * num_zeros, dtype=original_vector.dtype)\n",
        "new_vector[::num_zeros + 1] = original_vector\n",
        "\n",
        "print(\"Original Vector:\", original_vector)\n",
        "print(\"New Vector with Consecutive Zeros:\", new_vector)"
      ]
    },
    {
      "cell_type": "markdown",
      "id": "d6a30d60",
      "metadata": {
        "id": "d6a30d60"
      },
      "source": [
        "#### 71. Consider an array of dimension (5,5,3), how to mulitply it by an array with dimensions (5,5)? (★★★)"
      ]
    },
    {
      "cell_type": "code",
      "execution_count": 38,
      "id": "e9703f2e",
      "metadata": {
        "id": "e9703f2e",
        "colab": {
          "base_uri": "https://localhost:8080/"
        },
        "outputId": "c8c4475f-e72c-4f98-fa8f-089cd70d581f"
      },
      "outputs": [
        {
          "output_type": "stream",
          "name": "stdout",
          "text": [
            "Array1 Shape: (5, 5, 3)\n",
            "Array2 Shape: (5, 5)\n",
            "Result: (5, 5, 3)\n"
          ]
        }
      ],
      "source": [
        "array1 = np.random.rand(5, 5, 3)\n",
        "array2 = np.random.rand(5, 5)\n",
        "result = array1 * array2[:, :, np.newaxis]\n",
        "\n",
        "print(\"Array1 Shape:\", array1.shape)\n",
        "print(\"Array2 Shape:\", array2.shape)\n",
        "print(\"Result:\", result.shape)"
      ]
    },
    {
      "cell_type": "markdown",
      "id": "bac359a9",
      "metadata": {
        "id": "bac359a9"
      },
      "source": [
        "#### 72. How to swap two rows of an array? (★★★)"
      ]
    },
    {
      "cell_type": "code",
      "execution_count": 41,
      "id": "f1b432b1",
      "metadata": {
        "id": "f1b432b1",
        "colab": {
          "base_uri": "https://localhost:8080/"
        },
        "outputId": "6be77151-6088-40f3-de63-c7d90ae12017"
      },
      "outputs": [
        {
          "output_type": "stream",
          "name": "stdout",
          "text": [
            "[[1 2 3]\n",
            " [7 8 9]\n",
            " [4 5 6]]\n"
          ]
        }
      ],
      "source": [
        "array = np.array([[1, 2, 3],[4, 5, 6],[7, 8, 9]])\n",
        "\n",
        "row1_index = 1\n",
        "row2_index = 2\n",
        "array[[row1_index, row2_index]] = array[[row2_index, row1_index]]\n",
        "\n",
        "print(array)"
      ]
    },
    {
      "cell_type": "markdown",
      "id": "620c9f83",
      "metadata": {
        "id": "620c9f83"
      },
      "source": [
        "#### 73. Consider a set of 10 triplets describing 10 triangles (with shared vertices), find the set of unique line segments composing all the  triangles (★★★)"
      ]
    },
    {
      "cell_type": "code",
      "execution_count": null,
      "id": "4e595ffc",
      "metadata": {
        "id": "4e595ffc"
      },
      "outputs": [],
      "source": []
    },
    {
      "cell_type": "markdown",
      "id": "a76c55a2",
      "metadata": {
        "id": "a76c55a2"
      },
      "source": [
        "#### 74. Given a sorted array C that corresponds to a bincount, how to produce an array A such that np.bincount(A) == C? (★★★)"
      ]
    },
    {
      "cell_type": "code",
      "execution_count": null,
      "id": "2d2ae65a",
      "metadata": {
        "id": "2d2ae65a"
      },
      "outputs": [],
      "source": [
        "C = np.array([0, 2, 2, 0, 1, 0, 0, 1])\n",
        "\n",
        "max_value = len(C) - 1\n",
        "\n",
        "A = np.repeat(np.arange(max_value + 1), C)\n",
        "\n",
        "print(\"Generated Array A:\")\n",
        "print(A)\n",
        "\n",
        "print(\"np.bincount(A):\", np.bincount(A))\n",
        "print(\"C:\", C)\n",
        "print(\"Are np.bincount(A) and C equal?\", np.array_equal(np.bincount(A), C))"
      ]
    },
    {
      "cell_type": "markdown",
      "id": "d550c8e2",
      "metadata": {
        "id": "d550c8e2"
      },
      "source": [
        "#### 75. How to compute averages using a sliding window over an array? (★★★)"
      ]
    },
    {
      "cell_type": "code",
      "execution_count": 42,
      "id": "841c457c",
      "metadata": {
        "id": "841c457c",
        "colab": {
          "base_uri": "https://localhost:8080/"
        },
        "outputId": "209ddc55-0d76-44ef-d06d-383e64e89d68"
      },
      "outputs": [
        {
          "output_type": "stream",
          "name": "stdout",
          "text": [
            "Averages: [2.0, 3.0, 4.0, 5.0, 6.0, 7.0, 8.0]\n"
          ]
        }
      ],
      "source": [
        "#GOOGLED\n",
        "arr = np.array([1, 2, 3, 4, 5, 6, 7, 8, 9])\n",
        "\n",
        "window_size = 3\n",
        "\n",
        "averages = []\n",
        "\n",
        "for i in range(len(arr) - window_size + 1):\n",
        "    window = arr[i:i+window_size]\n",
        "    average = np.mean(window)\n",
        "    averages.append(average)\n",
        "\n",
        "print(\"Averages:\", averages)"
      ]
    },
    {
      "cell_type": "markdown",
      "id": "6b170b00",
      "metadata": {
        "id": "6b170b00"
      },
      "source": [
        "#### 76. Consider a one-dimensional array Z, build a two-dimensional array whose first row is (Z[0],Z[1],Z[2]) and each subsequent row is  shifted by 1 (last row should be (Z[-3],Z[-2],Z[-1]) (★★★)"
      ]
    },
    {
      "cell_type": "code",
      "execution_count": 3,
      "id": "d9a0cf4e",
      "metadata": {
        "id": "d9a0cf4e",
        "colab": {
          "base_uri": "https://localhost:8080/"
        },
        "outputId": "13a84298-4580-4fe6-f546-a3d690f63399"
      },
      "outputs": [
        {
          "output_type": "stream",
          "name": "stdout",
          "text": [
            "[[1 2 3]\n",
            " [2 3 4]\n",
            " [3 4 5]\n",
            " [4 5 6]]\n"
          ]
        }
      ],
      "source": [
        "Z = np.array([1, 2, 3, 4, 5, 6])\n",
        "\n",
        "num_columns = 3\n",
        "\n",
        "num_rows = len(Z) - num_columns + 1\n",
        "\n",
        "result_array = np.zeros((num_rows, num_columns), dtype=int)\n",
        "\n",
        "for i in range(num_rows):\n",
        "    result_array[i] = Z[i:i+num_columns]\n",
        "\n",
        "print(result_array)"
      ]
    },
    {
      "cell_type": "markdown",
      "id": "e94a5c1d",
      "metadata": {
        "id": "e94a5c1d"
      },
      "source": [
        "#### 77. How to negate a boolean, or to change the sign of a float inplace? (★★★)"
      ]
    },
    {
      "cell_type": "code",
      "execution_count": 4,
      "id": "c0f9504f",
      "metadata": {
        "id": "c0f9504f",
        "colab": {
          "base_uri": "https://localhost:8080/"
        },
        "outputId": "79619b71-5efa-4171-dcfb-432303603f19"
      },
      "outputs": [
        {
          "output_type": "stream",
          "name": "stdout",
          "text": [
            "[False  True False]\n",
            "[-1. -2. -3.]\n"
          ]
        }
      ],
      "source": [
        "my_bool_array = np.array([True, False, True])\n",
        "\n",
        "my_bool_array = ~my_bool_array\n",
        "\n",
        "print(my_bool_array)\n",
        "\n",
        "my_float_array = np.array([1.0, 2.0, 3.0])\n",
        "\n",
        "my_float_array = -my_float_array\n",
        "\n",
        "print(my_float_array)"
      ]
    },
    {
      "cell_type": "markdown",
      "id": "4eb8b5c1",
      "metadata": {
        "id": "4eb8b5c1"
      },
      "source": [
        "#### 78. Consider 2 sets of points P0,P1 describing lines (2d) and a point p, how to compute distance from p to each line i (P0[i],P1[i])? (★★★)"
      ]
    },
    {
      "cell_type": "code",
      "execution_count": null,
      "id": "487f47ec",
      "metadata": {
        "id": "487f47ec"
      },
      "outputs": [],
      "source": []
    },
    {
      "cell_type": "markdown",
      "id": "3df99948",
      "metadata": {
        "id": "3df99948"
      },
      "source": [
        "#### 79. Consider 2 sets of points P0,P1 describing lines (2d) and a set of points P, how to compute distance from each point j (P[j]) to each line i (P0[i],P1[i])? (★★★)"
      ]
    },
    {
      "cell_type": "code",
      "execution_count": null,
      "id": "dc2df37b",
      "metadata": {
        "id": "dc2df37b"
      },
      "outputs": [],
      "source": []
    },
    {
      "cell_type": "markdown",
      "id": "11e972c2",
      "metadata": {
        "id": "11e972c2"
      },
      "source": [
        "#### 80. Consider an arbitrary array, write a function that extract a subpart with a fixed shape and centered on a given element (pad with a `fill` value when necessary) (★★★)"
      ]
    },
    {
      "cell_type": "code",
      "execution_count": null,
      "id": "0291247f",
      "metadata": {
        "id": "0291247f"
      },
      "outputs": [],
      "source": []
    },
    {
      "cell_type": "markdown",
      "id": "93cfeab3",
      "metadata": {
        "id": "93cfeab3"
      },
      "source": [
        "#### 81. Consider an array Z = [1,2,3,4,5,6,7,8,9,10,11,12,13,14], how to generate an array R = [[1,2,3,4], [2,3,4,5], [3,4,5,6], ..., [11,12,13,14]]? (★★★)"
      ]
    },
    {
      "cell_type": "code",
      "execution_count": null,
      "id": "360de791",
      "metadata": {
        "id": "360de791"
      },
      "outputs": [],
      "source": []
    },
    {
      "cell_type": "markdown",
      "id": "4c15ceff",
      "metadata": {
        "id": "4c15ceff"
      },
      "source": [
        "#### 82. Compute a matrix rank (★★★)"
      ]
    },
    {
      "cell_type": "code",
      "execution_count": null,
      "id": "9a4272d2",
      "metadata": {
        "id": "9a4272d2"
      },
      "outputs": [],
      "source": []
    },
    {
      "cell_type": "markdown",
      "id": "1171cb84",
      "metadata": {
        "id": "1171cb84"
      },
      "source": [
        "#### 83. How to find the most frequent value in an array?"
      ]
    },
    {
      "cell_type": "code",
      "execution_count": null,
      "id": "33e951c8",
      "metadata": {
        "id": "33e951c8"
      },
      "outputs": [],
      "source": []
    },
    {
      "cell_type": "markdown",
      "id": "04f472aa",
      "metadata": {
        "id": "04f472aa"
      },
      "source": [
        "#### 84. Extract all the contiguous 3x3 blocks from a random 10x10 matrix (★★★)"
      ]
    },
    {
      "cell_type": "code",
      "execution_count": null,
      "id": "7aade14a",
      "metadata": {
        "id": "7aade14a"
      },
      "outputs": [],
      "source": []
    },
    {
      "cell_type": "markdown",
      "id": "52836346",
      "metadata": {
        "id": "52836346"
      },
      "source": [
        "#### 85. Create a 2D array subclass such that Z[i,j] == Z[j,i] (★★★)"
      ]
    },
    {
      "cell_type": "code",
      "execution_count": null,
      "id": "4df70318",
      "metadata": {
        "id": "4df70318"
      },
      "outputs": [],
      "source": []
    },
    {
      "cell_type": "markdown",
      "id": "78c43ee5",
      "metadata": {
        "id": "78c43ee5"
      },
      "source": [
        "#### 86. Consider a set of p matrices with shape (n,n) and a set of p vectors with shape (n,1). How to compute the sum of of the p matrix products at once? (result has shape (n,1)) (★★★)"
      ]
    },
    {
      "cell_type": "code",
      "execution_count": null,
      "id": "32fd2c3b",
      "metadata": {
        "id": "32fd2c3b"
      },
      "outputs": [],
      "source": []
    },
    {
      "cell_type": "markdown",
      "id": "158f9945",
      "metadata": {
        "id": "158f9945"
      },
      "source": [
        "#### 87. Consider a 16x16 array, how to get the block-sum (block size is 4x4)? (★★★)"
      ]
    },
    {
      "cell_type": "code",
      "execution_count": null,
      "id": "5a9b808f",
      "metadata": {
        "id": "5a9b808f"
      },
      "outputs": [],
      "source": []
    },
    {
      "cell_type": "markdown",
      "id": "2e0ad860",
      "metadata": {
        "id": "2e0ad860"
      },
      "source": [
        "#### 88. How to implement the Game of Life using numpy arrays? (★★★)"
      ]
    },
    {
      "cell_type": "code",
      "execution_count": null,
      "id": "574acff5",
      "metadata": {
        "id": "574acff5"
      },
      "outputs": [],
      "source": []
    },
    {
      "cell_type": "markdown",
      "id": "69a892fa",
      "metadata": {
        "id": "69a892fa"
      },
      "source": [
        "#### 89. How to get the n largest values of an array (★★★)"
      ]
    },
    {
      "cell_type": "code",
      "execution_count": null,
      "id": "21b2bd48",
      "metadata": {
        "id": "21b2bd48"
      },
      "outputs": [],
      "source": []
    },
    {
      "cell_type": "markdown",
      "id": "b55ccacc",
      "metadata": {
        "id": "b55ccacc"
      },
      "source": [
        "#### 90. Given an arbitrary number of vectors, build the cartesian product (every combinations of every item) (★★★)"
      ]
    },
    {
      "cell_type": "code",
      "execution_count": null,
      "id": "4b645da4",
      "metadata": {
        "id": "4b645da4"
      },
      "outputs": [],
      "source": []
    },
    {
      "cell_type": "markdown",
      "id": "89187a23",
      "metadata": {
        "id": "89187a23"
      },
      "source": [
        "#### 91. How to create a record array from a regular array? (★★★)"
      ]
    },
    {
      "cell_type": "code",
      "execution_count": null,
      "id": "da94c71a",
      "metadata": {
        "id": "da94c71a"
      },
      "outputs": [],
      "source": []
    },
    {
      "cell_type": "markdown",
      "id": "aa70d4ca",
      "metadata": {
        "id": "aa70d4ca"
      },
      "source": [
        "#### 92. Consider a large vector Z, compute Z to the power of 3 using 3 different methods (★★★)"
      ]
    },
    {
      "cell_type": "code",
      "execution_count": null,
      "id": "7cff1bf5",
      "metadata": {
        "id": "7cff1bf5"
      },
      "outputs": [],
      "source": []
    },
    {
      "cell_type": "markdown",
      "id": "5f79dd00",
      "metadata": {
        "id": "5f79dd00"
      },
      "source": [
        "#### 93. Consider two arrays A and B of shape (8,3) and (2,2). How to find rows of A that contain elements of each row of B regardless of the order of the elements in B? (★★★)"
      ]
    },
    {
      "cell_type": "code",
      "execution_count": null,
      "id": "20c105b2",
      "metadata": {
        "id": "20c105b2"
      },
      "outputs": [],
      "source": []
    },
    {
      "cell_type": "markdown",
      "id": "a80570cd",
      "metadata": {
        "id": "a80570cd"
      },
      "source": [
        "#### 94. Considering a 10x3 matrix, extract rows with unequal values (e.g. [2,2,3]) (★★★)"
      ]
    },
    {
      "cell_type": "code",
      "execution_count": null,
      "id": "84db8de1",
      "metadata": {
        "id": "84db8de1"
      },
      "outputs": [],
      "source": []
    },
    {
      "cell_type": "markdown",
      "id": "ba154f43",
      "metadata": {
        "id": "ba154f43"
      },
      "source": [
        "#### 95. Convert a vector of ints into a matrix binary representation (★★★)"
      ]
    },
    {
      "cell_type": "code",
      "execution_count": null,
      "id": "cfa96e1b",
      "metadata": {
        "id": "cfa96e1b"
      },
      "outputs": [],
      "source": []
    },
    {
      "cell_type": "markdown",
      "id": "420e2343",
      "metadata": {
        "id": "420e2343"
      },
      "source": [
        "#### 96. Given a two dimensional array, how to extract unique rows? (★★★)"
      ]
    },
    {
      "cell_type": "code",
      "execution_count": null,
      "id": "4680dfd0",
      "metadata": {
        "id": "4680dfd0"
      },
      "outputs": [],
      "source": []
    },
    {
      "cell_type": "markdown",
      "id": "89fef2f3",
      "metadata": {
        "id": "89fef2f3"
      },
      "source": [
        "#### 97. Considering 2 vectors A & B, write the einsum equivalent of inner, outer, sum, and mul function (★★★)"
      ]
    },
    {
      "cell_type": "code",
      "execution_count": null,
      "id": "bb9c14b2",
      "metadata": {
        "id": "bb9c14b2"
      },
      "outputs": [],
      "source": []
    },
    {
      "cell_type": "markdown",
      "id": "7ad5cc5f",
      "metadata": {
        "id": "7ad5cc5f"
      },
      "source": [
        "#### 98. Considering a path described by two vectors (X,Y), how to sample it using equidistant samples (★★★)?"
      ]
    },
    {
      "cell_type": "code",
      "execution_count": null,
      "id": "0899d1d5",
      "metadata": {
        "id": "0899d1d5"
      },
      "outputs": [],
      "source": []
    },
    {
      "cell_type": "markdown",
      "id": "2b69272e",
      "metadata": {
        "id": "2b69272e"
      },
      "source": [
        "#### 99. Given an integer n and a 2D array X, select from X the rows which can be interpreted as draws from a multinomial distribution with n degrees, i.e., the rows which only contain integers and which sum to n. (★★★)"
      ]
    },
    {
      "cell_type": "code",
      "execution_count": null,
      "id": "55c8b034",
      "metadata": {
        "id": "55c8b034"
      },
      "outputs": [],
      "source": []
    },
    {
      "cell_type": "markdown",
      "id": "59ab5516",
      "metadata": {
        "id": "59ab5516"
      },
      "source": [
        "#### 100. Compute bootstrapped 95% confidence intervals for the mean of a 1D array X (i.e., resample the elements of an array with replacement N times, compute the mean of each sample, and then compute percentiles over the means). (★★★)"
      ]
    },
    {
      "cell_type": "code",
      "execution_count": null,
      "id": "450877d8",
      "metadata": {
        "id": "450877d8"
      },
      "outputs": [],
      "source": []
    }
  ],
  "metadata": {
    "colab": {
      "provenance": []
    },
    "language_info": {
      "name": "python"
    },
    "kernelspec": {
      "name": "python3",
      "display_name": "Python 3"
    }
  },
  "nbformat": 4,
  "nbformat_minor": 5
}